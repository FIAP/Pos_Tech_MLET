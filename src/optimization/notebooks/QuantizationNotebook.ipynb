{
 "cells": [
  {
   "cell_type": "markdown",
   "id": "156dd844",
   "metadata": {},
   "source": [
    "# Quantization Notebook\n",
    "This notebook demonstrates post-training dynamic quantization of a Transformer model using PyTorch."
   ]
  },
  {
   "cell_type": "code",
   "execution_count": null,
   "id": "db785c3d",
   "metadata": {},
   "outputs": [
    {
     "name": "stderr",
     "output_type": "stream",
     "text": [
      "c:\\Users\\ricar\\Github\\Pos_Tech_MLET\\src\\.venv\\Lib\\site-packages\\tqdm\\auto.py:21: TqdmWarning: IProgress not found. Please update jupyter and ipywidgets. See https://ipywidgets.readthedocs.io/en/stable/user_install.html\n",
      "  from .autonotebook import tqdm as notebook_tqdm\n",
      "c:\\Users\\ricar\\Github\\Pos_Tech_MLET\\src\\.venv\\Lib\\site-packages\\huggingface_hub\\file_download.py:144: UserWarning: `huggingface_hub` cache-system uses symlinks by default to efficiently store duplicated files but your machine does not support them in C:\\Users\\ricar\\.cache\\huggingface\\hub\\models--distilbert-base-uncased. Caching files will still work but in a degraded version that might require more space on your disk. This warning can be disabled by setting the `HF_HUB_DISABLE_SYMLINKS_WARNING` environment variable. For more details, see https://huggingface.co/docs/huggingface_hub/how-to-cache#limitations.\n",
      "To support symlinks on Windows, you either need to activate Developer Mode or to run Python as an administrator. In order to activate developer mode, see this article: https://docs.microsoft.com/en-us/windows/apps/get-started/enable-your-device-for-development\n",
      "  warnings.warn(message)\n",
      "Xet Storage is enabled for this repo, but the 'hf_xet' package is not installed. Falling back to regular HTTP download. For better performance, install the package with: `pip install huggingface_hub[hf_xet]` or `pip install hf_xet`\n"
     ]
    },
    {
     "name": "stdout",
     "output_type": "stream",
     "text": [
      "Model size (FP32): 253.18 MB\n",
      "Model size (INT8): 131.71 MB\n"
     ]
    }
   ],
   "source": [
    "import os\n",
    "import torch\n",
    "import torch.nn as nn\n",
    "from transformers import DistilBertModel, DistilBertTokenizer\n",
    "\n",
    "# Load model\n",
    "model_name = \"distilbert-base-uncased\"\n",
    "model = DistilBertModel.from_pretrained(model_name)\n",
    "model.eval()\n",
    "\n",
    "# Function to get model size\n",
    "def get_model_size_mb(model):\n",
    "    torch.save(model.state_dict(), \"temp.pth\")\n",
    "    size_mb = os.path.getsize(\"temp.pth\") / (1024*1024)\n",
    "    os.remove(\"temp.pth\")\n",
    "    return size_mb\n",
    "\n",
    "print(f\"Model size (FP32): {get_model_size_mb(model):.2f} MB\")\n",
    "\n",
    "# Dynamic quantization\n",
    "quantized_model = torch.quantization.quantize_dynamic(\n",
    "    model,\n",
    "    {nn.Linear},\n",
    "    dtype=torch.qint8\n",
    ")\n",
    "print(f\"Model size (INT8): {get_model_size_mb(quantized_model):.2f} MB\")"
   ]
  },
  {
   "cell_type": "markdown",
   "id": "55a7b0bc",
   "metadata": {},
   "source": [
    "## Inference Demonstration\n",
    "Run inference to compare outputs of FP32 and quantized models:"
   ]
  },
  {
   "cell_type": "code",
   "execution_count": 2,
   "id": "e171b124",
   "metadata": {},
   "outputs": [
    {
     "name": "stdout",
     "output_type": "stream",
     "text": [
      "FP32 output shape: torch.Size([1, 6, 768])\n",
      "INT8 output shape: torch.Size([1, 6, 768])\n"
     ]
    }
   ],
   "source": [
    "tokenizer = DistilBertTokenizer.from_pretrained(\"distilbert-base-uncased\")\n",
    "inputs = tokenizer(\"Optimization is essential!\", return_tensors=\"pt\")\n",
    "\n",
    "with torch.no_grad():\n",
    "    output_fp32 = model(**inputs)\n",
    "    output_int8 = quantized_model(**inputs)\n",
    "\n",
    "print(\"FP32 output shape:\", output_fp32.last_hidden_state.shape)\n",
    "print(\"INT8 output shape:\", output_int8.last_hidden_state.shape)"
   ]
  }
 ],
 "metadata": {
  "kernelspec": {
   "display_name": ".venv",
   "language": "python",
   "name": "python3"
  },
  "language_info": {
   "codemirror_mode": {
    "name": "ipython",
    "version": 3
   },
   "file_extension": ".py",
   "mimetype": "text/x-python",
   "name": "python",
   "nbconvert_exporter": "python",
   "pygments_lexer": "ipython3",
   "version": "3.12.10"
  }
 },
 "nbformat": 4,
 "nbformat_minor": 5
}
