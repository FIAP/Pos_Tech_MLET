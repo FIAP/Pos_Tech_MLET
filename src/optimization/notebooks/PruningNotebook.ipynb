{
 "cells": [
  {
   "cell_type": "markdown",
   "id": "802e2a9a",
   "metadata": {},
   "source": [
    "# Pruning Notebook\n",
    "This notebook demonstrates both unstructured pruning with PyTorch and structured pruning with PyTorch Lightning."
   ]
  },
  {
   "cell_type": "code",
   "execution_count": 1,
   "id": "6724729e",
   "metadata": {},
   "outputs": [
    {
     "name": "stderr",
     "output_type": "stream",
     "text": [
      "Matplotlib is building the font cache; this may take a moment.\n",
      "c:\\Users\\ricar\\Github\\Pos_Tech_MLET\\src\\.venv\\Lib\\site-packages\\tqdm\\auto.py:21: TqdmWarning: IProgress not found. Please update jupyter and ipywidgets. See https://ipywidgets.readthedocs.io/en/stable/user_install.html\n",
      "  from .autonotebook import tqdm as notebook_tqdm\n"
     ]
    },
    {
     "name": "stdout",
     "output_type": "stream",
     "text": [
      "Sparsity in fc layer: 30.00%\n"
     ]
    }
   ],
   "source": [
    "import torch\n",
    "import torch.nn as nn\n",
    "import torch.nn.utils.prune as prune\n",
    "from pytorch_lightning import Trainer, LightningModule\n",
    "from pytorch_lightning.callbacks import ModelPruning\n",
    "\n",
    "# Define a simple LightningModule\n",
    "class MyModel(LightningModule):\n",
    "    def __init__(self):\n",
    "        super().__init__()\n",
    "        self.fc = nn.Linear(128, 10)\n",
    "    def forward(self, x):\n",
    "        return self.fc(x)\n",
    "\n",
    "model = MyModel()\n",
    "\n",
    "# Unstructured pruning: prune 30% of fc weights\n",
    "prune.l1_unstructured(model.fc, name=\"weight\", amount=0.3)\n",
    "print(f\"Sparsity in fc layer: {100. * float(torch.sum(model.fc.weight == 0)) / model.fc.weight.nelement():.2f}%\")"
   ]
  },
  {
   "cell_type": "markdown",
   "id": "94724f13",
   "metadata": {},
   "source": [
    "### Structured Pruning with PyTorch Lightning"
   ]
  },
  {
   "cell_type": "code",
   "execution_count": 2,
   "id": "4395f944",
   "metadata": {},
   "outputs": [
    {
     "name": "stderr",
     "output_type": "stream",
     "text": [
      "Using default `ModelCheckpoint`. Consider installing `litmodels` package to enable `LitModelCheckpoint` for automatic upload to the Lightning model registry.\n",
      "GPU available: False, used: False\n",
      "TPU available: False, using: 0 TPU cores\n",
      "HPU available: False, using: 0 HPUs\n"
     ]
    },
    {
     "name": "stdout",
     "output_type": "stream",
     "text": [
      "ModelPruning callback configured for 50% global sparsity.\n"
     ]
    },
    {
     "name": "stderr",
     "output_type": "stream",
     "text": [
      "c:\\Users\\ricar\\Github\\Pos_Tech_MLET\\src\\.venv\\Lib\\site-packages\\pytorch_lightning\\trainer\\connectors\\logger_connector\\logger_connector.py:76: Starting from v1.9.0, `tensorboardX` has been removed as a dependency of the `pytorch_lightning` package, due to potential conflicts with other packages in the ML ecosystem. For this reason, `logger=True` will use `CSVLogger` as the default logger, unless the `tensorboard` or `tensorboardX` packages are found. Please `pip install lightning[extra]` or one of them to enable TensorBoard support by default\n"
     ]
    }
   ],
   "source": [
    "# Using Lightning's ModelPruning callback\n",
    "model = MyModel()\n",
    "trainer = Trainer(callbacks=[ModelPruning(\"l1_unstructured\", amount=0.5)], max_epochs=1)\n",
    "print(\"ModelPruning callback configured for 50% global sparsity.\")"
   ]
  }
 ],
 "metadata": {
  "kernelspec": {
   "display_name": ".venv",
   "language": "python",
   "name": "python3"
  },
  "language_info": {
   "codemirror_mode": {
    "name": "ipython",
    "version": 3
   },
   "file_extension": ".py",
   "mimetype": "text/x-python",
   "name": "python",
   "nbconvert_exporter": "python",
   "pygments_lexer": "ipython3",
   "version": "3.12.10"
  }
 },
 "nbformat": 4,
 "nbformat_minor": 5
}
