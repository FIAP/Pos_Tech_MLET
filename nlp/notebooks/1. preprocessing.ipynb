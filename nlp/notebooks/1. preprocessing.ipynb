{
 "cells": [
  {
   "cell_type": "markdown",
   "metadata": {},
   "source": [
    "## NLP\n",
    "### Pré processamento de texto\n",
    "<b>Objetivo: </b> Entender porque preprocessamentos são importantes para tarefas envolvendo texto e como limpar o texto.\n",
    "<br><b>Autora:</b> Renata Gotler"
   ]
  },
  {
   "cell_type": "markdown",
   "metadata": {},
   "source": [
    "Ao longo da disciplina de NLP (Natural Language Preprocessing), estaremos usando os dados das disponibilizados da americanas. Esse dataset contém as informações das avaliações dos produtos, como comentário, número de estrelas e mais. \n",
    "<br> Nessa primeira aula, vamos explorar o texto das avaliações, entender o porque a limpeza dos dados é importante e como realizá-la. Dessa forma, nessa aula focaremos nos comentários sobre os produtos."
   ]
  },
  {
   "cell_type": "code",
   "execution_count": 1,
   "metadata": {},
   "outputs": [],
   "source": [
    "import pandas as pd"
   ]
  },
  {
   "cell_type": "code",
   "execution_count": 2,
   "metadata": {},
   "outputs": [],
   "source": [
    "%load_ext autoreload\n",
    "%autoreload 2"
   ]
  },
  {
   "cell_type": "code",
   "execution_count": 3,
   "metadata": {},
   "outputs": [
    {
     "name": "stderr",
     "output_type": "stream",
     "text": [
      "/tmp/ipykernel_7275/3631190906.py:3: DtypeWarning: Columns (2) have mixed types. Specify dtype option on import or set low_memory=False.\n",
      "  df_reviews = pd.read_csv(url)\n"
     ]
    }
   ],
   "source": [
    "url = 'https://raw.githubusercontent.com/americanas-tech/b2w-reviews01/main/B2W-Reviews01.csv'\n",
    "\n",
    "df_reviews = pd.read_csv(url)"
   ]
  },
  {
   "cell_type": "code",
   "execution_count": 4,
   "metadata": {},
   "outputs": [
    {
     "data": {
      "text/html": [
       "<div>\n",
       "<style scoped>\n",
       "    .dataframe tbody tr th:only-of-type {\n",
       "        vertical-align: middle;\n",
       "    }\n",
       "\n",
       "    .dataframe tbody tr th {\n",
       "        vertical-align: top;\n",
       "    }\n",
       "\n",
       "    .dataframe thead th {\n",
       "        text-align: right;\n",
       "    }\n",
       "</style>\n",
       "<table border=\"1\" class=\"dataframe\">\n",
       "  <thead>\n",
       "    <tr style=\"text-align: right;\">\n",
       "      <th></th>\n",
       "      <th>submission_date</th>\n",
       "      <th>reviewer_id</th>\n",
       "      <th>product_id</th>\n",
       "      <th>product_name</th>\n",
       "      <th>product_brand</th>\n",
       "      <th>site_category_lv1</th>\n",
       "      <th>site_category_lv2</th>\n",
       "      <th>review_title</th>\n",
       "      <th>overall_rating</th>\n",
       "      <th>recommend_to_a_friend</th>\n",
       "      <th>review_text</th>\n",
       "      <th>reviewer_birth_year</th>\n",
       "      <th>reviewer_gender</th>\n",
       "      <th>reviewer_state</th>\n",
       "    </tr>\n",
       "  </thead>\n",
       "  <tbody>\n",
       "    <tr>\n",
       "      <th>0</th>\n",
       "      <td>2018-01-01 00:11:28</td>\n",
       "      <td>d0fb1ca69422530334178f5c8624aa7a99da47907c44de...</td>\n",
       "      <td>132532965</td>\n",
       "      <td>Notebook Asus Vivobook Max X541NA-GO472T Intel...</td>\n",
       "      <td>NaN</td>\n",
       "      <td>Informática</td>\n",
       "      <td>Notebook</td>\n",
       "      <td>Bom</td>\n",
       "      <td>4</td>\n",
       "      <td>Yes</td>\n",
       "      <td>Estou contente com a compra entrega rápida o ú...</td>\n",
       "      <td>1958.0</td>\n",
       "      <td>F</td>\n",
       "      <td>RJ</td>\n",
       "    </tr>\n",
       "    <tr>\n",
       "      <th>1</th>\n",
       "      <td>2018-01-01 00:13:48</td>\n",
       "      <td>014d6dc5a10aed1ff1e6f349fb2b059a2d3de511c7538a...</td>\n",
       "      <td>22562178</td>\n",
       "      <td>Copo Acrílico Com Canudo 500ml Rocie</td>\n",
       "      <td>NaN</td>\n",
       "      <td>Utilidades Domésticas</td>\n",
       "      <td>Copos, Taças e Canecas</td>\n",
       "      <td>Preço imbatível, ótima qualidade</td>\n",
       "      <td>4</td>\n",
       "      <td>Yes</td>\n",
       "      <td>Por apenas R$1994.20,eu consegui comprar esse ...</td>\n",
       "      <td>1996.0</td>\n",
       "      <td>M</td>\n",
       "      <td>SC</td>\n",
       "    </tr>\n",
       "    <tr>\n",
       "      <th>2</th>\n",
       "      <td>2018-01-01 00:26:02</td>\n",
       "      <td>44f2c8edd93471926fff601274b8b2b5c4824e386ae4f2...</td>\n",
       "      <td>113022329</td>\n",
       "      <td>Panela de Pressão Elétrica Philips Walita Dail...</td>\n",
       "      <td>philips walita</td>\n",
       "      <td>Eletroportáteis</td>\n",
       "      <td>Panela Elétrica</td>\n",
       "      <td>ATENDE TODAS AS EXPECTATIVA.</td>\n",
       "      <td>4</td>\n",
       "      <td>Yes</td>\n",
       "      <td>SUPERA EM AGILIDADE E PRATICIDADE OUTRAS PANEL...</td>\n",
       "      <td>1984.0</td>\n",
       "      <td>M</td>\n",
       "      <td>SP</td>\n",
       "    </tr>\n",
       "    <tr>\n",
       "      <th>3</th>\n",
       "      <td>2018-01-01 00:35:54</td>\n",
       "      <td>ce741665c1764ab2d77539e18d0e4f66dde6213c9f0863...</td>\n",
       "      <td>113851581</td>\n",
       "      <td>Betoneira Columbus - Roma Brinquedos</td>\n",
       "      <td>roma jensen</td>\n",
       "      <td>Brinquedos</td>\n",
       "      <td>Veículos de Brinquedo</td>\n",
       "      <td>presente mais que desejado</td>\n",
       "      <td>4</td>\n",
       "      <td>Yes</td>\n",
       "      <td>MEU FILHO AMOU! PARECE DE VERDADE COM TANTOS D...</td>\n",
       "      <td>1985.0</td>\n",
       "      <td>F</td>\n",
       "      <td>SP</td>\n",
       "    </tr>\n",
       "    <tr>\n",
       "      <th>4</th>\n",
       "      <td>2018-01-01 01:00:28</td>\n",
       "      <td>7d7b6b18dda804a897359276cef0ca252f9932bf4b5c8e...</td>\n",
       "      <td>131788803</td>\n",
       "      <td>Smart TV LED 43\" LG 43UJ6525 Ultra HD 4K com C...</td>\n",
       "      <td>lg</td>\n",
       "      <td>TV e Home Theater</td>\n",
       "      <td>TV</td>\n",
       "      <td>Sem duvidas, excelente</td>\n",
       "      <td>5</td>\n",
       "      <td>Yes</td>\n",
       "      <td>A entrega foi no prazo, as americanas estão de...</td>\n",
       "      <td>1994.0</td>\n",
       "      <td>M</td>\n",
       "      <td>MG</td>\n",
       "    </tr>\n",
       "  </tbody>\n",
       "</table>\n",
       "</div>"
      ],
      "text/plain": [
       "       submission_date                                        reviewer_id  \\\n",
       "0  2018-01-01 00:11:28  d0fb1ca69422530334178f5c8624aa7a99da47907c44de...   \n",
       "1  2018-01-01 00:13:48  014d6dc5a10aed1ff1e6f349fb2b059a2d3de511c7538a...   \n",
       "2  2018-01-01 00:26:02  44f2c8edd93471926fff601274b8b2b5c4824e386ae4f2...   \n",
       "3  2018-01-01 00:35:54  ce741665c1764ab2d77539e18d0e4f66dde6213c9f0863...   \n",
       "4  2018-01-01 01:00:28  7d7b6b18dda804a897359276cef0ca252f9932bf4b5c8e...   \n",
       "\n",
       "  product_id                                       product_name  \\\n",
       "0  132532965  Notebook Asus Vivobook Max X541NA-GO472T Intel...   \n",
       "1   22562178               Copo Acrílico Com Canudo 500ml Rocie   \n",
       "2  113022329  Panela de Pressão Elétrica Philips Walita Dail...   \n",
       "3  113851581               Betoneira Columbus - Roma Brinquedos   \n",
       "4  131788803  Smart TV LED 43\" LG 43UJ6525 Ultra HD 4K com C...   \n",
       "\n",
       "    product_brand      site_category_lv1       site_category_lv2  \\\n",
       "0             NaN            Informática                Notebook   \n",
       "1             NaN  Utilidades Domésticas  Copos, Taças e Canecas   \n",
       "2  philips walita        Eletroportáteis         Panela Elétrica   \n",
       "3     roma jensen             Brinquedos   Veículos de Brinquedo   \n",
       "4              lg      TV e Home Theater                      TV   \n",
       "\n",
       "                       review_title  overall_rating recommend_to_a_friend  \\\n",
       "0                               Bom               4                   Yes   \n",
       "1  Preço imbatível, ótima qualidade               4                   Yes   \n",
       "2      ATENDE TODAS AS EXPECTATIVA.               4                   Yes   \n",
       "3        presente mais que desejado               4                   Yes   \n",
       "4            Sem duvidas, excelente               5                   Yes   \n",
       "\n",
       "                                         review_text  reviewer_birth_year  \\\n",
       "0  Estou contente com a compra entrega rápida o ú...               1958.0   \n",
       "1  Por apenas R$1994.20,eu consegui comprar esse ...               1996.0   \n",
       "2  SUPERA EM AGILIDADE E PRATICIDADE OUTRAS PANEL...               1984.0   \n",
       "3  MEU FILHO AMOU! PARECE DE VERDADE COM TANTOS D...               1985.0   \n",
       "4  A entrega foi no prazo, as americanas estão de...               1994.0   \n",
       "\n",
       "  reviewer_gender reviewer_state  \n",
       "0               F             RJ  \n",
       "1               M             SC  \n",
       "2               M             SP  \n",
       "3               F             SP  \n",
       "4               M             MG  "
      ]
     },
     "execution_count": 4,
     "metadata": {},
     "output_type": "execute_result"
    }
   ],
   "source": [
    "df_reviews.head()"
   ]
  },
  {
   "cell_type": "markdown",
   "metadata": {},
   "source": [
    "Abaixo podemos ver que:\n",
    "- Temos um total de 132.373 avaliações. No entanto, review_text possui nulos, vamos começar tirando essas avaliações sem texto, visto que não podemos classificar sentimento de um texto inexistente. \n",
    "- Overall rating já está como inteiro, então não precisamos transformar essa coluna."
   ]
  },
  {
   "cell_type": "code",
   "execution_count": 5,
   "metadata": {},
   "outputs": [
    {
     "name": "stdout",
     "output_type": "stream",
     "text": [
      "<class 'pandas.core.frame.DataFrame'>\n",
      "RangeIndex: 132373 entries, 0 to 132372\n",
      "Data columns (total 14 columns):\n",
      " #   Column                 Non-Null Count   Dtype  \n",
      "---  ------                 --------------   -----  \n",
      " 0   submission_date        132373 non-null  object \n",
      " 1   reviewer_id            132373 non-null  object \n",
      " 2   product_id             132373 non-null  object \n",
      " 3   product_name           132289 non-null  object \n",
      " 4   product_brand          40982 non-null   object \n",
      " 5   site_category_lv1      132367 non-null  object \n",
      " 6   site_category_lv2      128360 non-null  object \n",
      " 7   review_title           132071 non-null  object \n",
      " 8   overall_rating         132373 non-null  int64  \n",
      " 9   recommend_to_a_friend  132355 non-null  object \n",
      " 10  review_text            129098 non-null  object \n",
      " 11  reviewer_birth_year    126389 non-null  float64\n",
      " 12  reviewer_gender        128237 non-null  object \n",
      " 13  reviewer_state         128382 non-null  object \n",
      "dtypes: float64(1), int64(1), object(12)\n",
      "memory usage: 14.1+ MB\n"
     ]
    }
   ],
   "source": [
    "df_reviews.info()"
   ]
  },
  {
   "cell_type": "code",
   "execution_count": 6,
   "metadata": {},
   "outputs": [],
   "source": [
    "df_reviews = df_reviews[[\"review_text\", \"overall_rating\"]].dropna()"
   ]
  },
  {
   "cell_type": "markdown",
   "metadata": {},
   "source": [
    "Abaixo já conseguimos ter uma ideia do que nos espera, mistura de letras maiúsculas com minúsculas, cada pessoa com um estilo de escrita diferente. O que mais podemos esperar? "
   ]
  },
  {
   "cell_type": "code",
   "execution_count": 7,
   "metadata": {},
   "outputs": [
    {
     "data": {
      "text/html": [
       "<div>\n",
       "<style scoped>\n",
       "    .dataframe tbody tr th:only-of-type {\n",
       "        vertical-align: middle;\n",
       "    }\n",
       "\n",
       "    .dataframe tbody tr th {\n",
       "        vertical-align: top;\n",
       "    }\n",
       "\n",
       "    .dataframe thead th {\n",
       "        text-align: right;\n",
       "    }\n",
       "</style>\n",
       "<table border=\"1\" class=\"dataframe\">\n",
       "  <thead>\n",
       "    <tr style=\"text-align: right;\">\n",
       "      <th></th>\n",
       "      <th>review_text</th>\n",
       "      <th>overall_rating</th>\n",
       "    </tr>\n",
       "  </thead>\n",
       "  <tbody>\n",
       "    <tr>\n",
       "      <th>0</th>\n",
       "      <td>Estou contente com a compra entrega rápida o ú...</td>\n",
       "      <td>4</td>\n",
       "    </tr>\n",
       "    <tr>\n",
       "      <th>1</th>\n",
       "      <td>Por apenas R$1994.20,eu consegui comprar esse ...</td>\n",
       "      <td>4</td>\n",
       "    </tr>\n",
       "    <tr>\n",
       "      <th>2</th>\n",
       "      <td>SUPERA EM AGILIDADE E PRATICIDADE OUTRAS PANEL...</td>\n",
       "      <td>4</td>\n",
       "    </tr>\n",
       "    <tr>\n",
       "      <th>3</th>\n",
       "      <td>MEU FILHO AMOU! PARECE DE VERDADE COM TANTOS D...</td>\n",
       "      <td>4</td>\n",
       "    </tr>\n",
       "    <tr>\n",
       "      <th>4</th>\n",
       "      <td>A entrega foi no prazo, as americanas estão de...</td>\n",
       "      <td>5</td>\n",
       "    </tr>\n",
       "  </tbody>\n",
       "</table>\n",
       "</div>"
      ],
      "text/plain": [
       "                                         review_text  overall_rating\n",
       "0  Estou contente com a compra entrega rápida o ú...               4\n",
       "1  Por apenas R$1994.20,eu consegui comprar esse ...               4\n",
       "2  SUPERA EM AGILIDADE E PRATICIDADE OUTRAS PANEL...               4\n",
       "3  MEU FILHO AMOU! PARECE DE VERDADE COM TANTOS D...               4\n",
       "4  A entrega foi no prazo, as americanas estão de...               5"
      ]
     },
     "execution_count": 7,
     "metadata": {},
     "output_type": "execute_result"
    }
   ],
   "source": [
    "df_reviews.head()"
   ]
  },
  {
   "cell_type": "markdown",
   "metadata": {},
   "source": [
    "Os algoritmos de machine learning entendem somente números, não texto. Dessa forma, precisamos criar representações vetoriais numéricas para que o algoritmo aprende padrões e consiga fazer inferências sobre dados novos. \n",
    "<br>O primeiro passo para isso é quebrarmos o texto em unidades menores, chamadas tokens. Podemos realizar essa operação de várias formas: por caracter, palavra ou subpalavra, por exemplo.\n",
    "<br><b> O principal objetivo da tokenização é criar um vocabulário mínimo que reduza a quantidade de palavras desconhecidas.</b>"
   ]
  },
  {
   "cell_type": "markdown",
   "metadata": {},
   "source": [
    "#### Tokenização\n",
    "Vamos começar um exercício, quebrando o nosso texto de diversas formas diferentes e comparando o vocabulário que teríamos."
   ]
  },
  {
   "cell_type": "code",
   "execution_count": 8,
   "metadata": {},
   "outputs": [],
   "source": [
    "import nltk\n",
    "import itertools\n",
    "\n",
    "from transformers import BertTokenizer\n",
    "from nltk import word_tokenize\n",
    "\n",
    "from src.utils import count_tokens\n",
    "\n",
    "nltk.download(\"punkt\")\n",
    "nltk.download(\"rslp\")\n",
    "nltk.download(\"stopwords\")"
   ]
  },
  {
   "cell_type": "code",
   "execution_count": 9,
   "metadata": {},
   "outputs": [],
   "source": [
    "count_vocab = {}"
   ]
  },
  {
   "cell_type": "markdown",
   "metadata": {},
   "source": [
    "##### Tokenização por caracter"
   ]
  },
  {
   "cell_type": "markdown",
   "metadata": {},
   "source": [
    "Podemos fazer a separação mais simples de todas: por caracter, isso reduziria bastante nosso vocabulário, certo? Temos um máximo que podemos atingir, que é a quantidade de letras no alfabeto * 2 (maiúscula e minúscula) + variações de acentuação + pontuação + caracteres especiais, mas não vai tão além disso... "
   ]
  },
  {
   "cell_type": "code",
   "execution_count": 10,
   "metadata": {},
   "outputs": [
    {
     "data": {
      "text/plain": [
       "0         [E, s, t, o, u,  , c, o, n, t, e, n, t, e,  , ...\n",
       "1         [P, o, r,  , a, p, e, n, a, s,  , R, $, 1, 9, ...\n",
       "2         [S, U, P, E, R, A,  , E, M,  , A, G, I, L, I, ...\n",
       "3         [M, E, U,  , F, I, L, H, O,  , A, M, O, U, !, ...\n",
       "4         [A,  , e, n, t, r, e, g, a,  , f, o, i,  , n, ...\n",
       "                                ...                        \n",
       "132368    [V, a, l, e,  , m, u, i, t, o, ,,  , e, s, t, ...\n",
       "132369    [P, r, á, t, i, c, o,  , e,  , b, a, r, a, t, ...\n",
       "132370    [C, h, e, g, o, u,  , a, n, t, e, s,  , d, o, ...\n",
       "132371    [M, a, t, e, r, i, a, l,  , f, r, a, c, o, ,, ...\n",
       "132372    [C, o, m, p, r, e, i,  , e, s, s, e,  , p, r, ...\n",
       "Name: token_caracter, Length: 129098, dtype: object"
      ]
     },
     "execution_count": 10,
     "metadata": {},
     "output_type": "execute_result"
    }
   ],
   "source": [
    "df_reviews[\"token_caracter\"] = df_reviews[\"review_text\"].apply(lambda x: list(x))\n",
    "df_reviews[\"token_caracter\"]"
   ]
  },
  {
   "cell_type": "markdown",
   "metadata": {},
   "source": [
    "Podemos ver que o espaço foi o caracter com maior frequência, seguido por vogais, as menos frequentes foram símbolos, o que faz bastante sentido. No total, nosso vocabulário ficou com tamanho 212."
   ]
  },
  {
   "cell_type": "code",
   "execution_count": 11,
   "metadata": {},
   "outputs": [
    {
     "name": "stdout",
     "output_type": "stream",
     "text": [
      "Tamanho do vocabulário total: 212\n"
     ]
    },
    {
     "data": {
      "text/plain": [
       "[(' ', 2892807), ('e', 1638340), ('o', 1554108), ('a', 1504508), ('r', 891104)]"
      ]
     },
     "execution_count": 11,
     "metadata": {},
     "output_type": "execute_result"
    }
   ],
   "source": [
    "caracter_counter = count_tokens(df=df_reviews, token_col=\"token_caracter\")\n",
    "count_vocab[\"caracter_counter\"] = len(caracter_counter)\n",
    "caracter_counter.most_common(5)"
   ]
  },
  {
   "cell_type": "code",
   "execution_count": 12,
   "metadata": {},
   "outputs": [
    {
     "data": {
      "text/plain": [
       "[('{', 1), ('}', 1), ('͜', 1), ('ʖ', 1), ('ķ', 1)]"
      ]
     },
     "execution_count": 12,
     "metadata": {},
     "output_type": "execute_result"
    }
   ],
   "source": [
    "caracter_counter.most_common()[-5:]"
   ]
  },
  {
   "cell_type": "markdown",
   "metadata": {},
   "source": [
    "Vamos olhar esses caracteres especiais? Aparentemente aqule caracter especial ķ foi um erro de digitação no meio dos k que representam uma risada, enquanto o ʖ é o nariz de um rosto. Começamos a perceber melhor porque limpar os dados, não é mesmo?"
   ]
  },
  {
   "cell_type": "code",
   "execution_count": 13,
   "metadata": {},
   "outputs": [
    {
     "data": {
      "text/plain": [
       "'Ótimo produto.. Indico para todos! Muito show.  Kkkkkķkkkkk'"
      ]
     },
     "execution_count": 13,
     "metadata": {},
     "output_type": "execute_result"
    }
   ],
   "source": [
    "df_reviews[df_reviews[\"review_text\"].str.contains('ķ')][\"review_text\"].iloc[0]"
   ]
  },
  {
   "cell_type": "code",
   "execution_count": 14,
   "metadata": {},
   "outputs": [
    {
     "data": {
      "text/plain": [
       "'Gostei muito, sempre que estou em perigo Tony vem me salvar com aquela linda musica do AC/DC. Recomendo muito este produto. Aquela armadura faz horrores gente ( ͡° ͜ʖ ͡°)'"
      ]
     },
     "execution_count": 14,
     "metadata": {},
     "output_type": "execute_result"
    }
   ],
   "source": [
    "df_reviews[df_reviews[\"review_text\"].str.contains('ʖ')][\"review_text\"].iloc[0]"
   ]
  },
  {
   "cell_type": "markdown",
   "metadata": {},
   "source": [
    "É um excelente número de vocabulário, no entanto você já deve saber o problema em dividir o texto dessa forma: é difícil de extrair padrões, relações entre as palavras, porque primeiro o algoritmo vai ter que aprender a \"remontar\" a palavra. A letra por si só não trás informação, com isso, perdemos muita informação. É por isso que essa forma de tokenização não é muito usada na prática."
   ]
  },
  {
   "cell_type": "markdown",
   "metadata": {},
   "source": [
    "##### Tokenização por palavra"
   ]
  },
  {
   "cell_type": "markdown",
   "metadata": {},
   "source": [
    "Uma forma bastante usada de tokenização é por palavra, conseguimos extrair padrões do texto através delas. Vamos ver na prática?"
   ]
  },
  {
   "cell_type": "code",
   "execution_count": 15,
   "metadata": {},
   "outputs": [
    {
     "data": {
      "text/plain": [
       "0         [Estou, contente, com, a, compra, entrega, ráp...\n",
       "1         [Por, apenas, R, $, 1994.20, ,, eu, consegui, ...\n",
       "2         [SUPERA, EM, AGILIDADE, E, PRATICIDADE, OUTRAS...\n",
       "3         [MEU, FILHO, AMOU, !, PARECE, DE, VERDADE, COM...\n",
       "4         [A, entrega, foi, no, prazo, ,, as, americanas...\n",
       "                                ...                        \n",
       "132368    [Vale, muito, ,, estou, usando, no, controle, ...\n",
       "132369    [Prático, e, barato, ,, super, indico, o, prod...\n",
       "132370    [Chegou, antes, do, prazo, previsto, e, corres...\n",
       "132371    [Material, fraco, ,, poderia, ser, melhor, ., ...\n",
       "132372    [Comprei, esse, produto, ,, quando, chegou, es...\n",
       "Name: token_word, Length: 129098, dtype: object"
      ]
     },
     "execution_count": 15,
     "metadata": {},
     "output_type": "execute_result"
    }
   ],
   "source": [
    "df_reviews[\"token_word\"] = df_reviews[\"review_text\"].apply(lambda x: word_tokenize(x))\n",
    "df_reviews[\"token_word\"]"
   ]
  },
  {
   "cell_type": "markdown",
   "metadata": {},
   "source": [
    "Podemos ver abaixo que nosso vocabulário aumentou significativamente, certo? De 212 fomos para 75.717! Cada variação teve seu próprio token, temos um token para A, outro para a, outro para as, outro para AS, e assim por diante, mas todos esses tokens tem o mesmo significado, podemos reduzir nosso vocabulário."
   ]
  },
  {
   "cell_type": "code",
   "execution_count": 16,
   "metadata": {},
   "outputs": [
    {
     "name": "stdout",
     "output_type": "stream",
     "text": [
      "Tamanho do vocabulário total: 75717\n"
     ]
    },
    {
     "data": {
      "text/plain": [
       "[(',', 175846), ('.', 175179), ('e', 95567), ('o', 82453), ('de', 80880)]"
      ]
     },
     "execution_count": 16,
     "metadata": {},
     "output_type": "execute_result"
    }
   ],
   "source": [
    "word_counter = count_tokens(df=df_reviews, token_col=\"token_word\")\n",
    "count_vocab[\"word_counter\"] = len(word_counter)\n",
    "word_counter.most_common(5)"
   ]
  },
  {
   "cell_type": "code",
   "execution_count": 17,
   "metadata": {},
   "outputs": [
    {
     "data": {
      "text/plain": [
       "[('NY', 1), ('largam', 1), ('21kilis', 1), ('1metro', 1), ('fortinha', 1)]"
      ]
     },
     "execution_count": 17,
     "metadata": {},
     "output_type": "execute_result"
    }
   ],
   "source": [
    "word_counter.most_common()[-5:]"
   ]
  },
  {
   "cell_type": "markdown",
   "metadata": {},
   "source": [
    "##### Tokenização por subpalavra"
   ]
  },
  {
   "cell_type": "markdown",
   "metadata": {},
   "source": [
    "E se pudessemos fazer um intermediário entre a tokenização por caracter e por palavra? Podemos reduzir o vocabulário sem perder tanta informação usando a tokenização por subpalavra, que é bastante utilizada em modelos pré-treinados mais complexos, como vamos ver nas próximas aulas. Nessa aula vamos mostrar como exemplo a tokenização por subpalavra usada no Bert, que é a WordPiece."
   ]
  },
  {
   "cell_type": "code",
   "execution_count": 18,
   "metadata": {},
   "outputs": [],
   "source": [
    "bert_tokenizer = BertTokenizer.from_pretrained(\n",
    "    'neuralmind/bert-base-portuguese-cased',\n",
    "    do_lower_case=True\n",
    ")"
   ]
  },
  {
   "cell_type": "code",
   "execution_count": 19,
   "metadata": {},
   "outputs": [
    {
     "data": {
      "text/plain": [
       "0         [estou, conte, ##nte, com, a, compra, entrega,...\n",
       "1         [por, apenas, r, $, 1994, ., 20, ,, eu, conseg...\n",
       "2         [supera, em, ag, ##ilidade, e, pratic, ##idade...\n",
       "3         [meu, filho, amo, ##u, !, parece, de, verdade,...\n",
       "4         [a, entrega, foi, no, prazo, ,, as, americanas...\n",
       "                                ...                        \n",
       "132368    [vale, muito, ,, estou, usando, no, controle, ...\n",
       "132369    [pratic, ##o, e, bara, ##to, ,, super, indic, ...\n",
       "132370    [chegou, antes, do, prazo, previsto, e, corres...\n",
       "132371    [material, fraco, ,, poderia, ser, melhor, ., ...\n",
       "132372    [compre, ##i, esse, produto, ,, quando, chegou...\n",
       "Name: token_subword, Length: 129098, dtype: object"
      ]
     },
     "execution_count": 19,
     "metadata": {},
     "output_type": "execute_result"
    }
   ],
   "source": [
    "df_reviews[\"token_subword\"] = df_reviews[\"review_text\"].apply(lambda x: bert_tokenizer.tokenize(x))\n",
    "df_reviews[\"token_subword\"]"
   ]
  },
  {
   "cell_type": "markdown",
   "metadata": {},
   "source": [
    "11259 tokens! Muito melhor né?\n",
    "<br> Percebam que abaixo já fizemos uma limpeza muito comum, que é de transformar o texto para letra minúscula, o que já homogeniza bastante os dados.\n",
    "<br>Percebam também que abaixo vários tokens puderam ser agrupados usando o método da subpalavra.\n",
    "<br>Exemplo: \"produto\" foi quebrado em um token, enquanto temos outro token para \"##s\". Dessa forma, mesmo uma palavra no plural ou no singular, conseguimos agrupá-la, tratando com um token o que representa a mesma coisa, e outro que contém a informação se é plural ou singular.\n",
    "<br>O mesmo acontece com vários outros tokens que conterão informações diferentes, como masculino e feminino, verbos e outros. Acima conseguimos ver um exemplo de divisão de verbo, onde um token foi dedicado a \"compre\" e outro para \"##i\", e um para \"amo\" e outro para \"##u\". As subpalavras sempre terão os ## no início, um padrão do WordPiece, que ajuda depois a voltarmos para a palavra original."
   ]
  },
  {
   "cell_type": "code",
   "execution_count": 20,
   "metadata": {},
   "outputs": [
    {
     "name": "stdout",
     "output_type": "stream",
     "text": [
      "Tamanho do vocabulário total: 11259\n"
     ]
    },
    {
     "data": {
      "text/plain": [
       "[('.', 344998), ('##o', 179916), (',', 177398), ('e', 151051), ('o', 104337)]"
      ]
     },
     "execution_count": 20,
     "metadata": {},
     "output_type": "execute_result"
    }
   ],
   "source": [
    "subword_counter = count_tokens(df=df_reviews, token_col=\"token_subword\")\n",
    "count_vocab[\"subword_counter\"] = len(subword_counter)\n",
    "subword_counter.most_common(5)"
   ]
  },
  {
   "cell_type": "code",
   "execution_count": 21,
   "metadata": {},
   "outputs": [
    {
     "data": {
      "text/plain": [
       "[('pertencia', 1), ('##gaz', 1), ('hec', 1), ('ergue', 1), ('regressa', 1)]"
      ]
     },
     "execution_count": 21,
     "metadata": {},
     "output_type": "execute_result"
    }
   ],
   "source": [
    "subword_counter.most_common()[-5:]"
   ]
  },
  {
   "cell_type": "markdown",
   "metadata": {},
   "source": [
    "As subpalavras ajudam bastante porque conseguem manter informação ao mesmo tempo que agrupam de forma eficiente os tokens, reduzindo o vocabulário."
   ]
  },
  {
   "cell_type": "markdown",
   "metadata": {},
   "source": [
    "#### Técnicas de normalização ou homogenização de texto\n",
    "Para fins didáticos, vamos seguir olhando a contagem de vocabulário por palavra para demonstrar a diferença das transformações aplicadas. Percebam que ao mesmo tempo que vamos limpando o texto, também é possível que a transformação faça com que percamos parte de informação, que pode ou não ser relevante dependendo do problema e a forma que formos tratar ele."
   ]
  },
  {
   "cell_type": "code",
   "execution_count": 22,
   "metadata": {},
   "outputs": [],
   "source": [
    "import re\n",
    "import spacy\n",
    "\n",
    "from src.preprocessing import TextPreprocessing\n",
    "\n",
    "prep = TextPreprocessing()"
   ]
  },
  {
   "cell_type": "markdown",
   "metadata": {},
   "source": [
    "##### Transformar o texto para letra minúscula"
   ]
  },
  {
   "cell_type": "markdown",
   "metadata": {},
   "source": [
    "Normalizar o texto para minúsculo faz com que tokens sejam agrupados independente de teremos letras maiúscula ou minúscula. Essa é uma técnica muito utilizada e funciona bem para grande parte dos casos. <br> Você consegue imaginar quando é importante essa distinção? Podemos pensar em pessoas que usam as letras maiúsculas para expressar um sentimento ruim, quando estão \"gritando\", ou em problemas de reconhecimento de entidades nomeadas, organizações e nomes próprios geralmente começam com maiúscula."
   ]
  },
  {
   "cell_type": "code",
   "execution_count": 23,
   "metadata": {},
   "outputs": [
    {
     "name": "stdout",
     "output_type": "stream",
     "text": [
      "Tamanho do vocabulário total: 59363\n"
     ]
    }
   ],
   "source": [
    "df_reviews[\"cleaned_text\"] = df_reviews[\"review_text\"].apply(lambda x: x.lower())\n",
    "df_reviews[\"cleaned_text_tokenized\"] = df_reviews[\"cleaned_text\"].apply(lambda x: word_tokenize(x))\n",
    "lower_word_count = count_tokens(df=df_reviews, token_col=\"cleaned_text_tokenized\")\n",
    "count_vocab[\"lower_word_count\"] = len(lower_word_count)"
   ]
  },
  {
   "cell_type": "markdown",
   "metadata": {},
   "source": [
    "Reduzimos bastante nosso vocabulário, né? de 75k para 60k."
   ]
  },
  {
   "cell_type": "markdown",
   "metadata": {},
   "source": [
    "##### Remover pontuação\n",
    "Remover pontuação também nos ajuda a reduzir o vocabulário. Que nem comentamos, as limpezas também fazem com que percamos informação, aqui podemos perder informação sobre separação de sentença, vários ! podem indicar um sentimento ruim, dependendo do problema e da modelagem escolhida, a pontuação pode ou não ser necessária.\n",
    "<br> Vamos continuar usando nossa coluna limpa para entendermos o impacto dessas limpezas no final."
   ]
  },
  {
   "cell_type": "markdown",
   "metadata": {},
   "source": [
    "Abaixo vemos que aumentamos nosso vocabulário ao invés de reduzirmos, o que não é o que queremos. Vamos entender porque?"
   ]
  },
  {
   "cell_type": "code",
   "execution_count": 24,
   "metadata": {},
   "outputs": [
    {
     "name": "stdout",
     "output_type": "stream",
     "text": [
      "Tamanho do vocabulário total: 66617\n"
     ]
    }
   ],
   "source": [
    "df_reviews[\"cleaned_text_tokenized_without_ponctuation\"] = df_reviews[\"cleaned_text\"].apply(lambda x: word_tokenize(re.sub(r\"[^\\w\\s]\", \"\", x)))\n",
    "lower_without_ponctuation_word_count = count_tokens(df=df_reviews, token_col=\"cleaned_text_tokenized_without_ponctuation\")\n",
    "count_vocab[\"lower_without_ponctuation_word_count\"] = len(lower_without_ponctuation_word_count)"
   ]
  },
  {
   "cell_type": "markdown",
   "metadata": {},
   "source": [
    "Abaixo podemos ver que tinhamos algumas palavras que eram separadas por causa de alguma pontuação. Quando retiramos a pontuação, as palavras se uniram, o que aumentou a variabilidade, aumentando a quantidade de tokens."
   ]
  },
  {
   "cell_type": "code",
   "execution_count": 25,
   "metadata": {},
   "outputs": [
    {
     "data": {
      "text/plain": [
       "{'erradoeu', 'horrívelfoi', 'modernomuito', 'ndé', 'sejamelhor'}"
      ]
     },
     "execution_count": 25,
     "metadata": {},
     "output_type": "execute_result"
    }
   ],
   "source": [
    "set(itertools.islice((lower_without_ponctuation_word_count.keys() - lower_word_count.keys()), 5))"
   ]
  },
  {
   "cell_type": "markdown",
   "metadata": {},
   "source": [
    "E se ao invés de retirar, substituíssemos a pontuação por um espaço? É assim que precisamos formular nosso raciocínio, criando hipótese, pensando em possibilidades de melhoria, e ir iterando para ver se estamos atingindo o resultado esperado. Agora nossa hipótese é: se eu substituir a pontuação por espaço, eu reduzo a quantidade de vocabulário.\n",
    "<br> Nossa hipótese foi confirmada, de 59.363 para 50.393 tokens. Estamos conseguindo agora nosso objetivo de reduzir a quantidade de vocabulário."
   ]
  },
  {
   "cell_type": "code",
   "execution_count": 26,
   "metadata": {},
   "outputs": [
    {
     "name": "stdout",
     "output_type": "stream",
     "text": [
      "Tamanho do vocabulário total: 50393\n"
     ]
    }
   ],
   "source": [
    "df_reviews[\"cleaned_text\"] = df_reviews[\"cleaned_text\"].apply(lambda x: re.sub(r\"[^\\w\\s]\", \" \", x))\n",
    "df_reviews[\"cleaned_text_tokenized\"] = df_reviews[\"cleaned_text\"].apply(lambda x: word_tokenize(x))\n",
    "lower_without_ponctuation_space_word_count = count_tokens(df=df_reviews, token_col=\"cleaned_text_tokenized\")\n",
    "count_vocab[\"lower_without_ponctuation_space_word_count\"] = len(lower_without_ponctuation_space_word_count)"
   ]
  },
  {
   "cell_type": "markdown",
   "metadata": {},
   "source": [
    "##### Padronizar para ASCII"
   ]
  },
  {
   "cell_type": "markdown",
   "metadata": {},
   "source": [
    "Agora vamos testar aplicar o unidecode, que transformar todo o texto para um padrão chamado ASCII (American Standard Code for Information Interchange). Isso ajudará a tratar acentuação, aqueles caracteres especiais que vimos no início e mais."
   ]
  },
  {
   "cell_type": "code",
   "execution_count": 27,
   "metadata": {},
   "outputs": [
    {
     "name": "stdout",
     "output_type": "stream",
     "text": [
      "Tamanho do vocabulário total: 47715\n"
     ]
    }
   ],
   "source": [
    "df_reviews[\"cleaned_text\"] = df_reviews[\"cleaned_text\"].apply(lambda x: prep.preprocess_text(text=x, apply_unidecode=True))\n",
    "df_reviews[\"cleaned_text_tokenized\"] = df_reviews[\"cleaned_text\"].apply(lambda x: word_tokenize(x))\n",
    "unidecode_word_count = count_tokens(df=df_reviews, token_col=\"cleaned_text_tokenized\")\n",
    "count_vocab[\"unidecode_word_count\"] = len(unidecode_word_count)"
   ]
  },
  {
   "cell_type": "markdown",
   "metadata": {},
   "source": [
    "Vamos ver se conseguimos limpar alguns dos casos de símbolos que vimos?"
   ]
  },
  {
   "cell_type": "code",
   "execution_count": 28,
   "metadata": {},
   "outputs": [
    {
     "data": {
      "text/plain": [
       "'otimo produto   indico para todos  muito show   kkkkkkkkkkk'"
      ]
     },
     "execution_count": 28,
     "metadata": {},
     "output_type": "execute_result"
    }
   ],
   "source": [
    "df_reviews[df_reviews[\"review_text\"].str.contains('ķ')][\"cleaned_text\"].iloc[0]"
   ]
  },
  {
   "cell_type": "code",
   "execution_count": 29,
   "metadata": {},
   "outputs": [
    {
     "data": {
      "text/plain": [
       "'gostei muito  sempre que estou em perigo tony vem me salvar com aquela linda musica do ac dc  recomendo muito este produto  aquela armadura faz horrores gente       ?    '"
      ]
     },
     "execution_count": 29,
     "metadata": {},
     "output_type": "execute_result"
    }
   ],
   "source": [
    "df_reviews[df_reviews[\"review_text\"].str.contains('ʖ')][\"cleaned_text\"].iloc[0]"
   ]
  },
  {
   "cell_type": "markdown",
   "metadata": {},
   "source": [
    "Excelente! Ambos os símbolos foram tratados, aquele ķ virou um k normal, enquanto o ʖ foi removido. Além disso, já temos um vocabulário de 47.715 tokens, bem menor do que o que iniciamos de 75.717, né?"
   ]
  },
  {
   "cell_type": "markdown",
   "metadata": {},
   "source": [
    "##### Remoção de Stopwords\n",
    "Quando lidamos principalmente com modelagems de algoritmos tradicionais que veremos nas próximas aulas, as palavras muito frequentes, chamadas de stopwords, como preposições, não ajudam na diferenciação de classes. Dessa forma, elas mais atrapalham a inferência na maioria das vezes do que ajudam, o que mais vai ajudar o algoritmo a diferenciar classes em uma classificação por exemplo são as palavras distintar mais específicas de uma determinada classe. \n",
    "<br>Podemos reduzir o vocabulário e melhorar a qualidade do modelo removendo essas palavras frequentes."
   ]
  },
  {
   "cell_type": "markdown",
   "metadata": {},
   "source": [
    "A biblioteca nltk já possui uma lista de stopwords de diversos idiomas, como o português, abaixo vamos olhar quais são as palavras já mapeadas."
   ]
  },
  {
   "cell_type": "code",
   "execution_count": 30,
   "metadata": {},
   "outputs": [
    {
     "name": "stdout",
     "output_type": "stream",
     "text": [
      "Quantidade de stopwords mapeadas: 207\n"
     ]
    },
    {
     "data": {
      "text/plain": [
       "['a',\n",
       " 'à',\n",
       " 'ao',\n",
       " 'aos',\n",
       " 'aquela',\n",
       " 'aquelas',\n",
       " 'aquele',\n",
       " 'aqueles',\n",
       " 'aquilo',\n",
       " 'as']"
      ]
     },
     "execution_count": 30,
     "metadata": {},
     "output_type": "execute_result"
    }
   ],
   "source": [
    "print(f\"Quantidade de stopwords mapeadas: {len(prep.get_stopwords())}\")\n",
    "prep.get_stopwords()[:10]"
   ]
  },
  {
   "cell_type": "markdown",
   "metadata": {},
   "source": [
    "Podemos usar essa biblioteca como ponto de partida e ir adicionando ou removendo palavras quando acharmos relevante para nosso problema."
   ]
  },
  {
   "cell_type": "code",
   "execution_count": 28,
   "metadata": {},
   "outputs": [],
   "source": [
    "df_reviews[\"cleaned_text\"] = df_reviews[\"cleaned_text\"].apply(lambda x: prep.preprocess_text(text=x, remove_stopwords=True))\n",
    "df_reviews[\"cleaned_text_tokenized\"] = df_reviews[\"cleaned_text\"].apply(lambda x: word_tokenize(x))\n",
    "stopword_word_count = count_tokens(df=df_reviews, token_col=\"cleaned_text_tokenized\")\n",
    "count_vocab[\"stopword_word_count\"] = len(stopword_word_count)"
   ]
  },
  {
   "cell_type": "markdown",
   "metadata": {},
   "source": [
    "Reduzimos pouco o vocabulário, até porque só temos 207 stopwords, mas isso, dependendo do problema em questão, pode fazer a diferença! "
   ]
  },
  {
   "cell_type": "markdown",
   "metadata": {},
   "source": [
    "##### Stemming"
   ]
  },
  {
   "cell_type": "code",
   "execution_count": 29,
   "metadata": {},
   "outputs": [],
   "source": [
    "df_reviews[\"cleaned_text_stemming\"] = df_reviews[\"cleaned_text\"].apply(lambda x: prep.preprocess_text(text=x, apply_stemming=True))\n",
    "df_reviews[\"cleaned_text_stemming_tokenized\"] = df_reviews[\"cleaned_text_stemming\"].apply(lambda x: word_tokenize(x))\n",
    "stemming_word_count = count_tokens(df=df_reviews, token_col=\"cleaned_text_stemming_tokenized\")\n",
    "count_vocab[\"stemming_word_count\"] = len(stemming_word_count)"
   ]
  },
  {
   "cell_type": "markdown",
   "metadata": {},
   "source": [
    "Stemming é o processo de reduzir as palavras às suas raízes ou radicais. Percebam abaixo que esse método pode resultar em palavras não reconhecíveis, removendo sufixos e prefixos. Dessa forma, content foi reduzido para cont, compra foi reduzido para compr e assim por diante. Esse método consegue reduzir bastante o vocabulário, veja que chegamos a 25.620, 33% do vocabulário que iniciamos!"
   ]
  },
  {
   "cell_type": "code",
   "execution_count": 30,
   "metadata": {},
   "outputs": [
    {
     "data": {
      "text/html": [
       "<div>\n",
       "<style scoped>\n",
       "    .dataframe tbody tr th:only-of-type {\n",
       "        vertical-align: middle;\n",
       "    }\n",
       "\n",
       "    .dataframe tbody tr th {\n",
       "        vertical-align: top;\n",
       "    }\n",
       "\n",
       "    .dataframe thead th {\n",
       "        text-align: right;\n",
       "    }\n",
       "</style>\n",
       "<table border=\"1\" class=\"dataframe\">\n",
       "  <thead>\n",
       "    <tr style=\"text-align: right;\">\n",
       "      <th></th>\n",
       "      <th>review_text</th>\n",
       "      <th>cleaned_text_stemming</th>\n",
       "    </tr>\n",
       "  </thead>\n",
       "  <tbody>\n",
       "    <tr>\n",
       "      <th>0</th>\n",
       "      <td>Estou contente com a compra entrega rápida o ú...</td>\n",
       "      <td>cont compr entreg rap unic problem americ troc...</td>\n",
       "    </tr>\n",
       "    <tr>\n",
       "      <th>1</th>\n",
       "      <td>Por apenas R$1994.20,eu consegui comprar esse ...</td>\n",
       "      <td>apen r 1994 20 consegu compr lind cop acril</td>\n",
       "    </tr>\n",
       "    <tr>\n",
       "      <th>2</th>\n",
       "      <td>SUPERA EM AGILIDADE E PRATICIDADE OUTRAS PANEL...</td>\n",
       "      <td>sup agil pratic outr panel eletr costum us out...</td>\n",
       "    </tr>\n",
       "    <tr>\n",
       "      <th>3</th>\n",
       "      <td>MEU FILHO AMOU! PARECE DE VERDADE COM TANTOS D...</td>\n",
       "      <td>filh amou parec verdad tant detalh</td>\n",
       "    </tr>\n",
       "    <tr>\n",
       "      <th>4</th>\n",
       "      <td>A entrega foi no prazo, as americanas estão de...</td>\n",
       "      <td>entreg praz americ esta parab smart tv boa nav...</td>\n",
       "    </tr>\n",
       "  </tbody>\n",
       "</table>\n",
       "</div>"
      ],
      "text/plain": [
       "                                         review_text  \\\n",
       "0  Estou contente com a compra entrega rápida o ú...   \n",
       "1  Por apenas R$1994.20,eu consegui comprar esse ...   \n",
       "2  SUPERA EM AGILIDADE E PRATICIDADE OUTRAS PANEL...   \n",
       "3  MEU FILHO AMOU! PARECE DE VERDADE COM TANTOS D...   \n",
       "4  A entrega foi no prazo, as americanas estão de...   \n",
       "\n",
       "                               cleaned_text_stemming  \n",
       "0  cont compr entreg rap unic problem americ troc...  \n",
       "1        apen r 1994 20 consegu compr lind cop acril  \n",
       "2  sup agil pratic outr panel eletr costum us out...  \n",
       "3                 filh amou parec verdad tant detalh  \n",
       "4  entreg praz americ esta parab smart tv boa nav...  "
      ]
     },
     "execution_count": 30,
     "metadata": {},
     "output_type": "execute_result"
    }
   ],
   "source": [
    "df_reviews[[\"review_text\", \"cleaned_text_stemming\"]].iloc[:5]"
   ]
  },
  {
   "cell_type": "markdown",
   "metadata": {},
   "source": [
    "##### Lemmatizing\n",
    "Reduz as palavras à sua forma canônica ou dicionária, o que geralmente produz resultados mais precisos e legíveis do que apenas cortar sufixos e prefixos como no stemming, além de manter sua integridade semântica."
   ]
  },
  {
   "cell_type": "code",
   "execution_count": 31,
   "metadata": {},
   "outputs": [],
   "source": [
    "lemmatizer = spacy.load('pt_core_news_sm')\n",
    "\n",
    "df_reviews[\"cleaned_text_lemmatizing\"] = df_reviews[\"cleaned_text\"].apply(lambda x: prep.preprocess_text(text=x, apply_lemmitization=True, lemmatizer=lemmatizer))\n",
    "df_reviews[\"cleaned_text_lemmatizing_tokenized\"] = df_reviews[\"cleaned_text_lemmatizing\"].apply(lambda x: word_tokenize(x))\n",
    "lemmatizing_word_count = count_tokens(df=df_reviews, token_col=\"cleaned_text_lemmatizing_tokenized\")\n",
    "count_vocab[\"lemmatizing_word_count\"] = len(lemmatizing_word_count)"
   ]
  },
  {
   "cell_type": "markdown",
   "metadata": {},
   "source": [
    "Abaixo podemos ver que os verbos foram normalizados, compra virou comprar, consegui virou conseguir e assim por diante. Além disso, outras foi normalizado para outro, tratamento de plurais acontecem na lemmatização, reduzindo nosso vocabulário. No entanto, podemos ver que não reduzimos tanto quanto usando o método stemming, veja que chegamos a 41.976 tokens."
   ]
  },
  {
   "cell_type": "code",
   "execution_count": 32,
   "metadata": {},
   "outputs": [
    {
     "data": {
      "text/html": [
       "<div>\n",
       "<style scoped>\n",
       "    .dataframe tbody tr th:only-of-type {\n",
       "        vertical-align: middle;\n",
       "    }\n",
       "\n",
       "    .dataframe tbody tr th {\n",
       "        vertical-align: top;\n",
       "    }\n",
       "\n",
       "    .dataframe thead th {\n",
       "        text-align: right;\n",
       "    }\n",
       "</style>\n",
       "<table border=\"1\" class=\"dataframe\">\n",
       "  <thead>\n",
       "    <tr style=\"text-align: right;\">\n",
       "      <th></th>\n",
       "      <th>review_text</th>\n",
       "      <th>cleaned_text_lemmatizing</th>\n",
       "    </tr>\n",
       "  </thead>\n",
       "  <tbody>\n",
       "    <tr>\n",
       "      <th>0</th>\n",
       "      <td>Estou contente com a compra entrega rápida o ú...</td>\n",
       "      <td>contente compra entregar raper unico problema ...</td>\n",
       "    </tr>\n",
       "    <tr>\n",
       "      <th>1</th>\n",
       "      <td>Por apenas R$1994.20,eu consegui comprar esse ...</td>\n",
       "      <td>apenas r 1994 20 conseguir comprar lir copo ac...</td>\n",
       "    </tr>\n",
       "    <tr>\n",
       "      <th>2</th>\n",
       "      <td>SUPERA EM AGILIDADE E PRATICIDADE OUTRAS PANEL...</td>\n",
       "      <td>superar agilidade praticidade outro panela ele...</td>\n",
       "    </tr>\n",
       "    <tr>\n",
       "      <th>3</th>\n",
       "      <td>MEU FILHO AMOU! PARECE DE VERDADE COM TANTOS D...</td>\n",
       "      <td>filho amar parecer verdade tanto detalhe</td>\n",
       "    </tr>\n",
       "    <tr>\n",
       "      <th>4</th>\n",
       "      <td>A entrega foi no prazo, as americanas estão de...</td>\n",
       "      <td>entregar prazo americana estao parabem smart t...</td>\n",
       "    </tr>\n",
       "  </tbody>\n",
       "</table>\n",
       "</div>"
      ],
      "text/plain": [
       "                                         review_text  \\\n",
       "0  Estou contente com a compra entrega rápida o ú...   \n",
       "1  Por apenas R$1994.20,eu consegui comprar esse ...   \n",
       "2  SUPERA EM AGILIDADE E PRATICIDADE OUTRAS PANEL...   \n",
       "3  MEU FILHO AMOU! PARECE DE VERDADE COM TANTOS D...   \n",
       "4  A entrega foi no prazo, as americanas estão de...   \n",
       "\n",
       "                            cleaned_text_lemmatizing  \n",
       "0  contente compra entregar raper unico problema ...  \n",
       "1  apenas r 1994 20 conseguir comprar lir copo ac...  \n",
       "2  superar agilidade praticidade outro panela ele...  \n",
       "3           filho amar parecer verdade tanto detalhe  \n",
       "4  entregar prazo americana estao parabem smart t...  "
      ]
     },
     "execution_count": 32,
     "metadata": {},
     "output_type": "execute_result"
    }
   ],
   "source": [
    "df_reviews[[\"review_text\", \"cleaned_text_lemmatizing\"]].iloc[:5]"
   ]
  },
  {
   "cell_type": "markdown",
   "metadata": {},
   "source": [
    "Abaixo podemos ver nossa evolução a medida que fomos limpando nosso texto, saindo de 75.717 e chegando ao mínimo de 25.620. Interessante notar que a tokenzização por subpalavra teve um vocabulário ainda menor (11.259) do que com todas essas limpezas, e perde muito menos informação. Interessante, não? Por isso esses métodos de tokenização são bastante usados, principalmente em algoritmos complexos como LLMs, e considerados o estado da arte."
   ]
  },
  {
   "cell_type": "code",
   "execution_count": 33,
   "metadata": {},
   "outputs": [
    {
     "data": {
      "text/plain": [
       "{'caracter_counter': 212,\n",
       " 'word_counter': 75717,\n",
       " 'subword_counter': 11259,\n",
       " 'lower_word_count': 59363,\n",
       " 'lower_without_ponctuation_word_count': 66617,\n",
       " 'lower_without_ponctuation_space_word_count': 50393,\n",
       " 'unidecode_word_count': 47715,\n",
       " 'stopword_word_count': 47563,\n",
       " 'stemming_word_count': 25620,\n",
       " 'lemmatizing_word_count': 41976}"
      ]
     },
     "execution_count": 33,
     "metadata": {},
     "output_type": "execute_result"
    }
   ],
   "source": [
    "count_vocab"
   ]
  },
  {
   "cell_type": "markdown",
   "metadata": {},
   "source": [
    "Mesmo com todos as limpezas que fizemos, ainda temos um volume de vocabulário bem alto, podemos:\n",
    "- Continuar com as limpezas, tratando urls, removendo números, removendo tokens com menos de 2 caracteres ou outras formas, dependendo do contexto e do problema;\n",
    "- Definir um vocabulário máximo, removendo ou substituindo os tokens menos frequentes por \"desconhecido\" até chegarmos no tamanho de vocabulário definido;\n",
    "- Definir um vocabulário, substituir os tokens menos frequentes pelos tokens mais frequentes usando esse vocabulário e métodos de similiridade de texto;\n",
    "<br>Entre outros possíveis tratamentos."
   ]
  },
  {
   "cell_type": "markdown",
   "metadata": {},
   "source": [
    "#### Similaridade de texto (Correspondência Fuzzy)\n",
    "Para corrigir erros de digitação, variações ortográficas, abreviações ou outros tipos de variações, podemos usar técnicas de correspondência fuzzy. Ela permite encontrar correspondências aproximadas entre textos, levando em consideração a semelhança entre eles, mesmo que não sejam idênticos. \n",
    "<br> Alguns exemplos de técnicas para correspondência fuzzy são:\n",
    "- <b>Similaridade de Jaro:</b> Valor de 0 a 1, onde 1 é correspondência perfeita e 0 nenhuma correspondência. Basicamente é uma soma de correlações entre caracteres dos dois textos, ponderado pelo tamanho deles. \n",
    "\n",
    "$d_j=\\frac{m}{3a}+\\frac{m}{3b}+\\frac{m-t}{3m}$\n",
    "\n",
    "<br>onde:\n",
    "- m é o número de correlações entre caracteres;\n",
    "- a e b são os tamanhos dos textos a serem comparados;\n",
    "- t é o número de transposições."
   ]
  },
  {
   "cell_type": "markdown",
   "metadata": {},
   "source": [
    "\n",
    "- <b>Similaridade de Jaro-Winkler:</b> Estende a Similaridade de Jaro adicionando uma constante que favorece quando a comparação ocorre com textos que possuem equivalência longa no início. </b>\n",
    "- <b>Distância de Levenshtein:</b> Conta a quantidade mínima de operações que são necessárias para transformar um texto em outro. </b>\n",
    "- <b>Distância de Damerau-Levenshtein:</b> Estende a distância de Levenshtein ao adicionar a transposição adjacente entre as possíveis operações. </b>"
   ]
  },
  {
   "cell_type": "markdown",
   "metadata": {},
   "source": [
    "Vamos ver na prática como funciona? Vamos começar delimitando nosso máximo de vocabulário para 95% do que temos até a limpeza da removação das stopwords que foi a última limpeza antes do stemming e do lemmatizing, visto que elas alteram/cortam as palavras. Aqui 95% foi um número arbitrário, de acordo com o problema em questão, podemos aumentar ou reduzir. Dessa forma, estamos dizendo que 95% dos tokens são válidos, e os outros 5% vamos tentar tratá-los.\n",
    "<br> Vamos começar com um exemplo de correção ortográfica que vamos retirar do nosso vocabulário de tratamento."
   ]
  },
  {
   "cell_type": "code",
   "execution_count": 55,
   "metadata": {},
   "outputs": [
    {
     "data": {
      "text/plain": [
       "47563"
      ]
     },
     "execution_count": 55,
     "metadata": {},
     "output_type": "execute_result"
    }
   ],
   "source": [
    "len(stopword_word_count)"
   ]
  },
  {
   "cell_type": "code",
   "execution_count": 57,
   "metadata": {},
   "outputs": [],
   "source": [
    "max_vocab = int(len(stopword_word_count) * 0.95)\n",
    "items = stopword_word_count.most_common()\n",
    "vocab_valido = dict(items[:max_vocab])\n",
    "vocab_tratamento = dict(items[max_vocab:])"
   ]
  },
  {
   "cell_type": "code",
   "execution_count": 58,
   "metadata": {},
   "outputs": [
    {
     "data": {
      "text/plain": [
       "(45184, 2379)"
      ]
     },
     "execution_count": 58,
     "metadata": {},
     "output_type": "execute_result"
    }
   ],
   "source": [
    "len(vocab_valido), len(vocab_tratamento)"
   ]
  },
  {
   "cell_type": "code",
   "execution_count": 59,
   "metadata": {},
   "outputs": [
    {
     "data": {
      "text/plain": [
       "{'tachos': 2,\n",
       " 'devira': 1,\n",
       " 'row': 2,\n",
       " 'pesquisam': 4,\n",
       " 'downdo': 2,\n",
       " 'roubaria': 2,\n",
       " 'aspetos': 1,\n",
       " 'bags': 2,\n",
       " 'adv': 1,\n",
       " 'recondicionados': 2,\n",
       " 'refurbush': 1,\n",
       " 'recon': 1,\n",
       " 'ultilizsndo': 1,\n",
       " 'pandora': 1,\n",
       " '063': 1,\n",
       " 'edilma': 1,\n",
       " 'colecioneclassicos': 1,\n",
       " 'raco': 1,\n",
       " 'botado': 1,\n",
       " 'garvain': 1,\n",
       " 'fissura': 1,\n",
       " 'cachoreira': 1,\n",
       " 'deslizarem': 1,\n",
       " 'cortadinhas': 1,\n",
       " 'procuraram': 2,\n",
       " '81s': 1,\n",
       " 'abafados': 1,\n",
       " 'adequerida': 1,\n",
       " 'fkou': 1,\n",
       " 'recomendooooooooooooooooooooooo': 1,\n",
       " 'recomendoooooooooo': 1,\n",
       " 'trajes': 1,\n",
       " 'educador': 1,\n",
       " 'eurecomendo': 1,\n",
       " 'otimooooooooooooooooooooooooooooooooo9oooooooooooooooooooooooooooooooooooooooooooooooo': 1,\n",
       " '2400mah': 1,\n",
       " 'salsichas': 1,\n",
       " 'meica': 1,\n",
       " 'salsicha': 2,\n",
       " 'magneticos': 1,\n",
       " 'carroagem': 1,\n",
       " 'tremedeiras': 1,\n",
       " 'doideira': 1,\n",
       " 'dean': 1,\n",
       " 'jerry': 1,\n",
       " 'taba': 1,\n",
       " 'damasco': 1,\n",
       " 'cuteleiro': 1,\n",
       " 'espiadinha': 1,\n",
       " 'hidrolisada': 1,\n",
       " 'wanadoo': 1,\n",
       " 'dimencoes': 1,\n",
       " 'snooze': 1,\n",
       " 'desligaar': 1,\n",
       " 'muitoi': 2,\n",
       " 'roubust': 1,\n",
       " 'ofcina': 1,\n",
       " 'burogracia': 1,\n",
       " 'reentrada': 1,\n",
       " 'esteproduto': 1,\n",
       " 'facel': 1,\n",
       " 'opite': 1,\n",
       " 'carregodor': 1,\n",
       " 'technology': 1,\n",
       " 'innovation': 1,\n",
       " 'endurecendo': 1,\n",
       " 'muiiita': 1,\n",
       " 'semanais': 1,\n",
       " 'lohas': 1,\n",
       " 'guarulhos': 6,\n",
       " 'hiena': 1,\n",
       " 'caberia': 2,\n",
       " 'minimoto': 1,\n",
       " 'insastisfeito': 1,\n",
       " 'deslocados': 1,\n",
       " 'desfalcado': 1,\n",
       " 'liuis': 1,\n",
       " 'armstrong': 1,\n",
       " 'decorados': 1,\n",
       " 'recclamacao': 1,\n",
       " 'recrutar': 1,\n",
       " 'psc': 1,\n",
       " '1315': 1,\n",
       " 'anunciei': 2,\n",
       " 'contorcendo': 2,\n",
       " 'melkor': 2,\n",
       " 'rolhas': 1,\n",
       " 'laguiole': 1,\n",
       " 'despedaca': 1,\n",
       " 'eira': 2,\n",
       " 'coletarem': 2,\n",
       " 'ducato': 1,\n",
       " 'economy': 1,\n",
       " 'aplicou': 1,\n",
       " 'services': 1,\n",
       " 'assistidos': 1,\n",
       " 'millenium': 1,\n",
       " 'zowie': 1,\n",
       " 'ec2': 1,\n",
       " 'abyssus': 1,\n",
       " 'imperator': 1,\n",
       " 'plastificadas': 1,\n",
       " 'xexelento': 1,\n",
       " 'causaspela': 1,\n",
       " 'degluticao': 1,\n",
       " 'hipotecar': 1,\n",
       " 'vibracal': 1,\n",
       " 'desencontro': 1,\n",
       " 'joaninha': 1,\n",
       " 'aprove': 1,\n",
       " 'remeto': 1,\n",
       " 'maravilhosaaaaa': 1,\n",
       " 'impedancia': 7,\n",
       " 'rated': 2,\n",
       " 'ohmica': 1,\n",
       " 'ohms': 6,\n",
       " 'ocorrera': 1,\n",
       " 'distorsao': 1,\n",
       " 'marantz': 1,\n",
       " 'mean': 1,\n",
       " 'square': 1,\n",
       " 'casador': 1,\n",
       " 'ad3': 2,\n",
       " 'ad2': 2,\n",
       " 'ocelular': 1,\n",
       " 'recomdndavel': 1,\n",
       " 'marcius': 1,\n",
       " 'aceitassem': 1,\n",
       " 'paypal': 4,\n",
       " 'parao': 1,\n",
       " 'dddddddddddddddddddddddddddddddddddjjjjjjj': 1,\n",
       " 'cnao': 1,\n",
       " 'transbordou': 1,\n",
       " 'moradia': 1,\n",
       " 'dmas': 1,\n",
       " 'maisnao': 1,\n",
       " 'problemasido': 1,\n",
       " 'monovolt': 1,\n",
       " 'atestei': 1,\n",
       " 'amas': 1,\n",
       " 'rstado': 1,\n",
       " '200mts': 1,\n",
       " 'indiscreta': 1,\n",
       " 'bca': 1,\n",
       " 'indecisa': 1,\n",
       " 'delates': 1,\n",
       " 'laiglon': 1,\n",
       " 'engatinhou': 1,\n",
       " 'andou': 2,\n",
       " 'tinhas': 1,\n",
       " 'penetrar': 1,\n",
       " 'alaga': 3,\n",
       " 'brinquei': 1,\n",
       " 'demuito': 1,\n",
       " 'soleira': 2,\n",
       " 'acefalo': 1,\n",
       " 'bullers': 1,\n",
       " 'cuecao': 1,\n",
       " 'unificada': 1,\n",
       " 'lhos': 1,\n",
       " 'pikachu': 1,\n",
       " 'recarregadas': 1,\n",
       " 'comba': 1,\n",
       " 'excecelnte': 1,\n",
       " 'agredi': 1,\n",
       " 'sabiamos': 2,\n",
       " 'deslavada': 1,\n",
       " 'entresse': 1,\n",
       " 'engatando': 1,\n",
       " 'minerio': 2,\n",
       " 'dezessete': 2,\n",
       " 'ininterruptos': 2,\n",
       " 'forjadura': 2,\n",
       " 'contidade': 1,\n",
       " 'erronea': 1,\n",
       " 'boicote': 1,\n",
       " 'producoes': 1,\n",
       " 'cinematograficas': 1,\n",
       " '1920': 1,\n",
       " 'mercenarias': 1,\n",
       " 'contiuam': 1,\n",
       " 'marileide': 1,\n",
       " 'jatinhos': 1,\n",
       " 'fidelizado': 1,\n",
       " 'd110a': 1,\n",
       " '60xl': 1,\n",
       " 'cc641wb': 1,\n",
       " 'lizinhu': 1,\n",
       " 'lllllllllllllllllllllllllllllllllllllllllllllllllllllllllllllllllllllllllllllllllllllllllllllllllllllllllllllllllllllllllllllllllllllllllllllllllllllllllllllllllllllllllllllllllllllllllllllllllllllllllllllllllllllllllllllllllllllllllllllllllllllllllllllllllllllllllllllllllllllllllllllllllllllllllllllllllllllllllllllllllllllllllllllllllllllllllllllllllllllllllllllllllllllllllllllllllllllllllllllllllllllllllllllllllllllllllllllllllllllllllllllllllllllllllllllllllllllllllllllllllllllllllllllllllllllllllllllllllllllllllllllllllllllllllllllllllllllllllllllllllllllllllllllllllllllllllllllllllllllllllllllllllllllllllll': 1,\n",
       " 'lavabo': 1,\n",
       " 'comercializava': 2,\n",
       " 'otimoooooooooooooooooooooooooooooooooooooooooooooooooooooooooooooooooooooooooooooooooooooooooooooooooooooooooooooooooooo': 1,\n",
       " 'emetida': 1,\n",
       " 'goais': 1,\n",
       " 'tardis': 1,\n",
       " 'who': 1,\n",
       " 'trifasica': 1,\n",
       " 'intelbas': 1,\n",
       " 'mak': 1,\n",
       " 'modernite': 1,\n",
       " 'pika': 1,\n",
       " 'revoflex': 4,\n",
       " 'mvh': 4,\n",
       " '288bt': 2,\n",
       " '298bt': 2,\n",
       " 'comprsr': 1,\n",
       " 'alisando': 2,\n",
       " 'fsisioterapia': 1,\n",
       " 'etucano': 2,\n",
       " 'altere': 3,\n",
       " 'obrigue': 2,\n",
       " 'nbnbnbnbunhyvhtdvhjmhgfdv': 1,\n",
       " 'jugfghkjjhtffbnjuyt': 1,\n",
       " 'hfdegnkkkj': 1,\n",
       " 'hgbhtgbhjjy': 1,\n",
       " 'wd40': 1,\n",
       " 'obrigaduuuu': 1,\n",
       " 'operativos': 1,\n",
       " 'apricacao': 1,\n",
       " 'porcenalato': 1,\n",
       " 'mostar': 1,\n",
       " '45l': 2,\n",
       " 'invalide': 1,\n",
       " 'fisiologico': 1,\n",
       " 'cordial': 1,\n",
       " 'zip': 1,\n",
       " 'agasalha': 1,\n",
       " 'indicavam': 1,\n",
       " 'desproporcionais': 2,\n",
       " 'expandisse': 1,\n",
       " 'rachasse': 1,\n",
       " 'muioto': 1,\n",
       " 'spinner': 4,\n",
       " 'giratorias': 1,\n",
       " 'facilitariam': 1,\n",
       " 'gemias': 1,\n",
       " 'reprovadissimo': 1,\n",
       " 'poroduto': 1,\n",
       " 'products': 1,\n",
       " 'chamava': 1,\n",
       " 'xxxxxxxxxxxxxxxxxxxxxxxxxxxxxxxx': 2,\n",
       " 'violando': 1,\n",
       " 'inconcebivel': 1,\n",
       " 'especimes': 1,\n",
       " 'perteito': 1,\n",
       " 'mondem': 1,\n",
       " 'respotas': 1,\n",
       " 'jantamos': 1,\n",
       " 'qum': 1,\n",
       " 'economisa': 1,\n",
       " 'brassadeira': 1,\n",
       " 'veucro': 1,\n",
       " 'qiem': 1,\n",
       " 'viana': 2,\n",
       " 'piski': 1,\n",
       " 'verificaro': 1,\n",
       " 'asp': 1,\n",
       " 'pod': 1,\n",
       " 'arlei': 1,\n",
       " 'kkkkkkkkkkkkkkkkkkkkkkkk': 1,\n",
       " 'c9mpletar': 2,\n",
       " 'repassaram': 1,\n",
       " 'valeo': 1,\n",
       " 'claream': 1,\n",
       " 'tevisoes': 1,\n",
       " 'reeniciava': 1,\n",
       " 'abisorve': 1,\n",
       " 'bluetoth': 1,\n",
       " 'veii': 2,\n",
       " 'etiquetei': 1,\n",
       " 'aconselha': 1,\n",
       " 'sustentacoes': 1,\n",
       " 'ergorapido': 1,\n",
       " 'intencionalmente': 1,\n",
       " 'camursado': 1,\n",
       " 'esparsadas': 1,\n",
       " 'confimaram': 1,\n",
       " 'mint': 1,\n",
       " 'diversidades': 1,\n",
       " 'anexada': 1,\n",
       " 'postural': 1,\n",
       " 'formalizei': 1,\n",
       " 'escoamento': 1,\n",
       " 'lihgtroom': 1,\n",
       " 'explicao': 2,\n",
       " 'exclarecimento': 1,\n",
       " 'pratilheiras': 1,\n",
       " 'scud': 1,\n",
       " 'aperfeicoado': 1,\n",
       " 'bonitooooo': 1,\n",
       " 'receptores': 1,\n",
       " 'ouvirmos': 1,\n",
       " 'flar': 1,\n",
       " 'arrancados': 1,\n",
       " 'geradorzinho': 1,\n",
       " 'pavios': 1,\n",
       " 'lampioes': 1,\n",
       " 'casebre': 1,\n",
       " 'cumpadis': 1,\n",
       " 'sarlo': 1,\n",
       " '1950': 4,\n",
       " 'esvaziando': 1,\n",
       " 'estreei': 1,\n",
       " 'medicinais': 1,\n",
       " 'smrt': 1,\n",
       " '113': 1,\n",
       " '834': 1,\n",
       " 'marnilse': 1,\n",
       " 'xt1762': 1,\n",
       " 'contragedor': 1,\n",
       " 'responsabilade': 1,\n",
       " 'inverniza': 1,\n",
       " 'manhazinha': 1,\n",
       " 'fabbricante': 1,\n",
       " 'etiquetadoras': 1,\n",
       " 'presciso': 1,\n",
       " 'escorregado': 1,\n",
       " 'telefonaram': 1,\n",
       " 'himalaia': 1,\n",
       " 'caminhando': 1,\n",
       " 'textlog': 1,\n",
       " 'rosqueamento': 1,\n",
       " 'qts': 1,\n",
       " 'associam': 1,\n",
       " 'buggy': 1,\n",
       " 'compuitador': 1,\n",
       " 'reposabiliza': 1,\n",
       " 'odonto': 2,\n",
       " 'canaldaodonto': 2,\n",
       " 'amisgos': 1,\n",
       " 'acumulada': 1,\n",
       " 'defeiro': 1,\n",
       " 'toothpast': 1,\n",
       " 'aparecera': 1,\n",
       " 'generic': 2,\n",
       " 'device': 1,\n",
       " 'exeleeeeeeeeeeeeeeeeeeeeeeeeeeeeeeeeeeeeeeeeeeeeeeeeeeeeeeeeeeeeeeeeeeeeeeeeeeeeeeeeeeeeeeeeeeeeeeeeeeeeeeeeeeeeeeeeeeeeeeeeeeeeeeeeeeeeeeeeeeeeeeeeeeeeeeeeeeeeeeeeeeeeeeeeeeeeeeeeeeeeeeeeeeeeeeeeeeeeeeeeeeeeeeeeeeeeeeeeeeeeeeeeeeeeeeeeeeeeeeeeeeeeeeeeeeeeeeeeeeeeeeeeeeeeeeeeeeeeeeeeeeeeeeeeeeeeeeeeeeeeente': 1,\n",
       " 'pefume': 1,\n",
       " 'arrojada': 1,\n",
       " 'operacionalizacao': 1,\n",
       " 'smsrtphone': 1,\n",
       " 'pley': 1,\n",
       " 'xtran': 2,\n",
       " 'borrifadas': 2,\n",
       " 'comenta': 2,\n",
       " 'polidas': 2,\n",
       " 'm8nha': 1,\n",
       " 'atiende': 1,\n",
       " 'leendo': 1,\n",
       " 'aj7dar': 1,\n",
       " 'slogam': 1,\n",
       " 'patetico': 1,\n",
       " '8500k': 1,\n",
       " '6000k': 1,\n",
       " 'insinuaram': 1,\n",
       " 'ifigenia': 1,\n",
       " 'casaco': 2,\n",
       " 'produuto': 1,\n",
       " 'sinseramente': 2,\n",
       " 'amido': 1,\n",
       " 'comecio': 1,\n",
       " 'trado': 1,\n",
       " 'temem': 1,\n",
       " 'esntrega': 1,\n",
       " 'cincos': 1,\n",
       " 'chocara': 1,\n",
       " 'naturalle': 1,\n",
       " 'iog100': 1,\n",
       " 'biv': 1,\n",
       " 'baratoes': 1,\n",
       " 'melhoramentos': 1,\n",
       " 'retilineo': 1,\n",
       " 'clinique': 1,\n",
       " 'espacadores': 1,\n",
       " 'pequenininhos': 1,\n",
       " 'exagera': 2,\n",
       " 'rossana': 1,\n",
       " '3litros': 1,\n",
       " 'valos': 1,\n",
       " 'suando': 1,\n",
       " 'bergamo': 1,\n",
       " '00000000000000000000000000000000000000000000000000000000000000000000000000000000000000000000000000000000000000000000000000000000000000000k': 1,\n",
       " '00000000000000000000000000000000000000000000000000000000000000000000000000000000000000000000000000000000000000000000000000000000000000000000000000000k': 1,\n",
       " 'proteto': 2,\n",
       " 'sutis': 1,\n",
       " 'medicy': 1,\n",
       " 'ameeeeeei': 2,\n",
       " 'refrrencia': 1,\n",
       " 'mudia': 1,\n",
       " 'umectados': 1,\n",
       " 'azulllllllllll': 1,\n",
       " 'blusinhas': 1,\n",
       " 'avioes': 2,\n",
       " 'devices': 1,\n",
       " 'flexmop': 5,\n",
       " 'decipicionou': 1,\n",
       " 'madarem': 1,\n",
       " 'creatinas': 1,\n",
       " 'bcaas': 1,\n",
       " 'completadas': 1,\n",
       " 'lerei': 1,\n",
       " 'wie': 1,\n",
       " 'pife': 1,\n",
       " 'desfio': 1,\n",
       " 'desfiadinho': 1,\n",
       " 'desejavaespero': 1,\n",
       " 'fastshop': 1,\n",
       " 'posicionaria': 1,\n",
       " 'inadvertidamente': 1,\n",
       " 'amaco': 2,\n",
       " 'nostalgicos': 1,\n",
       " '602': 1,\n",
       " 'amplas': 1,\n",
       " 'agostinho': 2,\n",
       " 'diminutos': 1,\n",
       " 'gopstaria': 1,\n",
       " 'esquecidos': 1,\n",
       " 'cruzer': 1,\n",
       " 'recepiente': 1,\n",
       " 'ascentar': 1,\n",
       " 'presentinho': 1,\n",
       " 'alba': 1,\n",
       " 'gfjhfjhxgfjfjgdngfjdgfmhgdjkgdhjfvhjmhgdjfd': 1,\n",
       " 'ted': 1,\n",
       " '4hs': 1,\n",
       " '1980': 2,\n",
       " 'concentrate': 2,\n",
       " 'fik': 1,\n",
       " 'edemilson': 1,\n",
       " 'bayendo': 1,\n",
       " 'debitos': 2,\n",
       " 'observaram': 1,\n",
       " 'flagships': 1,\n",
       " 'atrairao': 1,\n",
       " 'deubpta': 1,\n",
       " 'abisurdo': 1,\n",
       " 'consulmidor': 1,\n",
       " 'vienda': 1,\n",
       " 'dca': 2,\n",
       " 'd28': 4,\n",
       " 'pilow': 2,\n",
       " 'finoem': 2,\n",
       " 'ensopados': 1,\n",
       " 'prest': 1,\n",
       " 'street': 2,\n",
       " 'strret': 1,\n",
       " 'sonegando': 1,\n",
       " 'walmir': 1,\n",
       " 'bertazzi': 1,\n",
       " 'suso': 1,\n",
       " 'pars': 1,\n",
       " 'ddmora': 1,\n",
       " 'facho': 1,\n",
       " 'offices': 1,\n",
       " 'copiando': 1,\n",
       " 'esterilizador': 1,\n",
       " 'outrs': 1,\n",
       " 'beyoung': 1,\n",
       " 'vagamundo': 2,\n",
       " 'pointer': 2,\n",
       " 'veleu': 1,\n",
       " 'fincadas': 1,\n",
       " 'sintetiza': 1,\n",
       " 'colonial': 1,\n",
       " 'referencial': 1,\n",
       " 'historiografia': 1,\n",
       " 'conservadorismos': 1,\n",
       " 'infundadas': 1,\n",
       " 'debater': 1,\n",
       " 'jornalistica': 1,\n",
       " 'ideologica': 1,\n",
       " 'reacionarios': 1,\n",
       " 'avariar': 1,\n",
       " 'surpriendir': 1,\n",
       " 'simpatizava': 2,\n",
       " 'intrigada': 2,\n",
       " 'shocklightfarol': 5,\n",
       " 'shocklight': 1,\n",
       " 'depilada': 1,\n",
       " 'dirigido': 1,\n",
       " 'cinematografia': 1,\n",
       " 'agapornis': 1,\n",
       " 'lojasamericanas': 1,\n",
       " 'bommmmmmmmmmmmmmmmmmmmmmmmmmmmmmmmmmmmmmmmmmmmmmmmmmmmmmmmmmm': 1,\n",
       " 'pessos': 1,\n",
       " 'asneiras': 1,\n",
       " 'fanzinhos': 1,\n",
       " 'baixarem': 1,\n",
       " 'acrigel': 1,\n",
       " 'tamebem': 1,\n",
       " 'lindissimas': 1,\n",
       " 'excelento': 1,\n",
       " 'escritoda': 1,\n",
       " 'boaa': 1,\n",
       " 'naotem': 1,\n",
       " 'usoa': 1,\n",
       " 'regulamentadas': 1,\n",
       " 'churros': 1,\n",
       " 'bolachas': 1,\n",
       " 'lojao': 2,\n",
       " 'hora1': 1,\n",
       " 'frangueiro': 1,\n",
       " '7x1': 1,\n",
       " 'peruzento': 1,\n",
       " 'aliviada': 2,\n",
       " 'xavantina': 1,\n",
       " 'sindico': 1,\n",
       " 'doural': 2,\n",
       " 'lampdas': 1,\n",
       " 'tiner': 1,\n",
       " 'availando': 1,\n",
       " 'transportara': 2,\n",
       " 'fadiga': 2,\n",
       " 'oficce': 1,\n",
       " 'pchau': 1,\n",
       " 'desenha': 1,\n",
       " 'tsaoshin': 1,\n",
       " 'deviantart': 1,\n",
       " 'exagerar': 2,\n",
       " 'coneceia': 1,\n",
       " 'esfergao': 1,\n",
       " 'destado': 1,\n",
       " 'atrapalho': 1,\n",
       " 'pocuo': 1,\n",
       " 'gourmets': 1,\n",
       " 'descobrirmos': 1,\n",
       " 'pingoo': 1,\n",
       " 'fucionol': 1,\n",
       " 'devolveiro': 1,\n",
       " 'reeducacoa': 1,\n",
       " 'lugara': 1,\n",
       " 'ibitinga': 1,\n",
       " 'interrompi': 1,\n",
       " 'articulei': 2,\n",
       " 'comicamente': 2,\n",
       " 'braun': 1,\n",
       " 'aaaaaaaaaaaaaaaaaaaaaaaaaaaaaaaaaaaaaaaaasssssssssssssssssssdddddddddddddddddddddddddddd': 1,\n",
       " 'memora': 1,\n",
       " 'obd': 1,\n",
       " 'kkkkkkkkkkkkkkkkkkkkkkkkkkkkkkkkkkkkkkkkkkkkkkkkkkkkkkkkkkkkkkkkkkkkkkkkkkkkkkkkkkkkkkkkkkkkkkk': 1,\n",
       " 'duracel': 1,\n",
       " 'energizer': 3,\n",
       " 'raticida': 1,\n",
       " 'rodilon': 1,\n",
       " 'pellets': 1,\n",
       " 'ratinhos': 1,\n",
       " 'zilda': 1,\n",
       " 'pati': 1,\n",
       " 'valeuuuuuuu': 1,\n",
       " 'desconsiderei': 1,\n",
       " 'xxxxxxxxxxxxxxxxxxxxxxxxxxxxxxxxxxxxxxxxxxxxxxxxxxxxxxxxxxxxxxxxx': 1,\n",
       " 'precisoes': 1,\n",
       " 'ciclistas': 2,\n",
       " 'zb500kg': 1,\n",
       " 'guarana': 4,\n",
       " 'opiti': 2,\n",
       " 'manteira': 1,\n",
       " 'licenciado': 1,\n",
       " 'deliram': 1,\n",
       " 'desprogramando': 1,\n",
       " 'descontrolado': 1,\n",
       " 'gt2000': 1,\n",
       " 'fumcionam': 1,\n",
       " 'antiderrapantes': 1,\n",
       " 'gator': 2,\n",
       " 'saque': 2,\n",
       " 'descongelava': 1,\n",
       " '8a': 1,\n",
       " 'mq': 2,\n",
       " 'imprecisas': 2,\n",
       " 'laconicas': 2,\n",
       " 'sugeria': 1,\n",
       " 'econimiza': 1,\n",
       " '45o': 1,\n",
       " 'repostar': 1,\n",
       " 'opinei': 1,\n",
       " 'reporter': 1,\n",
       " 'fotografic': 1,\n",
       " 'saint': 1,\n",
       " 'germain': 1,\n",
       " 'academy': 1,\n",
       " 'redinha': 1,\n",
       " 'futvolei': 1,\n",
       " '329': 1,\n",
       " 'dio': 1,\n",
       " 'superamoled': 2,\n",
       " 'diversoes': 1,\n",
       " 'catarata': 1,\n",
       " 'resolviam': 1,\n",
       " 'brinds': 1,\n",
       " 'foivantes': 1,\n",
       " 'desligador': 1,\n",
       " 'niveladora': 1,\n",
       " 'assentar': 1,\n",
       " 'sotou': 1,\n",
       " 'barbatana': 1,\n",
       " 'carochinha': 2,\n",
       " 'indentica': 1,\n",
       " 'gerei': 1,\n",
       " 'nnnnnnnnnnnnnnnnnnnnnnnnnnnnnnnnnnnnnnnnnnnnnnnnnnnnnnnnnnnnnnnnnnnnnnnnnnnnnnnnnnnnnnnnnnnnnnnnnnnnnnnnnnnnnnnnnnnnnnnnnnnnnnnnnnnnnnnnnnnnnnnnnnnnnnnnnnnnnnnnnnnnnnnnnnnnnnnnnnnnnnnnnnnnnnnnnnnnnn': 1,\n",
       " 'compreto': 1,\n",
       " 'acidentado': 1,\n",
       " 'th': 1,\n",
       " 'aprovadisdoma': 1,\n",
       " 'flutuou': 1,\n",
       " 'martelei': 1,\n",
       " 'pendriver': 1,\n",
       " 'bumerang': 1,\n",
       " 'arremesaa': 1,\n",
       " 'interia': 1,\n",
       " 'wif': 1,\n",
       " 'nessecita': 1,\n",
       " '2050': 1,\n",
       " 'radia': 2,\n",
       " 'fms': 1,\n",
       " 'bepantol': 1,\n",
       " 'dq': 2,\n",
       " 'bacteriana': 1,\n",
       " 'majustar': 1,\n",
       " 'estrelar': 1,\n",
       " 'temtando': 1,\n",
       " 'reentalar': 1,\n",
       " '3pomada': 1,\n",
       " 'criteriosamente': 1,\n",
       " 'ffffffffffff': 1,\n",
       " 'ffffkdjsn': 1,\n",
       " 'sidjd': 1,\n",
       " 'sksjdjdfk': 1,\n",
       " 'hoby': 1,\n",
       " 'remetende': 1,\n",
       " 'estw': 1,\n",
       " 'cexto': 1,\n",
       " 'collagen': 1,\n",
       " 'vitactive': 1,\n",
       " 'peptideos': 1,\n",
       " 'frustados': 1,\n",
       " 'm280': 1,\n",
       " 'teveser': 1,\n",
       " 'considerasao': 1,\n",
       " 'kkksera': 1,\n",
       " 'decepisionado': 1,\n",
       " 'juntado': 1,\n",
       " 'product': 1,\n",
       " 'teclab': 1,\n",
       " 'interese': 1,\n",
       " 'uogciiiiiiiiiiiiiiiiiiiiiiiiui7tf97df86sd67rae5wsa6erxuytcvihkviou': 1,\n",
       " 'aprsentacao': 1,\n",
       " 'glossy': 4,\n",
       " '135g': 2,\n",
       " 'grafitado': 1,\n",
       " 'tremores': 1,\n",
       " 'avanti': 2,\n",
       " 'pulou': 3,\n",
       " 'inicar': 1,\n",
       " 'carrregar': 1,\n",
       " 'qlqer': 1,\n",
       " 'axu': 2,\n",
       " 'poderias': 1,\n",
       " 'prducto': 1,\n",
       " 'serr': 1,\n",
       " 'alegriaaaaaaaaaaaaaaaaaaaaaaaaaaaaaaaaaaaaaaaaaaaaaaaaaaaaaaaaaaaaaaaaaaaaaaaaaaaaaaaaaaaaaaaaaaaaaaaaaaaaaaaaaaaaaaaaaaaaaaaaaaaaaaaaaaaaaaaaaaaaaaaaaaaaaaaaaaaaaaaaaaaaaaaaaaaaaaaaaaaaaaaaaaaaaaaaaaa': 1,\n",
       " 'descustura': 1,\n",
       " '068': 1,\n",
       " 'fazendinha': 1,\n",
       " 'cavalinhos': 1,\n",
       " 'azia': 1,\n",
       " 'mintou': 1,\n",
       " 'enclinada': 1,\n",
       " 'geleia': 1,\n",
       " 'desabar': 1,\n",
       " 'biospa': 1,\n",
       " 'priorizadas': 1,\n",
       " 'aprenderem': 1,\n",
       " 'damasio': 1,\n",
       " 'valiriano': 1,\n",
       " 'desviadas': 1,\n",
       " 'westeros': 1,\n",
       " 'derrotei': 1,\n",
       " 'nordico': 1,\n",
       " 'aumentada': 1,\n",
       " 'andasse': 1,\n",
       " 'utilicei': 1,\n",
       " 'parebens': 1,\n",
       " 'visveis': 1,\n",
       " 'ajudemmm': 1,\n",
       " 'enganacoes': 2,\n",
       " 'tranquilaa': 1,\n",
       " 'compretimento': 1,\n",
       " 'truncadas': 1,\n",
       " 'singleplayer': 1,\n",
       " 'avanco': 3,\n",
       " 'interrompidas': 1,\n",
       " 'storecadeiras': 1,\n",
       " 'osmar': 1,\n",
       " 'atendemos': 1,\n",
       " 'darao': 1,\n",
       " 'treguas': 1,\n",
       " 'taao': 1,\n",
       " 'refente': 1,\n",
       " 'ganhava': 1,\n",
       " 'zzzzzzzzzzzzzzzzzzzzzzzzzzzzzzzzzzzzzzzzzzzzzzzzzzzzzzzzzzzzzzzzzzzzzzzzzzzzzzzzzzzzzzzzzzzzzzzzzzzzzzzzzzzzzzzzzzz': 1,\n",
       " 'apoquel': 1,\n",
       " 'ruinzinha': 2,\n",
       " 'estruturais': 1,\n",
       " 'esfareladas': 1,\n",
       " 'alagada': 1,\n",
       " 'primeiracompra': 1,\n",
       " 'imaginare': 1,\n",
       " 'omissao': 1,\n",
       " 'concelado': 2,\n",
       " 'revestir': 1,\n",
       " 'ruimkfjdjsjznzxjdkzjzbznzjzjk': 1,\n",
       " 'kdkzjxjdjxjxnjxjxjxjxnxnxndnfn': 1,\n",
       " 'nsjdjd': 1,\n",
       " 'sndjdjd': 1,\n",
       " 'dbdbd': 1,\n",
       " 'djd': 1,\n",
       " 'dbsbs': 1,\n",
       " 'dbsbsvs': 1,\n",
       " 'sbd': 1,\n",
       " 'desloquei': 1,\n",
       " 'acreditarem': 1,\n",
       " 'pastelaria': 2,\n",
       " 'arrecadar': 1,\n",
       " 'fritania': 1,\n",
       " 'acupada': 1,\n",
       " 'recomodo': 1,\n",
       " 'muiiiiiiiiitoooooooooooo': 1,\n",
       " 'resutado': 1,\n",
       " '100plus': 2,\n",
       " 'nenhunha': 1,\n",
       " 'nescecidade': 1,\n",
       " 'queo': 1,\n",
       " 'americanass': 2,\n",
       " 'shimanos': 1,\n",
       " 'schwinn': 2,\n",
       " 'liinda': 1,\n",
       " 'adiarao': 1,\n",
       " 'aparelhofacil': 1,\n",
       " 'elegiei': 1,\n",
       " 'talve': 1,\n",
       " '33wh': 1,\n",
       " '2630': 1,\n",
       " 'cinturato': 1,\n",
       " 'imais': 1,\n",
       " 'sasa': 1,\n",
       " 'sejas': 1,\n",
       " 'reparada': 1,\n",
       " 'caveirinha': 1,\n",
       " 'mastoideo': 1,\n",
       " 'ooooooououooiuooouououoouououuuuuuuuuuuuuuuuu': 1,\n",
       " 'mequetrefe': 2,\n",
       " 'esperimentei': 1,\n",
       " 'seguenciais': 1,\n",
       " '41que': 1,\n",
       " 'artesanais': 1,\n",
       " 'comico': 1,\n",
       " 'prejudicaram': 1,\n",
       " 'ultiu': 1,\n",
       " 'travavam': 1,\n",
       " 'apage': 2,\n",
       " 'fea': 1,\n",
       " 'ooosa': 1,\n",
       " 'esquisitas': 1,\n",
       " 'otimoxxxxxxxxxxxxxxxxxxxxxxxxxxxxxxxxxxxxxxxxxxxxxxxxxxxxxxxxxxxxxxxxxxxxxxxxx': 1,\n",
       " 'sincronizada': 1,\n",
       " 'eletuei': 1,\n",
       " 'biscar': 1,\n",
       " 'poetique': 1,\n",
       " 'bichano': 1,\n",
       " 'artastado': 1,\n",
       " 'fapinha': 1,\n",
       " 'xingu': 1,\n",
       " '3ds': 1,\n",
       " 'regularizada': 1,\n",
       " 'descargas': 1,\n",
       " 'tofos': 1,\n",
       " 'quequeriamso': 1,\n",
       " 'notamanho': 1,\n",
       " 'commedo': 1,\n",
       " 'pegueno': 1,\n",
       " 'certooooooooo': 1,\n",
       " 'idol': 1,\n",
       " 'invensivel': 1,\n",
       " 'luminescencia': 1,\n",
       " 'siuperou': 1,\n",
       " 'pei': 1,\n",
       " 'useee': 1,\n",
       " 'abuseee': 1,\n",
       " 'avtemorraturavfinal': 1,\n",
       " 'mooncity': 1,\n",
       " 'uni': 1,\n",
       " 'abalado': 1,\n",
       " 'deformam': 1,\n",
       " 'antenciosa': 1,\n",
       " 'repetiu': 1,\n",
       " 'arejada': 1,\n",
       " 'yorkishire': 1,\n",
       " 'cervir': 1,\n",
       " 'ajaqueta': 1,\n",
       " 'jelly': 2,\n",
       " 'bean': 2,\n",
       " 'almofadinha': 2,\n",
       " 'extravagante': 1,\n",
       " 'premissa': 1,\n",
       " 'culpado': 1,\n",
       " 'citizem': 1,\n",
       " 'mmmmmmmmmmmmmmmmmmmmmmmmmmmmmmmmmmmmmmmmmmmmmmmmmmmmmmmmmmmmmmmmmmmmmmmmmmmmmmmmmmmmmmmmmmmmmmmmmmmmm': 2,\n",
       " 'turqueza': 1,\n",
       " 'pelatricae': 1,\n",
       " 'entrassemos': 1,\n",
       " '2340': 1,\n",
       " '1200k': 2,\n",
       " '2370': 1,\n",
       " '2600k': 2,\n",
       " '24m2': 1,\n",
       " 'lifetime': 1,\n",
       " 'inoperantes': 1,\n",
       " 'sucegada': 1,\n",
       " 'bija': 1,\n",
       " 'agoara': 1,\n",
       " 'ebaaa': 1,\n",
       " 'iluumina': 1,\n",
       " 'leak': 1,\n",
       " 'desaparecera': 1,\n",
       " '50mb': 1,\n",
       " 'walts': 1,\n",
       " '1800walts': 1,\n",
       " 'esterco': 1,\n",
       " '664xl': 2,\n",
       " 'dilatacao': 1,\n",
       " 'punir': 1,\n",
       " 'lezar': 1,\n",
       " 'rigorosos': 1,\n",
       " 'levantaram': 1,\n",
       " 'citizen': 1,\n",
       " 'certifiquem': 1,\n",
       " 'mandaran': 1,\n",
       " 'desistalar': 1,\n",
       " 'handebol': 1,\n",
       " 'h3': 1,\n",
       " 'h2': 1,\n",
       " 'h1': 1,\n",
       " 'sanando': 1,\n",
       " 'solucionarmos': 1,\n",
       " 'dojo': 1,\n",
       " 'lansamento': 1,\n",
       " 'patenteado': 1,\n",
       " 'rescebi': 1,\n",
       " 'rebatedor': 1,\n",
       " 'wttvvvbbnnbbvvvhvbhvvvbjjjhvvcggbkknnbvbvbbblkvcccvbbvvvvmkkjjjjjjjllkk_j': 1,\n",
       " 'cxxc': 1,\n",
       " 'touchscream': 1,\n",
       " 'descrendencia': 1,\n",
       " 'pezar': 1,\n",
       " 'reservada': 1,\n",
       " 'reinventando': 1,\n",
       " 'demoroua': 1,\n",
       " 'infinitivamente': 1,\n",
       " 'enrrugado': 1,\n",
       " 'tora': 1,\n",
       " 'angustiado': 1,\n",
       " 'canino': 1,\n",
       " 'somas': 1,\n",
       " 'hiperclorico': 1,\n",
       " 'laboratoriais': 1,\n",
       " 'nutricionais': 1,\n",
       " 'profo': 1,\n",
       " 'gilvandro': 1,\n",
       " 'automontagem': 1,\n",
       " 'metado': 1,\n",
       " 'smiles': 1,\n",
       " 'divididas': 1,\n",
       " 'gpus': 1,\n",
       " 'blur': 1,\n",
       " 'aceitas': 1,\n",
       " 'readybooster': 1,\n",
       " 'recusaria': 1,\n",
       " 'reclamasoes': 1,\n",
       " 'troc': 1,\n",
       " 'chingar': 1,\n",
       " 'ameacou': 1,\n",
       " '10graus': 1,\n",
       " 'resebi': 2,\n",
       " 'atrasadoooooooooooooooooooooooooooo': 2,\n",
       " 'bommmmmmmmmmmmmmmmmmmmmmmmmmmm': 1,\n",
       " 'anticaspa': 1,\n",
       " 'impaciente': 1,\n",
       " 'vintes': 1,\n",
       " 'huck': 1,\n",
       " 'paciencias': 1,\n",
       " 'curvando': 1,\n",
       " 'desca': 1,\n",
       " 'estudada': 1,\n",
       " 'fiquesar': 1,\n",
       " 'retestante': 2,\n",
       " 'pretinho': 1,\n",
       " 'hobistas': 1,\n",
       " 'multivitaminicos': 1,\n",
       " 'muricoca': 1,\n",
       " 'chapuletada': 1,\n",
       " 'zoar': 1,\n",
       " 'atingia': 1,\n",
       " 'trek': 1,\n",
       " 'aaguardando': 1,\n",
       " 'inseridas': 1,\n",
       " 'mavic': 1,\n",
       " 'enquadrei': 1,\n",
       " 'catolico': 1,\n",
       " 'veementemente': 1,\n",
       " 'implantes': 1,\n",
       " 'provisionalizacao': 1,\n",
       " 'alveolar': 1,\n",
       " 'escondidos': 2,\n",
       " 'deliciaaaa': 1,\n",
       " 'valdeci': 1,\n",
       " 'otaviano': 1,\n",
       " 'observados': 1,\n",
       " 'reconstruido': 1,\n",
       " 'maquinha': 2,\n",
       " 'compentencia': 2,\n",
       " 'sofwares': 1,\n",
       " 'herbie': 1,\n",
       " 'degustadas': 1,\n",
       " 'ouitro': 1,\n",
       " 'diferem': 1,\n",
       " 'emalado': 1,\n",
       " 'combinarmos': 1,\n",
       " 'isolei': 1,\n",
       " '710ml': 1,\n",
       " 'desconectam': 1,\n",
       " 'respeitavel': 1,\n",
       " '1762472': 1,\n",
       " 'acghar': 1,\n",
       " 'deamis': 1,\n",
       " 'pch01i': 1,\n",
       " '7l': 1,\n",
       " '100c': 1,\n",
       " 'desenhados': 1,\n",
       " 'regressivo': 2,\n",
       " '35w': 1,\n",
       " 'ddddddddf': 1,\n",
       " 'cccccmcmccmmccmcmcmvnvnvvnssmsmsmss': 1,\n",
       " 'amf': 1,\n",
       " 'amfa': 1,\n",
       " 'macmacma': 1,\n",
       " 'amcamacma': 1,\n",
       " 'alamamdana': 1,\n",
       " 'ancanca': 1,\n",
       " 'canca': 1,\n",
       " 'ancancan': 1,\n",
       " 'peeeorjtiaanaainca': 1,\n",
       " 'cnnan': 1,\n",
       " 'nca': 1,\n",
       " 'spccsljldjfaas': 1,\n",
       " 'dlmaclcamca': 1,\n",
       " 'places': 1,\n",
       " 'submeti': 1,\n",
       " 'transpiro': 1,\n",
       " 'estivessemos': 1,\n",
       " 'lantera': 1,\n",
       " 'tranformar': 1,\n",
       " 'microship': 1,\n",
       " 'religiosa': 2,\n",
       " '3268': 1,\n",
       " 'a20p': 1,\n",
       " 'evia': 1,\n",
       " 'capas25': 3,\n",
       " 'exynos': 1,\n",
       " '7570': 1,\n",
       " 'cativaram': 1,\n",
       " 'vcsl': 1,\n",
       " 'decp': 1,\n",
       " '7x': 2,\n",
       " 'brighstar': 2,\n",
       " 'compreeeeeeeeeeeeeem': 2,\n",
       " 'gurilla': 1,\n",
       " 'nougart': 1,\n",
       " 'muuuuiiiito': 1,\n",
       " 'roseni': 1,\n",
       " 'autobiografico': 1,\n",
       " 'jeu': 1,\n",
       " 'brnfoods': 1,\n",
       " 'fd': 1,\n",
       " 'sujem': 1,\n",
       " 'panes': 1,\n",
       " 'nomeclatura': 1,\n",
       " '13mega': 1,\n",
       " 'ateneu': 1,\n",
       " 'autonomo': 1,\n",
       " 'amercicanas': 1,\n",
       " 'exalava': 1,\n",
       " 'grt': 1,\n",
       " 'males': 1,\n",
       " 'provocados': 1,\n",
       " 'puido': 1,\n",
       " 'bacaba': 1,\n",
       " 'reagendaram': 2,\n",
       " 'piquenique': 1,\n",
       " 'avantipalmeiras': 1,\n",
       " ...}"
      ]
     },
     "execution_count": 59,
     "metadata": {},
     "output_type": "execute_result"
    }
   ],
   "source": [
    "dict(items[-10:])"
   ]
  },
  {
   "cell_type": "markdown",
   "metadata": {},
   "source": [
    "Encontramos! `cachoreira` deveria ser `cachoeira`. Vamos ver se conseguimos tratá-lo?"
   ]
  },
  {
   "cell_type": "code",
   "execution_count": 60,
   "metadata": {},
   "outputs": [
    {
     "data": {
      "text/plain": [
       "'A Tv trava muito, é lenta para iniciar e além disso deu problema em menos de 2 anos (1 ano e 7 meses) - A tela fica efeito cachoreira e já pesquisei muito na internet e todos reclamam. Se arrependimento matasse, eu esta estaria morto, a copa do mundo já era pra mim.'"
      ]
     },
     "execution_count": 60,
     "metadata": {},
     "output_type": "execute_result"
    }
   ],
   "source": [
    "df_reviews[df_reviews[\"cleaned_text\"].str.contains(\"cachoreira\")][\"review_text\"].iloc[0]"
   ]
  },
  {
   "cell_type": "markdown",
   "metadata": {},
   "source": [
    "Abaixo vamos testar os métodos para tentar corrigir a palavra `cachoreira` para `cachoeira`. Percebam que os métodos de Jaro são quanto maior mais similares são os textos, enquanto os métodos com levenshtein são quanto menor melhor, visto que precisamos de menos operações para chegar de um texto ao outro."
   ]
  },
  {
   "cell_type": "code",
   "execution_count": 62,
   "metadata": {},
   "outputs": [
    {
     "data": {
      "text/plain": [
       "{'jaro_similarity': {'most_likely_token': 'cachorra',\n",
       "  'score': 0.9333333333333332},\n",
       " 'damerau_levenshtein_distance': {'most_likely_token': 'cachoeira',\n",
       "  'score': 1},\n",
       " 'levenshtein_distance': {'most_likely_token': 'cachoeira', 'score': 1},\n",
       " 'jaro_winkler_similarity': {'most_likely_token': 'cachorra', 'score': 0.96}}"
      ]
     },
     "execution_count": 62,
     "metadata": {},
     "output_type": "execute_result"
    }
   ],
   "source": [
    "import jellyfish\n",
    "import operator\n",
    "\n",
    "similaridades = [\n",
    " \"jaro_similarity\",\n",
    " \"damerau_levenshtein_distance\",\n",
    " \"levenshtein_distance\",\n",
    " \"jaro_winkler_similarity\"\n",
    "]\n",
    "\n",
    "texto = \"cachoreira\"\n",
    "resultados = {}\n",
    "for distancia in similaridades:\n",
    "  score = {\n",
    "      valid_token: getattr(jellyfish, distancia)(\n",
    "        texto, valid_token\n",
    "      )\n",
    "      for valid_token in vocab_valido\n",
    "  }\n",
    "  score = max(score.items(), key=operator.itemgetter(1)) if \"jaro\" in distancia else min(score.items(), key=operator.itemgetter(1))\n",
    "  resultados[distancia] = {\"most_likely_token\": score[0] ,\"score\": score[1]}\n",
    "resultados"
   ]
  },
  {
   "cell_type": "markdown",
   "metadata": {},
   "source": [
    "Os métodos de levenshtein conseguiram identificar a palavra correta! Enquanto os métodos de jaro acabaram achando `cachoreira` mais similar com `cachorra`. Outro ponto interessante é que jaro_winkler_similarity deu uma pontuação maior do que somente jaro_similarity, visto que a maior parte da similaridade dos dois textos está no início `cachor`. Os métodos Damerau Levenshtein e Levenshtein deram o mesmo resultado, visto que não foi necessário nenhuma transposição para chegar de `cachoreira` para `cachoeira`, somente a remoção do r."
   ]
  },
  {
   "cell_type": "markdown",
   "metadata": {},
   "source": [
    "##### Usando a similaridade para limitar o vocabulário"
   ]
  },
  {
   "cell_type": "markdown",
   "metadata": {},
   "source": [
    "Agora vamos usar a biblioteca rapidfuzz que já implementa a comparação de um texto com uma lista, extraindo o mais similar de acordo com a distância de Levenshtein e retornando a pontuação normalizada também. Com isso, podemos usá-la para limitar nosso vocabulário, alterando os textos com alta similaridade, enquanto os demais irão para um token chamado \"desconhecido\". Poderíamos ter implementado um loop usando a biblioteca jellyfish também."
   ]
  },
  {
   "cell_type": "markdown",
   "metadata": {},
   "source": [
    "O score de 80 foi um número arbitrário, podemos aumentar ou reduzir de acordo com o problema em questão."
   ]
  },
  {
   "cell_type": "code",
   "execution_count": 74,
   "metadata": {},
   "outputs": [
    {
     "name": "stdout",
     "output_type": "stream",
     "text": [
      "Substituindo token tachos pelo token cachos\n",
      "Substituindo token devira pelo token deviria\n",
      "Substituindo token row pelo token desconhecido\n",
      "Substituindo token pesquisam pelo token pesquisas\n",
      "Substituindo token downdo pelo token doendo\n",
      "Substituindo token roubaria pelo token desconhecido\n",
      "Substituindo token aspetos pelo token aspectos\n",
      "Substituindo token bags pelo token desconhecido\n",
      "Substituindo token adv pelo token desconhecido\n",
      "Substituindo token recondicionados pelo token recondicionado\n",
      "Substituindo token refurbush pelo token desconhecido\n",
      "Substituindo token recon pelo token recom\n",
      "Substituindo token ultilizsndo pelo token ultilizando\n",
      "Substituindo token pandora pelo token desconhecido\n",
      "Substituindo token 063 pelo token desconhecido\n",
      "Substituindo token edilma pelo token dilma\n",
      "Substituindo token colecioneclassicos pelo token desconhecido\n",
      "Substituindo token raco pelo token fraco\n",
      "Substituindo token botado pelo token botao\n",
      "Substituindo token garvain pelo token desconhecido\n"
     ]
    }
   ],
   "source": [
    "from rapidfuzz import process\n",
    "from rapidfuzz.distance import Levenshtein\n",
    "\n",
    "items = list(vocab_tratamento.items())\n",
    "itens_to_treat = dict(items[:20])\n",
    "\n",
    "for key, value in itens_to_treat.items():\n",
    "    new_token, score, _ = process.extractOne(key, vocab_valido.keys(), scorer=Levenshtein.normalized_similarity)\n",
    "    replacement = new_token if score >= 0.80 else \"desconhecido\"\n",
    "    df_reviews[\"cleaned_text_fuzzy\"] = df_reviews[\"cleaned_text\"].str.replace(f\" {key} \", f\" {replacement} \")\n",
    "    print(f\"Substituindo token {key} pelo token {replacement}\")"
   ]
  },
  {
   "cell_type": "markdown",
   "metadata": {},
   "source": [
    "Podemos ver que grande parte das substituições fizeram bastante sentido, limpando os tokens para não ter números e letras teríamos um resultado ainda melhor. <br>\n",
    "<br> Agora você já sabe como limpar os textos! Na próxima aula veremos como transformar os tokens em representações numéricas que irão alimentar nosso modelo."
   ]
  }
 ],
 "metadata": {
  "kernelspec": {
   "display_name": "nlp-env",
   "language": "python",
   "name": "nlp-env"
  },
  "language_info": {
   "codemirror_mode": {
    "name": "ipython",
    "version": 3
   },
   "file_extension": ".py",
   "mimetype": "text/x-python",
   "name": "python",
   "nbconvert_exporter": "python",
   "pygments_lexer": "ipython3",
   "version": "3.10.0"
  }
 },
 "nbformat": 4,
 "nbformat_minor": 2
}
