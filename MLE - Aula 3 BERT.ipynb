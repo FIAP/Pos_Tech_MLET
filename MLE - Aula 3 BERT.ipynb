{
 "cells": [
  {
   "cell_type": "markdown",
   "id": "c310fd9a-0ec2-4ca2-a0fd-1d00af2f8de0",
   "metadata": {},
   "source": [
    "# BERT\n",
    "\n",
    "BERT, Bidirectional Encoder Representatios from Transformers, é um outro tipo de modelo de representação de linguagem. Foi introduzido em 2018 pelo Google e seu artigo pode ser consultado aqui: [link](https://arxiv.org/pdf/1810.04805)\n",
    "\n",
    "Três razões principais tornam o BERT um dos grandes avanços em NLP:\n",
    "\n",
    "1. demonstra um sofisticado conhecimento de linguagem, atingindo performance humana em algumas tarefas\n",
    "2. pode ser aplicado numa variedade de tarefas\n",
    "3. oferece o benefício de pré-treino + fine-tuning: o BERT foi treinado pelo Google num corpus de texto muito grande e você pode se apoderar desse conhecimento de linguagem tomando o modelo pré-treinado e aplicar o fine-tuning em sua própria aplicação. \n",
    "\n",
    "Entretanto, não estamos ainda no nível de por o BERT em qualquer problema e esperar grandes resultados. Assim, o objetivo dessa aula será o de fornecer o entendimento de como BERT funciona e o que ele pode ou não pode fazer."
   ]
  },
  {
   "cell_type": "markdown",
   "id": "c6c3b82f-aea7-4900-97fe-85824c7d3a69",
   "metadata": {},
   "source": [
    "## Pre-training e Fine-tuning\n",
    "\n",
    "Antes de adentrarmos em como o BERT funciona é importante que tenhamos conceitos claros do que é **pre-training** e **fine-tuning**, o que, combinados, formam a técnica que chamamos de *transfer learning*. \n",
    "\n",
    "Quando estudamos o BERT, vemos que as duas principais contribuições são essas duas:\n",
    "\n",
    "1. *Masked Language Model (MLM)*\n",
    "2. *Next Sentence Prediction (NSP)*\n",
    "\n",
    "Considere o seguinte exemplo sobre essas duas atividades:"
   ]
  },
  {
   "cell_type": "markdown",
   "id": "df57ca1d-d9e7-45f0-9421-74f104e03a94",
   "metadata": {},
   "source": [
    "<img src=\"img/MLM_NSP.png\" />"
   ]
  },
  {
   "cell_type": "markdown",
   "id": "c3477215-aaea-4fed-a0c6-fbf341280a96",
   "metadata": {},
   "source": [
    "Isto é que o BERT deve fazer: \n",
    "\n",
    "1. MLM - predizer a palavra tracejada (simple)\n",
    "2. NSP - a sentença B (laranja) foi encontrada imediatamente depois da sentenca A (azul) ou em outro lugar? O BERT deveria retornar que elas são consecutivas.\n",
    "\n",
    "Extrapolando, o BERT foi treinado para executar essas duas tarefas puramente como uma forma de forçar um sofisticado entendimento da linguagem. \n",
    "\n",
    "Mas o BERT não seria tão interessante se tudo o que ele pode fazer fosse predizer palavras faltantes (MLM) e dizer se duas sentenças são consecutivas ou não. A principal parte do BERT é uma rede neural de 12 camadas extensa que processa texto. O MLM e o NSP adicionam, cada um, uma única camada de classificação ao output do BERT para executar suas respectivas atividades. \n",
    "\n",
    "Observe a ilustração abaixo que mostra que o mesmo modelo BERT pré-treinado pode ser usada para executar Análise de Sentimento ou Extração de Entidade Nomeada (NER) com a única diferença sendo a camada final do modelo. "
   ]
  },
  {
   "cell_type": "markdown",
   "id": "f4e1cceb-6c03-4b58-a0dc-ab9dcfbd6855",
   "metadata": {},
   "source": [
    "<img src=\"img/bert_tasks.png\" />"
   ]
  },
  {
   "cell_type": "markdown",
   "id": "dca3d754-f436-47c3-87be-88b25c732fc3",
   "metadata": {},
   "source": [
    "Assim, por exemplo, se você deseja aplicar o BERT para uma tarefa específica de classificação de texto, você deveria pegar o modelo BERT pré-treinado, adicionar uma camada de neurônios não treinados no final e treinar o novo modelo combinado no seu dataset. Este passo final é denominado *fine-tuning*, visto que a quantidade de treino requirido para adaptar o BERT para sua tarefa é muito pequena quando comparada ao tempo que a Google gastou para treinar o BERT. Mesmo assim, a tarefa fine-tuning é custosa computacionalmente falando. \n",
    "\n",
    "Dessa maneira, esta técnica de adicionar uma pequena tarefa específica ao final de um grande modelo pré-treinado e aplicar fine-tuning ao resultado é conhecido como **Transfer Learning**. "
   ]
  },
  {
   "cell_type": "markdown",
   "id": "fc31423a-aaaa-4925-9abb-2a077591c1dc",
   "metadata": {},
   "source": [
    "Mas afinal, por qual motivo usar Transfer Learning ao invés de treinar diretamente um modelo de deep learning? Exsitem três principais razões:\n",
    "\n",
    "1. **Desenvolvimento rápido:** como já há uma quantidade massiva de dados treinados, os autores recomendam de 2 a 4 épocas de treinamento para fine-tuning do BERT para uma tarefa específica. \n",
    "\n",
    "2. **Menos dados:** visto que a grande maioria de dados já foi usada para treinar o BERT\n",
    "\n",
    "3. **Melhores resultados:** este procedimento de fine-tuning demonstrou atingir resultados do estado-da-arte em tarefas como classificação, QA, similaridade semântica, entre outros. "
   ]
  },
  {
   "cell_type": "markdown",
   "id": "d3aff093-c0d7-4c53-b85b-8332d0e7678d",
   "metadata": {},
   "source": [
    "### Formato de Input e Output do BERT\n",
    "\n",
    "Antes de entrar nos detalhes da arquitetura interna do BERT, é importante ter uma clara ideia de como o BERT faz a ingestão de texto e o que exatamente ele retorna. \n",
    "\n",
    "O primeiro passo é o **tokenizer**, que toma um texto limpo e o divide em tokens que o BERT faz ingestão. O motivo do BERT prover seu próprio tokenizer é que ele possui um vocabulário fixo de tokens, com um embedding associado a cada um. Mas ai surge uma questão: como ele lida com palavras que não estão no vocabulário? Ai entra em cena o segundo passo: **lidando com palavras fora do vocabulário**. \n",
    "\n",
    "Se uma palavra não está presente no vobabulário do BERT ele quebra ela em sub-palavras. E, se mesmo assim as sub-palavras não estiverem no vocabulário, o BERT pode as quebrar em caracteres individuais. Cada sub-palavra ou caracter individual se torna um token separado, representado por seu próprio embedding. Além disso, o BERT possui tokens para representar caracteres de pontuação e a única coisa que ele descarta no processo de tekenização é o espaço em branco. \n",
    "\n",
    "Assim, quando aplicamos o BERT a um pedaço de texto, o tokenizer irá dividir o texto em tokens, procurar os embeddings desses tokens e estes serão os reais inputs do BERT, sendo cada um deles composto por 768 features. De maneira bem simples, o que o BERT faz é tomar esses embeddings como input e solta como output uma versão melhorada desses embeddings. \n",
    "\n",
    "E para entender como o BERT cria essa versão melhorada de uma única palavra (embedding), considere o exemplo abaixo:"
   ]
  },
  {
   "cell_type": "markdown",
   "id": "19bd044a-4e58-4238-a419-e64ae27b1b40",
   "metadata": {},
   "source": [
    "<img src=\"img/input_melhorado.png\" />"
   ]
  },
  {
   "cell_type": "markdown",
   "id": "3f474c20-ccaf-451d-964b-84f4aaa15504",
   "metadata": {},
   "source": [
    "Entretanto, na prática, o BERT processa cada palavra independentemente e, por isso, é possível paralelizar o processo e executar todas as palavras de input através do BERT \"de uma só vez\". Veja a imagem abaixo:"
   ]
  },
  {
   "cell_type": "markdown",
   "id": "4ddbb315-f6dc-4ccc-b87b-9d456b31918b",
   "metadata": {},
   "source": [
    "<img src=\"img/bert_paralel.png\" />"
   ]
  },
  {
   "cell_type": "markdown",
   "id": "fca765db-74cc-4ae0-9ba8-9a7ee3d4c500",
   "metadata": {},
   "source": [
    "Essa rede de conexões ilustra que, para cada palavra de input, vamos incorporar todos os embeddings das outras palavras também.\n",
    "\n",
    "Esse processo de pegar um conjunto de embeddings e melhorá-lo é, na verdade, repetido 12 vezes no BERT, como pode ser visto na imagem abaixo:"
   ]
  },
  {
   "cell_type": "markdown",
   "id": "9db17f27-5a1e-4bd6-9e58-3f2588576cab",
   "metadata": {},
   "source": [
    "<img src=\"img/12_layers.png\" />"
   ]
  },
  {
   "cell_type": "markdown",
   "id": "333bd15d-0099-4b54-b9d3-1613ff7f199c",
   "metadata": {},
   "source": [
    "Esse processo ilustra alguns aspectos importantes do BERT:\n",
    "\n",
    "* a \"rede de conexão\" mostra que todas as palavras são incorporadas em processar cada palavra\n",
    "* a mesma arquitetura é aplicada a cada palavra em paralelo"
   ]
  },
  {
   "cell_type": "markdown",
   "id": "88d8f175-0492-4157-96f1-50dfc03a3dc4",
   "metadata": {},
   "source": [
    "Um ponto importante a ser dito é que o arranjo de palavras do exemplo acima, em que elas aparcem na ordem de uma correta sentença, não é uma necessidade do BERT. Na realidade, o BERT não posssui nenhum conhecimento explícito da ordem da palavra. Entretanto, ele requer alguma noção de ordem da palavra e a maneira como ele faz isso é bastante particular. O BERT possui um conjunto de 512 embeddings conhecidos como **positional encoding (PE)**, que simplesmente somamos ao embedding da palavra correspondente, conforme ilustração a seguir:"
   ]
  },
  {
   "cell_type": "markdown",
   "id": "d27e924f-f62e-4066-868a-d6547035a40c",
   "metadata": {},
   "source": [
    "<img src=\"img/PE.png\" />"
   ]
  },
  {
   "cell_type": "markdown",
   "id": "d63b88ad-b7d7-4842-93f8-fc8f43ce6975",
   "metadata": {},
   "source": [
    "Importante notar que o PE é adicionado apenas antes da primeira camada e não entre quaisquer outras camadas. "
   ]
  },
  {
   "cell_type": "markdown",
   "id": "77520c55-ce75-4c04-bbfc-97bd2a275d44",
   "metadata": {},
   "source": [
    "## Arquitetura do BERT\n",
    "\n",
    "Até aqui, sabemos como o BERT tokeniza o texto e sabemos que ele produz um conjunto melhorado de embeddings para cada token, mas qual o mecanismo por trás desse processo de melhora? Como o BERT realmente dá sentido a linguagem?\n",
    "\n",
    "A arquitetura do BERT vem diretamente da arquitetura do Transformer - que está mais bem explicada no material de apoio e será objetivo de estudo na disciplina de IA Generativa. A parte mais importante dessa arquitetura é uma técnica denominada **Self-attention**.\n",
    "\n",
    "Anteriormente, analisamos o exemplo abaixo em que comentamos que, ao melhorar o embedding da palavra \"like\", também incorporamos os embeddings de outras palavras na sentença. \n",
    "\n",
    "Self-attention é o pedaço que realiza essa incorporação de outros embeddings.\n",
    "\n",
    "Quando produz um embedding melhorado para uma palavra, self-attention irá pegar a média ponderada dos embeddings de outras palavras de contexto. O peso do self-attention atribui para cada palavra de contexto o quanto de atenção que será dada a essa palavra de contexto. Considere o seguinte exemplo:"
   ]
  },
  {
   "cell_type": "markdown",
   "id": "c61835b9-f07f-4eb5-8d6d-b3cef3938b8b",
   "metadata": {},
   "source": [
    "<img src=\"img/self_attention.png\" />"
   ]
  },
  {
   "cell_type": "markdown",
   "id": "b34b6a4f-8427-4b72-a739-70dd3daf8856",
   "metadata": {},
   "source": [
    "Ao processar a palavra \"he\", self-attention fornece pesos para as diferentes palavras na sentença (quanto mais escuro o tom, maior o peso). Neste caso, BERT está focando primeiramente no nome do personagem a quem \"he\" se refere - \"Bert\". \n",
    "\n",
    "Algumas notas importantes: \n",
    "\n",
    "1. Será atribuído um peso a cada palavra\n",
    "2. O embedding para a palavra de input é incluído na média ponderada\n",
    "3. Os pesos são calculados com a função SoftMax\n",
    "\n",
    "Assim, o resultado de uma palavra melhorada é dado pela seguinte função:\n",
    "\n",
    "$\\bar{x} = \\sum_{i=1}^{n} w_i x_i$\n",
    "\n",
    "em que:\n",
    "\n",
    "* $n$ é o número de palavras na sentença\n",
    "* $i$ é a posição da palavra na sentença\n",
    "* $x_i$ é o embedding da palavra na posição $i$\n",
    "* $w_i$ é o valor do peso dado a palavra na posição $i$\n",
    "* $\\bar{x}$ é o embedding melhorado da palavra"
   ]
  },
  {
   "cell_type": "markdown",
   "id": "40cd8972-a682-4c18-9d64-6c3c2030d6ab",
   "metadata": {},
   "source": [
    "Então, como calculamos os pesos que serão atribuídos a cada palavra numa sentença? Essencialmente, iremos calcular o produto escalar da palavra de input pela palavra de contexto, que é a que queremos determinar o peso. Isso será feito para todas as palavras de contexto, passa por uma função SoftMax e obteremos nossos pesos, conforme detalhado na imagem abaixo:"
   ]
  },
  {
   "cell_type": "markdown",
   "id": "b99cf222-a455-461f-bea0-a34447666060",
   "metadata": {},
   "source": [
    "<img src=\"img/calculo_pesos.png\" />"
   ]
  },
  {
   "cell_type": "markdown",
   "id": "d7128e02-fdcc-407c-9113-24952008e503",
   "metadata": {},
   "source": [
    "Dentro de uma única camada do BERT, existe mais um componente relevante depois do self-attention: uma rede neural de 3 camadas, referenciada como Feed Forward Neural Network no paper original. A imagem abaixo ilustra essa rede:"
   ]
  },
  {
   "cell_type": "markdown",
   "id": "a7f1d6f9-f1ab-4ab2-add6-21e9c200a8b3",
   "metadata": {},
   "source": [
    "<img src=\"img/ffn.png\" />"
   ]
  },
  {
   "cell_type": "markdown",
   "id": "bcce6bff-df54-44de-943f-ca57734175b2",
   "metadata": {},
   "source": [
    "A convenção adotada no paper tanto do Transformer quanto do BERT foi de configurar o número de neurônios na camada oculta como sendo 4x o tamanho do embedding. Assim $4x768 = 3072$ neurônios ocultos. Além disso, a função de ativação GeLu (mais detalhes [aqui](https://medium.com/@shauryagoel/gelu-gaussian-error-linear-unit-4ec59fb2e47c)) e essa FFN é responsável pela maior parte dos pesos do BERT. \n",
    "\n",
    "Mas anteriormente dissemos que o BERT possui 12 camadas e cada uma delas é responsável por prestar atenção numa determinada porção do texto, ou, tecnicamente dizendo, cada uma responsável por executar uma função. Esse mecanismo é conhecido como **Multi-headed attention**. Dessa, uma única palavra de input será executada, junto com suas palavras de contexto, através de 12 únicas instâncias de self-attention, o que, consequentemente, gera 12 únicos embeddings melhorados. Assim, fica a questão: como combinar esses 12 resultados em apenas um? \n",
    "\n",
    "Para resolver esse problema, adicionamos uma nova camada para melhor combinar esses 12 resultados num embedding de dimensão 768."
   ]
  },
  {
   "cell_type": "markdown",
   "id": "ee85f3a7-8efb-47c8-8e8d-79a413192c2d",
   "metadata": {},
   "source": [
    "# Prática\n",
    "\n",
    "Vamos agora entender como aplicar o BERT a um problema de classificação de texto.\n",
    "\n",
    "Para construir um modelo de classificação de texto usando BERT, podemos aplicar duas estratégias (ligeiramente) diferentes. Como mencionado acima, o BERT é usado para codificar textos em um vetor. O modelo de classificação que construímos no BERT consiste em classificar esses vetores usando algoritmos de ML. Então, podemos:\n",
    "\n",
    "1. Aplicar BERT aos textos como etapas de pré-processamento e, em seguida, construir um modelo de ML que classifica esses vetores\n",
    "2. Construir um modelo que começa com BERT (onde congelamos os parâmetros ao treinar o modelo) e, em seguida, construir sobre o BERT uma camada que classifica esses vetores\n",
    "\n",
    "A vantagem do primeiro método é que precisamos passar o texto (dados de treinamento e teste) apenas uma vez pelo BERT, e não para cada época no treinamento, reduzindo significativamente o tempo de treinamento. A vantagem do segundo método é que não precisamos construir uma etapa adicional para o pipeline, uma vez que o de ponta a ponta (do texto à classificação) é fornecido pelo tokenizador e o próprio modelo.\n",
    "\n",
    "Para fins pedagógicos, usaremos a segunda abordagem. Em um caso real, a escolha da abordagem dependeria do uso do modelo. Se precisarmos treinar o modelo regularmente, eu preferiria a primeira abordagem. Se o modelo tiver que ser treinado apenas uma vez, eu escolheria a segunda abordagem.\n",
    "\n",
    "Usaremos o modelo DistilBERT da biblioteca Python transformers, que é fornecida pela empresa Hugging Face."
   ]
  },
  {
   "cell_type": "markdown",
   "id": "96097ace-d3e1-4bdb-bb90-fd0e000dfaf1",
   "metadata": {},
   "source": [
    "### Dataset\n",
    "Vamos usar um pequeno dataset nessa prática: o BBC News, que consistem em aproximadamente 2000 amostras e pode ser obtido [aqui](https://www.kaggle.com/datasets/sainijagjit/bbc-dataset?resource=download)"
   ]
  },
  {
   "cell_type": "code",
   "execution_count": 1,
   "id": "27641524-a1fa-4428-8555-e750c0d2f4aa",
   "metadata": {},
   "outputs": [
    {
     "data": {
      "text/html": [
       "<div>\n",
       "<style scoped>\n",
       "    .dataframe tbody tr th:only-of-type {\n",
       "        vertical-align: middle;\n",
       "    }\n",
       "\n",
       "    .dataframe tbody tr th {\n",
       "        vertical-align: top;\n",
       "    }\n",
       "\n",
       "    .dataframe thead th {\n",
       "        text-align: right;\n",
       "    }\n",
       "</style>\n",
       "<table border=\"1\" class=\"dataframe\">\n",
       "  <thead>\n",
       "    <tr style=\"text-align: right;\">\n",
       "      <th></th>\n",
       "      <th>category</th>\n",
       "      <th>text</th>\n",
       "    </tr>\n",
       "  </thead>\n",
       "  <tbody>\n",
       "    <tr>\n",
       "      <th>0</th>\n",
       "      <td>tech</td>\n",
       "      <td>tv future in the hands of viewers with home th...</td>\n",
       "    </tr>\n",
       "    <tr>\n",
       "      <th>1</th>\n",
       "      <td>business</td>\n",
       "      <td>worldcom boss  left books alone  former worldc...</td>\n",
       "    </tr>\n",
       "    <tr>\n",
       "      <th>2</th>\n",
       "      <td>sport</td>\n",
       "      <td>tigers wary of farrell  gamble  leicester say ...</td>\n",
       "    </tr>\n",
       "    <tr>\n",
       "      <th>3</th>\n",
       "      <td>sport</td>\n",
       "      <td>yeading face newcastle in fa cup premiership s...</td>\n",
       "    </tr>\n",
       "    <tr>\n",
       "      <th>4</th>\n",
       "      <td>entertainment</td>\n",
       "      <td>ocean s twelve raids box office ocean s twelve...</td>\n",
       "    </tr>\n",
       "  </tbody>\n",
       "</table>\n",
       "</div>"
      ],
      "text/plain": [
       "        category                                               text\n",
       "0           tech  tv future in the hands of viewers with home th...\n",
       "1       business  worldcom boss  left books alone  former worldc...\n",
       "2          sport  tigers wary of farrell  gamble  leicester say ...\n",
       "3          sport  yeading face newcastle in fa cup premiership s...\n",
       "4  entertainment  ocean s twelve raids box office ocean s twelve..."
      ]
     },
     "execution_count": 1,
     "metadata": {},
     "output_type": "execute_result"
    }
   ],
   "source": [
    "import pandas as pd\n",
    "import numpy as np\n",
    "from sklearn.model_selection import train_test_split\n",
    "from datetime import datetime\n",
    "\n",
    "# Download the dataset and put it in subfolder called data\n",
    "df = pd.read_csv(\"bases/bbc-text.csv\")\n",
    "df = df[[\"category\", \"text\"]]\n",
    "\n",
    "# Show the data\n",
    "df.head()"
   ]
  },
  {
   "cell_type": "markdown",
   "id": "ae4487c8-2ebf-44f6-95b4-7102306fe23f",
   "metadata": {},
   "source": [
    "Primeiro, vamos analisar os dados:"
   ]
  },
  {
   "cell_type": "code",
   "execution_count": 2,
   "id": "2e302e09-51fd-4057-91f8-52bafeef5b82",
   "metadata": {},
   "outputs": [
    {
     "name": "stdout",
     "output_type": "stream",
     "text": [
      "Total number of news: 2225\n",
      "----------------------------------------\n",
      "Split by category:\n",
      "sport            511\n",
      "business         510\n",
      "politics         417\n",
      "tech             401\n",
      "entertainment    386\n",
      "Name: category, dtype: int64\n",
      "----------------------------------------\n",
      "Number of categories: 5\n"
     ]
    }
   ],
   "source": [
    "print('Total number of news: {}'.format(len(df)))\n",
    "print(40*'-')\n",
    "print('Split by category:')\n",
    "print(df[\"category\"].value_counts())\n",
    "print(40*'-')\n",
    "nr_categories = len(df[\"category\"].unique())\n",
    "print(\"Number of categories: {n}\".format(n=nr_categories))"
   ]
  },
  {
   "cell_type": "markdown",
   "id": "6b753f7c-e152-41dd-987f-4c840a1141a3",
   "metadata": {},
   "source": [
    "Obtemos um número total de entradas de 2.225, que são relativamente uniformemente divididas em cinco classes. Isso nos permite aplicar métodos padrão, pois não há necessidade de super ou subponderar algumas classes.\n",
    "\n",
    "Finalmente, vamos dar uma olhada em um exemplo específico para ter uma impressão concreta:"
   ]
  },
  {
   "cell_type": "code",
   "execution_count": 3,
   "id": "df660dcf-eb30-4c0c-8e2b-0856b61b49a8",
   "metadata": {},
   "outputs": [
    {
     "name": "stdout",
     "output_type": "stream",
     "text": [
      "Category:  entertainment\n",
      "----------------------------------------------------------------------------------------------------\n",
      "Text:\n",
      "housewives lift channel 4 ratings the debut of us television hit desperate housewives has helped lift channel 4 s january audience share by 12% compared to last year.  other successes such as celebrity big brother and the simpsons have enabled the broadcaster to surpass bbc two for the first month since last july. bbc two s share of the audience fell from 11.2% to 9.6% last month in comparison with january 2004. celebrity big brother attracted fewer viewers than its 2002 series.  comedy drama desperate housewives managed to pull in five million viewers at one point during its run to date  attracting a quarter of the television audience. the two main television channels  bbc1 and itv1  have both seen their monthly audience share decline in a year on year comparison for january  while five s proportion remained the same at a slender 6.3%. digital multi-channel tv is continuing to be the strongest area of growth  with the bbc reporting freeview box ownership of five million  including one million sales in the last portion of 2004. its share of the audience soared by 20% in january 2005 compared with last year  and currently stands at an average of 28.6%.\n"
     ]
    }
   ],
   "source": [
    "n=100\n",
    "print('Category: ',df['category'][n])\n",
    "print(100*'-')\n",
    "print('Text:')\n",
    "print(df['text'][n])"
   ]
  },
  {
   "cell_type": "markdown",
   "id": "cd850c43-1bb8-4f9f-8f94-6813078ca612",
   "metadata": {},
   "source": [
    "As labels precisam ser convertidas para números. Vamos fazer isso:"
   ]
  },
  {
   "cell_type": "code",
   "execution_count": 4,
   "id": "3357353b-9f8a-4f54-ad41-0fb467b738da",
   "metadata": {},
   "outputs": [
    {
     "name": "stdout",
     "output_type": "stream",
     "text": [
      "[4 0 3 ... 1 2 3]\n"
     ]
    }
   ],
   "source": [
    "X = df['text']\n",
    "y=np.unique(df['category'], return_inverse=True)[1]\n",
    "print(y)"
   ]
  },
  {
   "cell_type": "markdown",
   "id": "47ead568-aa0a-49dd-998d-97970c7b0774",
   "metadata": {},
   "source": [
    "Vamos instanciar o tokenizer do BERT que será usado posteriormente:"
   ]
  },
  {
   "cell_type": "code",
   "execution_count": 5,
   "id": "95cb2ce0-9ae9-4aa2-b75d-2726c9c63684",
   "metadata": {},
   "outputs": [],
   "source": [
    "import transformers\n",
    "tokenizer = transformers.DistilBertTokenizer.from_pretrained('distilbert-base-uncased')"
   ]
  },
  {
   "cell_type": "markdown",
   "id": "9c1f70c3-af96-4882-8467-8ebcca042816",
   "metadata": {},
   "source": [
    "### Preparando o Datset\n",
    "\n",
    "Em uma primeira etapa, converteremos o conjunto de dados em tensores do pytorch, depois os empacotaremos em uma classe Dataset e, finalmente, incorporaremos o Dataset em um Dataloader."
   ]
  },
  {
   "cell_type": "code",
   "execution_count": 6,
   "id": "309dc0e8-932b-44ba-8f46-c7f496b7e3d6",
   "metadata": {},
   "outputs": [],
   "source": [
    "import torch\n",
    "\n",
    "X_list=X.to_list()\n",
    "X_pt = tokenizer(X_list, padding='max_length', max_length = 512, truncation=True, return_tensors='pt')[\"input_ids\"]\n",
    "\n",
    "y_list=y.tolist()\n",
    "y_pt = torch.Tensor(y_list).long()"
   ]
  },
  {
   "cell_type": "code",
   "execution_count": 7,
   "id": "b9c6d160-4a45-483d-9127-513383d0629b",
   "metadata": {},
   "outputs": [],
   "source": [
    "X_pt_train, X_pt_test, y_pt_train, y_pt_test = train_test_split(X_pt, y_pt, test_size=0.3, random_state=42, stratify=y_pt)"
   ]
  },
  {
   "cell_type": "markdown",
   "id": "0fb5b05f-3dc9-463c-ac83-5423ffdf71cc",
   "metadata": {},
   "source": [
    "Criamos uma classe Dataset e instanciaremos os conjuntos de dados de treinamento e teste."
   ]
  },
  {
   "cell_type": "code",
   "execution_count": 8,
   "id": "f045edb6-79f0-4ea2-ab19-5526067c437f",
   "metadata": {},
   "outputs": [],
   "source": [
    "from torch.utils.data import Dataset, DataLoader\n",
    "class BBCNewsDataset(Dataset):\n",
    "    \"\"\"Custom-built BBC News dataset\"\"\"\n",
    "\n",
    "    def __init__(self, X, y):\n",
    "        \"\"\"\n",
    "        Args:\n",
    "            X, y as Torch tensors\n",
    "        \"\"\"\n",
    "        self.X_train = X\n",
    "        self.y_train = y\n",
    "        \n",
    "\n",
    "    def __len__(self):\n",
    "        return len(self.y_train)\n",
    "\n",
    "    def __getitem__(self, idx):\n",
    "        return self.X_train[idx], self.y_train[idx]"
   ]
  },
  {
   "cell_type": "code",
   "execution_count": 9,
   "id": "30d8108e-1df1-437c-bb25-0dd0700122d3",
   "metadata": {},
   "outputs": [],
   "source": [
    "#obtém conjunto de treino e teste no formato Dataset\n",
    "train_data_pt = BBCNewsDataset(X=X_pt_train, y=y_pt_train)\n",
    "test_data_pt = BBCNewsDataset(X=X_pt_test, y=y_pt_test)"
   ]
  },
  {
   "cell_type": "markdown",
   "id": "9a5725a4-c278-402a-aa83-c32fc84f0535",
   "metadata": {},
   "source": [
    "Incorporamos o dataset em um Dataloader para preparar o dataset para ser usado para treinamento."
   ]
  },
  {
   "cell_type": "code",
   "execution_count": 10,
   "id": "ffc23b65-e76c-4224-9218-2ae5dadd912c",
   "metadata": {},
   "outputs": [],
   "source": [
    "train_loader_pt = DataLoader(train_data_pt, batch_size=32)\n",
    "test_loader_pt = DataLoader(test_data_pt, batch_size=32)"
   ]
  },
  {
   "cell_type": "markdown",
   "id": "24ced3b2-d449-40db-8844-76f69337cc72",
   "metadata": {},
   "source": [
    "### Construindo o modelo\n",
    "\n",
    "Vamos construir o modelo. Para isso, primeiro precisamos obter a camada BERT da biblioteca do Transformer. "
   ]
  },
  {
   "cell_type": "code",
   "execution_count": 11,
   "id": "63b17a9c-66a9-4944-8559-53dbe3c40f91",
   "metadata": {},
   "outputs": [
    {
     "name": "stderr",
     "output_type": "stream",
     "text": [
      "Some weights of the model checkpoint at distilbert-base-uncased were not used when initializing DistilBertModel: ['vocab_transform.weight', 'vocab_projector.bias', 'vocab_projector.weight', 'vocab_transform.bias', 'vocab_layer_norm.weight', 'vocab_layer_norm.bias']\n",
      "- This IS expected if you are initializing DistilBertModel from the checkpoint of a model trained on another task or with another architecture (e.g. initializing a BertForSequenceClassification model from a BertForPreTraining model).\n",
      "- This IS NOT expected if you are initializing DistilBertModel from the checkpoint of a model that you expect to be exactly identical (initializing a BertForSequenceClassification model from a BertForSequenceClassification model).\n"
     ]
    }
   ],
   "source": [
    "config = transformers.DistilBertConfig(dropout=0.2, attention_dropout=0.2)\n",
    "dbert_pt = transformers.DistilBertModel.from_pretrained('distilbert-base-uncased', config=config)"
   ]
  },
  {
   "cell_type": "markdown",
   "id": "14d5aec4-189c-4cae-81d8-47e5cc14a74c",
   "metadata": {},
   "source": [
    "Vamos tentar entender melhor esse modelo dando uma olhada mais de perto em sua saída. Para isso, vamos pegar uma amostra do nosso conjunto de dados de treinamento (pegamos uma amostra de tamanho cinco) e olhar a saída por meio do modelo."
   ]
  },
  {
   "cell_type": "code",
   "execution_count": 12,
   "id": "935ddbcc-cb54-4ecd-a9a6-1a1e0c8a5bec",
   "metadata": {},
   "outputs": [
    {
     "name": "stdout",
     "output_type": "stream",
     "text": [
      "Object type:  <class 'transformers.modeling_outputs.BaseModelOutput'>\n",
      "Output format (shape):  torch.Size([5, 512, 768])\n",
      "Output used as input for the classifier (shape):  torch.Size([5, 768])\n"
     ]
    }
   ],
   "source": [
    "sample = X_pt_train[0:5]\n",
    "print('Object type: ', type(dbert_pt(sample)))\n",
    "print('Output format (shape): ',dbert_pt(sample)[0].shape)\n",
    "print('Output used as input for the classifier (shape): ', dbert_pt(sample)[0][:,0,:].shape)"
   ]
  },
  {
   "cell_type": "markdown",
   "id": "dc8c2b3e-2d7b-4012-a0a8-516d729b84a3",
   "metadata": {},
   "source": [
    "A saída é um objeto Python específico. Entre outras informações, obtemos um Tensor de tamanho (N, M, S), onde N é o tamanho do conjunto de dados (no nosso caso, cinco exemplos), M é o comprimento da amostra (número de palavras no texto) e S é o tamanho do vetor de saída (a saída do modelo). Normalmente, para uma tarefa de classificação, usamos o primeiro vetor de saída de uma frase como entrada para o restante do modelo de classificação, já que esse primeiro vetor \"codifica\" informações sobre a frase geral. Alternativamente, uma média de agrupamento de todos os vetores de saída também pode ser usada como entrada para o classificador.\n",
    "\n",
    "Agora é hora de construir o modelo de classificação! Ele consistirá em:\n",
    "\n",
    "* Modelo Distil Bert: para codificar os dados de entrada em uma nova sequência de vetores (que é a saída do BERT). Apenas o primeiro vetor desta sequência será usado como entrada para o resto do classificador\n",
    "* Camada de Dropout: para regularização\n",
    "* Camada densa (com função de ativação relu, com 64 neurônios): para resolver o problema específico de classificação\n",
    "* Camada densa (com função de ativação softmax): para uma distribuição de probabilidade para cada rótulo\n",
    "\n",
    "A camada de Dropout é usada apenas durante o treinamento. Alguns links entre as camadas são definidos como zero de propósito, para que seus \"vizinhos\" assumam seu papel. Isso torna a previsão geral mais robusta. Ao usar o modelo para inferência (predição), as camadas de abandono são ignoradas e a saída é redimensionada de acordo. Observe que esta é uma das razões pelas quais temos que informar ao modelo se ele está em modo de treinamento ou avaliação.\n",
    "\n",
    "No PyTorch, precisamos definir as camadas e, em seguida, definir uma função de avanço que faça uso das camadas. Cada camada obtém o tamanho de entrada e o tamanho de saída como parâmetros de configuração, então as informações sobre as dimensões dos tensores já estão contidas no próprio modelo. Por exemplo, a camada \"linear1\" obtém um vetor de tamanho 768 como entrada e retorna um vetor de tamanho 64 como saída. Esses dois números são parte de sua definição. "
   ]
  },
  {
   "cell_type": "code",
   "execution_count": 13,
   "id": "45c4951f-df3b-4e90-a519-39626b4d3887",
   "metadata": {},
   "outputs": [
    {
     "name": "stdout",
     "output_type": "stream",
     "text": [
      "Using cpu device\n"
     ]
    }
   ],
   "source": [
    "from torch import nn\n",
    "# Get cpu or gpu device for training.\n",
    "device = \"cuda\" if torch.cuda.is_available() else \"cpu\"\n",
    "print(f\"Using {device} device\")\n",
    "\n",
    "class DistilBertClassification(nn.Module):\n",
    "    def __init__(self):\n",
    "        super(DistilBertClassification, self).__init__()\n",
    "        self.dbert = dbert_pt\n",
    "        self.dropout = nn.Dropout(p=0.2)\n",
    "        self.linear1 = nn.Linear(768,64)\n",
    "        self.ReLu = nn.ReLU()\n",
    "        self.linear2 = nn.Linear(64,5)\n",
    "\n",
    "    def forward(self, x):\n",
    "        x = self.dbert(input_ids=x)\n",
    "        x = x[\"last_hidden_state\"][:,0,:]\n",
    "        x = self.dropout(x)\n",
    "        x = self.linear1(x)\n",
    "        x = self.ReLu(x)\n",
    "        logits = self.linear2(x)\n",
    "        # No need for a softmax, because it is already included in the CrossEntropyLoss\n",
    "        return logits\n",
    "\n",
    "model_pt = DistilBertClassification().to(device)"
   ]
  },
  {
   "cell_type": "code",
   "execution_count": 14,
   "id": "e950d3f5-65ea-4acf-a83e-a09cd4559ec4",
   "metadata": {},
   "outputs": [
    {
     "name": "stdout",
     "output_type": "stream",
     "text": [
      "DistilBertClassification(\n",
      "  (dbert): DistilBertModel(\n",
      "    (embeddings): Embeddings(\n",
      "      (word_embeddings): Embedding(30522, 768, padding_idx=0)\n",
      "      (position_embeddings): Embedding(512, 768)\n",
      "      (LayerNorm): LayerNorm((768,), eps=1e-12, elementwise_affine=True)\n",
      "      (dropout): Dropout(p=0.2, inplace=False)\n",
      "    )\n",
      "    (transformer): Transformer(\n",
      "      (layer): ModuleList(\n",
      "        (0): TransformerBlock(\n",
      "          (attention): MultiHeadSelfAttention(\n",
      "            (dropout): Dropout(p=0.2, inplace=False)\n",
      "            (q_lin): Linear(in_features=768, out_features=768, bias=True)\n",
      "            (k_lin): Linear(in_features=768, out_features=768, bias=True)\n",
      "            (v_lin): Linear(in_features=768, out_features=768, bias=True)\n",
      "            (out_lin): Linear(in_features=768, out_features=768, bias=True)\n",
      "          )\n",
      "          (sa_layer_norm): LayerNorm((768,), eps=1e-12, elementwise_affine=True)\n",
      "          (ffn): FFN(\n",
      "            (dropout): Dropout(p=0.2, inplace=False)\n",
      "            (lin1): Linear(in_features=768, out_features=3072, bias=True)\n",
      "            (lin2): Linear(in_features=3072, out_features=768, bias=True)\n",
      "            (activation): GELUActivation()\n",
      "          )\n",
      "          (output_layer_norm): LayerNorm((768,), eps=1e-12, elementwise_affine=True)\n",
      "        )\n",
      "        (1): TransformerBlock(\n",
      "          (attention): MultiHeadSelfAttention(\n",
      "            (dropout): Dropout(p=0.2, inplace=False)\n",
      "            (q_lin): Linear(in_features=768, out_features=768, bias=True)\n",
      "            (k_lin): Linear(in_features=768, out_features=768, bias=True)\n",
      "            (v_lin): Linear(in_features=768, out_features=768, bias=True)\n",
      "            (out_lin): Linear(in_features=768, out_features=768, bias=True)\n",
      "          )\n",
      "          (sa_layer_norm): LayerNorm((768,), eps=1e-12, elementwise_affine=True)\n",
      "          (ffn): FFN(\n",
      "            (dropout): Dropout(p=0.2, inplace=False)\n",
      "            (lin1): Linear(in_features=768, out_features=3072, bias=True)\n",
      "            (lin2): Linear(in_features=3072, out_features=768, bias=True)\n",
      "            (activation): GELUActivation()\n",
      "          )\n",
      "          (output_layer_norm): LayerNorm((768,), eps=1e-12, elementwise_affine=True)\n",
      "        )\n",
      "        (2): TransformerBlock(\n",
      "          (attention): MultiHeadSelfAttention(\n",
      "            (dropout): Dropout(p=0.2, inplace=False)\n",
      "            (q_lin): Linear(in_features=768, out_features=768, bias=True)\n",
      "            (k_lin): Linear(in_features=768, out_features=768, bias=True)\n",
      "            (v_lin): Linear(in_features=768, out_features=768, bias=True)\n",
      "            (out_lin): Linear(in_features=768, out_features=768, bias=True)\n",
      "          )\n",
      "          (sa_layer_norm): LayerNorm((768,), eps=1e-12, elementwise_affine=True)\n",
      "          (ffn): FFN(\n",
      "            (dropout): Dropout(p=0.2, inplace=False)\n",
      "            (lin1): Linear(in_features=768, out_features=3072, bias=True)\n",
      "            (lin2): Linear(in_features=3072, out_features=768, bias=True)\n",
      "            (activation): GELUActivation()\n",
      "          )\n",
      "          (output_layer_norm): LayerNorm((768,), eps=1e-12, elementwise_affine=True)\n",
      "        )\n",
      "        (3): TransformerBlock(\n",
      "          (attention): MultiHeadSelfAttention(\n",
      "            (dropout): Dropout(p=0.2, inplace=False)\n",
      "            (q_lin): Linear(in_features=768, out_features=768, bias=True)\n",
      "            (k_lin): Linear(in_features=768, out_features=768, bias=True)\n",
      "            (v_lin): Linear(in_features=768, out_features=768, bias=True)\n",
      "            (out_lin): Linear(in_features=768, out_features=768, bias=True)\n",
      "          )\n",
      "          (sa_layer_norm): LayerNorm((768,), eps=1e-12, elementwise_affine=True)\n",
      "          (ffn): FFN(\n",
      "            (dropout): Dropout(p=0.2, inplace=False)\n",
      "            (lin1): Linear(in_features=768, out_features=3072, bias=True)\n",
      "            (lin2): Linear(in_features=3072, out_features=768, bias=True)\n",
      "            (activation): GELUActivation()\n",
      "          )\n",
      "          (output_layer_norm): LayerNorm((768,), eps=1e-12, elementwise_affine=True)\n",
      "        )\n",
      "        (4): TransformerBlock(\n",
      "          (attention): MultiHeadSelfAttention(\n",
      "            (dropout): Dropout(p=0.2, inplace=False)\n",
      "            (q_lin): Linear(in_features=768, out_features=768, bias=True)\n",
      "            (k_lin): Linear(in_features=768, out_features=768, bias=True)\n",
      "            (v_lin): Linear(in_features=768, out_features=768, bias=True)\n",
      "            (out_lin): Linear(in_features=768, out_features=768, bias=True)\n",
      "          )\n",
      "          (sa_layer_norm): LayerNorm((768,), eps=1e-12, elementwise_affine=True)\n",
      "          (ffn): FFN(\n",
      "            (dropout): Dropout(p=0.2, inplace=False)\n",
      "            (lin1): Linear(in_features=768, out_features=3072, bias=True)\n",
      "            (lin2): Linear(in_features=3072, out_features=768, bias=True)\n",
      "            (activation): GELUActivation()\n",
      "          )\n",
      "          (output_layer_norm): LayerNorm((768,), eps=1e-12, elementwise_affine=True)\n",
      "        )\n",
      "        (5): TransformerBlock(\n",
      "          (attention): MultiHeadSelfAttention(\n",
      "            (dropout): Dropout(p=0.2, inplace=False)\n",
      "            (q_lin): Linear(in_features=768, out_features=768, bias=True)\n",
      "            (k_lin): Linear(in_features=768, out_features=768, bias=True)\n",
      "            (v_lin): Linear(in_features=768, out_features=768, bias=True)\n",
      "            (out_lin): Linear(in_features=768, out_features=768, bias=True)\n",
      "          )\n",
      "          (sa_layer_norm): LayerNorm((768,), eps=1e-12, elementwise_affine=True)\n",
      "          (ffn): FFN(\n",
      "            (dropout): Dropout(p=0.2, inplace=False)\n",
      "            (lin1): Linear(in_features=768, out_features=3072, bias=True)\n",
      "            (lin2): Linear(in_features=3072, out_features=768, bias=True)\n",
      "            (activation): GELUActivation()\n",
      "          )\n",
      "          (output_layer_norm): LayerNorm((768,), eps=1e-12, elementwise_affine=True)\n",
      "        )\n",
      "      )\n",
      "    )\n",
      "  )\n",
      "  (dropout): Dropout(p=0.2, inplace=False)\n",
      "  (linear1): Linear(in_features=768, out_features=64, bias=True)\n",
      "  (ReLu): ReLU()\n",
      "  (linear2): Linear(in_features=64, out_features=5, bias=True)\n",
      ")\n"
     ]
    }
   ],
   "source": [
    "print(model_pt)"
   ]
  },
  {
   "cell_type": "markdown",
   "id": "9dff1298-92f2-4afa-96e6-330c4d06900a",
   "metadata": {},
   "source": [
    "Ainda precisamos definir os parâmetros da parte BERT do modelo como \"não treinável\"."
   ]
  },
  {
   "cell_type": "code",
   "execution_count": 15,
   "id": "ffc460cb-0141-440c-9440-c7d8438321fe",
   "metadata": {},
   "outputs": [],
   "source": [
    "for param in model_pt.dbert.parameters():\n",
    "    param.requires_grad = False"
   ]
  },
  {
   "cell_type": "markdown",
   "id": "66fc6f79-d068-4db5-8ad9-d0736e6ce325",
   "metadata": {},
   "source": [
    "Vejamos o número de parâmetros (treináveis e não treináveis):"
   ]
  },
  {
   "cell_type": "code",
   "execution_count": 16,
   "id": "67c1ef93-1876-4ee4-b2bf-727596725ddc",
   "metadata": {},
   "outputs": [
    {
     "name": "stdout",
     "output_type": "stream",
     "text": [
      "Number of parameters:  66412421\n",
      "Number of trainable parameters:  49541\n"
     ]
    }
   ],
   "source": [
    "total_params = sum(p.numel() for p in model_pt.parameters())\n",
    "total_params_trainable = sum(p.numel() for p in model_pt.parameters() if p.requires_grad)\n",
    "print(\"Number of parameters: \", total_params)\n",
    "print(\"Number of trainable parameters: \", total_params_trainable)"
   ]
  },
  {
   "cell_type": "markdown",
   "id": "f4aa8e21-3ca9-44c3-8c73-18b513581eed",
   "metadata": {},
   "source": [
    "Vamos verificar rapidamente se o número de parâmetros treináveis (que estão apenas nas camadas densas, BERT sendo \"congelado\") faz sentido. O vetor que sai do BERT é um vetor de tamanho 768 (por definição do modelo BERT). Cada um desses elementos está vinculado a cada um dos 64 neurônios da camada densa, levando a 768x64=49152 parâmetros. Cada neurônio tem um parâmetro adicional, o bias, ou seja, 64 parâmetros. A saída da camada densa consiste em 64 elementos, que se conectam a todos os cinco elementos da camada de classificação, ou seja, 64x5. A camada de classificação também tem 5 bias.\n",
    "\n",
    "No total, o número de parâmetros treináveis é: 768x64+64+64*5+5 = 49541! Chegamos lá :-)"
   ]
  },
  {
   "cell_type": "markdown",
   "id": "48d9b56d-1014-4573-ba61-f1c4701a3d01",
   "metadata": {},
   "source": [
    "### Treinando o Modelo\n",
    "\n",
    "Agora é hora de treinar o modelo! Vamos fazer isso tendo em mente que queremos medir o desempenho (tanto em termos de acurácia quanto de tempo de treinamento), então vamos colocar a medição em prática.\n",
    "\n",
    "No Pytorch, precisamos definir um loop de treinamento, que fará um loop em épocas (alto nível) e lotes (baixo nível). Mas, ao codificar os loops de treinamento nós mesmos, isso nos dá total transparência sobre o que está sendo feito!\n",
    "\n",
    "Queremos rastrear o progresso do treinamento e, por isso, introduzimos o dicionário \"history\", que coleta vários indicadores-chave de desempenho durante o treinamento.\n",
    "\n",
    "Antes de começarmos o treinamento, precisamos configurar o número de épocas, o critério (qual é a função a ser minimizada) e o otimizador."
   ]
  },
  {
   "cell_type": "code",
   "execution_count": 17,
   "id": "57d6ca0d-4322-4898-95b2-4282c7199a1b",
   "metadata": {},
   "outputs": [],
   "source": [
    "epochs = 5\n",
    "criterion = torch.nn.CrossEntropyLoss()\n",
    "optimizer = torch.optim.Adam(model_pt.parameters())"
   ]
  },
  {
   "cell_type": "code",
   "execution_count": 18,
   "id": "36b0f9ea-acfb-4760-8698-f92fa2423f7e",
   "metadata": {},
   "outputs": [
    {
     "name": "stderr",
     "output_type": "stream",
     "text": [
      "100%|███████████████████████████████████████████| 49/49 [22:38<00:00, 27.73s/it]\n"
     ]
    },
    {
     "name": "stdout",
     "output_type": "stream",
     "text": [
      "Epoch 1 \t\t Training Loss:      1.133 \t\t Validation Loss:      0.615\n",
      "\t\t Training Accuracy:    63.712% \t\t Validation Accuracy:    88.473%\n"
     ]
    },
    {
     "name": "stderr",
     "output_type": "stream",
     "text": [
      "100%|███████████████████████████████████████████| 49/49 [23:33<00:00, 28.84s/it]\n"
     ]
    },
    {
     "name": "stdout",
     "output_type": "stream",
     "text": [
      "Epoch 2 \t\t Training Loss:      0.458 \t\t Validation Loss:      0.252\n",
      "\t\t Training Accuracy:    91.458% \t\t Validation Accuracy:    94.611%\n"
     ]
    },
    {
     "name": "stderr",
     "output_type": "stream",
     "text": [
      "100%|███████████████████████████████████████████| 49/49 [22:56<00:00, 28.10s/it]\n"
     ]
    },
    {
     "name": "stdout",
     "output_type": "stream",
     "text": [
      "Epoch 3 \t\t Training Loss:      0.257 \t\t Validation Loss:      0.164\n",
      "\t\t Training Accuracy:    94.605% \t\t Validation Accuracy:    95.359%\n"
     ]
    },
    {
     "name": "stderr",
     "output_type": "stream",
     "text": [
      "100%|███████████████████████████████████████████| 49/49 [22:49<00:00, 27.95s/it]\n"
     ]
    },
    {
     "name": "stdout",
     "output_type": "stream",
     "text": [
      "Epoch 4 \t\t Training Loss:      0.192 \t\t Validation Loss:      0.129\n",
      "\t\t Training Accuracy:    94.926% \t\t Validation Accuracy:    95.808%\n"
     ]
    },
    {
     "name": "stderr",
     "output_type": "stream",
     "text": [
      "100%|███████████████████████████████████████████| 49/49 [23:14<00:00, 28.45s/it]\n"
     ]
    },
    {
     "name": "stdout",
     "output_type": "stream",
     "text": [
      "Epoch 5 \t\t Training Loss:      0.151 \t\t Validation Loss:      0.113\n",
      "\t\t Training Accuracy:    96.146% \t\t Validation Accuracy:    95.958%\n"
     ]
    }
   ],
   "source": [
    "from tqdm import tqdm\n",
    "\n",
    "# Define o dicionário \"history\" que irá coletar indicadores de performance durante o treino\n",
    "history = {}\n",
    "history[\"epoch\"]=[]\n",
    "history[\"train_loss\"]=[]\n",
    "history[\"valid_loss\"]=[]\n",
    "history[\"train_accuracy\"]=[]\n",
    "history[\"valid_accuracy\"]=[]\n",
    "\n",
    "# Mensura o tempo para treinamento\n",
    "start_time = datetime.now()\n",
    "\n",
    "# Loop nas épocas\n",
    "for e in range(epochs):\n",
    "    \n",
    "    # Configura o modo para treino\n",
    "    model_pt.train()\n",
    "    \n",
    "    train_loss = 0.0\n",
    "    train_accuracy = []\n",
    "    \n",
    "    # itera sobre os batches\n",
    "    for X, y in tqdm(train_loader_pt):\n",
    "        \n",
    "        # Obtém predições e Loss\n",
    "        prediction = model_pt(X)\n",
    "        loss = criterion(prediction, y)\n",
    "        \n",
    "        # Ajusta os parametros do modelo\n",
    "        optimizer.zero_grad()\n",
    "        loss.backward()\n",
    "        optimizer.step()\n",
    "        \n",
    "        train_loss += loss.item()\n",
    "        \n",
    "        prediction_index = prediction.argmax(axis=1)\n",
    "        accuracy = (prediction_index==y)\n",
    "        train_accuracy += accuracy\n",
    "    \n",
    "    train_accuracy = (sum(train_accuracy) / len(train_accuracy)).item()\n",
    "    \n",
    "    # Calcula a loss no conjunto de teste depois de cada época\n",
    "    # Configura o modo para avaliacao\n",
    "    model_pt.eval()\n",
    "    valid_loss = 0.0\n",
    "    valid_accuracy = []\n",
    "    for X, y in test_loader_pt:\n",
    "         \n",
    "        prediction = model_pt(X)\n",
    "        loss = criterion(prediction, y)\n",
    "\n",
    "        valid_loss += loss.item()\n",
    "        \n",
    "        prediction_index = prediction.argmax(axis=1)\n",
    "        accuracy = (prediction_index==y)\n",
    "        valid_accuracy += accuracy\n",
    "    valid_accuracy = (sum(valid_accuracy) / len(valid_accuracy)).item()\n",
    "    \n",
    "    history[\"epoch\"].append(e+1)\n",
    "    history[\"train_loss\"].append(train_loss / len(train_loader_pt))\n",
    "    history[\"valid_loss\"].append(valid_loss / len(test_loader_pt))\n",
    "    history[\"train_accuracy\"].append(train_accuracy)\n",
    "    history[\"valid_accuracy\"].append(valid_accuracy)    \n",
    "        \n",
    "    print(f'Epoch {e+1} \\t\\t Training Loss: {train_loss / len(train_loader_pt) :10.3f} \\t\\t Validation Loss: {valid_loss / len(test_loader_pt) :10.3f}')\n",
    "    print(f'\\t\\t Training Accuracy: {train_accuracy :10.3%} \\t\\t Validation Accuracy: {valid_accuracy :10.3%}')\n",
    "    \n",
    "# Mensura tempo de treinamento\n",
    "end_time = datetime.now()\n",
    "training_time_pt = (end_time - start_time).total_seconds()"
   ]
  },
  {
   "cell_type": "code",
   "execution_count": 19,
   "id": "81e3ba8d-e1c5-4be7-9fdd-d5c4a43cf8b5",
   "metadata": {},
   "outputs": [
    {
     "data": {
      "text/plain": [
       "<matplotlib.legend.Legend at 0x7fc8cb082f20>"
      ]
     },
     "execution_count": 19,
     "metadata": {},
     "output_type": "execute_result"
    },
    {
     "data": {
      "image/png": "[encoded data removed]",
      "text/plain": [
       "<Figure size 1500x500 with 2 Axes>"
      ]
     },
     "metadata": {},
     "output_type": "display_data"
    }
   ],
   "source": [
    "from matplotlib import pyplot as plt\n",
    "\n",
    "fig, ax = plt.subplots(nrows=1, ncols=2, figsize=(15, 5))\n",
    "ax[0].set(title='Loss')\n",
    "ax[0].plot(history['train_loss'], label='Training')\n",
    "ax[0].plot(history['valid_loss'], label='Validation')\n",
    "ax[0].legend(loc=\"upper right\")\n",
    "\n",
    "ax[1].set(title='Accuracy')\n",
    "ax[1].plot(history['train_accuracy'], label='Training')\n",
    "ax[1].plot(history['valid_accuracy'], label='Validation')\n",
    "ax[1].legend(loc=\"lower right\")"
   ]
  },
  {
   "cell_type": "code",
   "execution_count": 20,
   "id": "027a24d0-5b7c-4e38-8335-ba8d64ec54f2",
   "metadata": {},
   "outputs": [
    {
     "name": "stdout",
     "output_type": "stream",
     "text": [
      "Accuracy Training data: 96.1%\n",
      "Accuracy Test data: 96.0%\n",
      "Training time: 9043.7s (or 150.7 minutes)\n"
     ]
    }
   ],
   "source": [
    "accuracy_pt = history['valid_accuracy'][-1]\n",
    "print('Accuracy Training data: {:.1%}'.format(history['train_accuracy'][-1]))\n",
    "print('Accuracy Test data: {:.1%}'.format(history['valid_accuracy'][-1]))\n",
    "print('Training time: {:.1f}s (or {:.1f} minutes)'.format(training_time_pt, training_time_pt/60))"
   ]
  },
  {
   "cell_type": "markdown",
   "id": "7ecf05a3-902a-4bb7-a65d-273abda94b61",
   "metadata": {},
   "source": [
    "A acurácia parece boa (>95%)! Também observamos que a acurácia aumenta com as épocas, e as acurácias de treino e validação são próximas uma da outra, o que significa que parece não haver overfitting. \n",
    "\n",
    "Nosso modelo está treinado! Para manter este modelo, vamos salvá-lo."
   ]
  },
  {
   "cell_type": "markdown",
   "id": "94f066ab-e44a-46ca-a785-cbdcb7f490cd",
   "metadata": {},
   "source": [
    "### Salvando o modelo\n",
    "\n",
    "Existem duas abordagens para salvar um modelo e abordaremos ambas nesta seção.\n",
    "\n",
    "É possível salvar apenas os parâmetros do modelo. Então, para carregar o modelo, primeiro teremos que instanciar o modelo (o modelo DistilBertClassification) e, em seguida, carregar todos os seus parâmetros (treinados) neste modelo. Esta é uma maneira conveniente de armazenar um modelo, no entanto, só é possível se você tiver detalhes completos sobre a arquitetura do modelo original.\n",
    "\n",
    "Uma alternativa é salvar o modelo inteiro. Ao fazer isso, é mais fácil carregar o modelo de seu local salvo. Vamos dar uma olhada nas duas abordagens."
   ]
  },
  {
   "cell_type": "code",
   "execution_count": 21,
   "id": "cf17508a-83ae-4ce6-8fd8-3f10ff9999fb",
   "metadata": {},
   "outputs": [
    {
     "data": {
      "text/plain": [
       "DistilBertClassification(\n",
       "  (dbert): DistilBertModel(\n",
       "    (embeddings): Embeddings(\n",
       "      (word_embeddings): Embedding(30522, 768, padding_idx=0)\n",
       "      (position_embeddings): Embedding(512, 768)\n",
       "      (LayerNorm): LayerNorm((768,), eps=1e-12, elementwise_affine=True)\n",
       "      (dropout): Dropout(p=0.2, inplace=False)\n",
       "    )\n",
       "    (transformer): Transformer(\n",
       "      (layer): ModuleList(\n",
       "        (0): TransformerBlock(\n",
       "          (attention): MultiHeadSelfAttention(\n",
       "            (dropout): Dropout(p=0.2, inplace=False)\n",
       "            (q_lin): Linear(in_features=768, out_features=768, bias=True)\n",
       "            (k_lin): Linear(in_features=768, out_features=768, bias=True)\n",
       "            (v_lin): Linear(in_features=768, out_features=768, bias=True)\n",
       "            (out_lin): Linear(in_features=768, out_features=768, bias=True)\n",
       "          )\n",
       "          (sa_layer_norm): LayerNorm((768,), eps=1e-12, elementwise_affine=True)\n",
       "          (ffn): FFN(\n",
       "            (dropout): Dropout(p=0.2, inplace=False)\n",
       "            (lin1): Linear(in_features=768, out_features=3072, bias=True)\n",
       "            (lin2): Linear(in_features=3072, out_features=768, bias=True)\n",
       "            (activation): GELUActivation()\n",
       "          )\n",
       "          (output_layer_norm): LayerNorm((768,), eps=1e-12, elementwise_affine=True)\n",
       "        )\n",
       "        (1): TransformerBlock(\n",
       "          (attention): MultiHeadSelfAttention(\n",
       "            (dropout): Dropout(p=0.2, inplace=False)\n",
       "            (q_lin): Linear(in_features=768, out_features=768, bias=True)\n",
       "            (k_lin): Linear(in_features=768, out_features=768, bias=True)\n",
       "            (v_lin): Linear(in_features=768, out_features=768, bias=True)\n",
       "            (out_lin): Linear(in_features=768, out_features=768, bias=True)\n",
       "          )\n",
       "          (sa_layer_norm): LayerNorm((768,), eps=1e-12, elementwise_affine=True)\n",
       "          (ffn): FFN(\n",
       "            (dropout): Dropout(p=0.2, inplace=False)\n",
       "            (lin1): Linear(in_features=768, out_features=3072, bias=True)\n",
       "            (lin2): Linear(in_features=3072, out_features=768, bias=True)\n",
       "            (activation): GELUActivation()\n",
       "          )\n",
       "          (output_layer_norm): LayerNorm((768,), eps=1e-12, elementwise_affine=True)\n",
       "        )\n",
       "        (2): TransformerBlock(\n",
       "          (attention): MultiHeadSelfAttention(\n",
       "            (dropout): Dropout(p=0.2, inplace=False)\n",
       "            (q_lin): Linear(in_features=768, out_features=768, bias=True)\n",
       "            (k_lin): Linear(in_features=768, out_features=768, bias=True)\n",
       "            (v_lin): Linear(in_features=768, out_features=768, bias=True)\n",
       "            (out_lin): Linear(in_features=768, out_features=768, bias=True)\n",
       "          )\n",
       "          (sa_layer_norm): LayerNorm((768,), eps=1e-12, elementwise_affine=True)\n",
       "          (ffn): FFN(\n",
       "            (dropout): Dropout(p=0.2, inplace=False)\n",
       "            (lin1): Linear(in_features=768, out_features=3072, bias=True)\n",
       "            (lin2): Linear(in_features=3072, out_features=768, bias=True)\n",
       "            (activation): GELUActivation()\n",
       "          )\n",
       "          (output_layer_norm): LayerNorm((768,), eps=1e-12, elementwise_affine=True)\n",
       "        )\n",
       "        (3): TransformerBlock(\n",
       "          (attention): MultiHeadSelfAttention(\n",
       "            (dropout): Dropout(p=0.2, inplace=False)\n",
       "            (q_lin): Linear(in_features=768, out_features=768, bias=True)\n",
       "            (k_lin): Linear(in_features=768, out_features=768, bias=True)\n",
       "            (v_lin): Linear(in_features=768, out_features=768, bias=True)\n",
       "            (out_lin): Linear(in_features=768, out_features=768, bias=True)\n",
       "          )\n",
       "          (sa_layer_norm): LayerNorm((768,), eps=1e-12, elementwise_affine=True)\n",
       "          (ffn): FFN(\n",
       "            (dropout): Dropout(p=0.2, inplace=False)\n",
       "            (lin1): Linear(in_features=768, out_features=3072, bias=True)\n",
       "            (lin2): Linear(in_features=3072, out_features=768, bias=True)\n",
       "            (activation): GELUActivation()\n",
       "          )\n",
       "          (output_layer_norm): LayerNorm((768,), eps=1e-12, elementwise_affine=True)\n",
       "        )\n",
       "        (4): TransformerBlock(\n",
       "          (attention): MultiHeadSelfAttention(\n",
       "            (dropout): Dropout(p=0.2, inplace=False)\n",
       "            (q_lin): Linear(in_features=768, out_features=768, bias=True)\n",
       "            (k_lin): Linear(in_features=768, out_features=768, bias=True)\n",
       "            (v_lin): Linear(in_features=768, out_features=768, bias=True)\n",
       "            (out_lin): Linear(in_features=768, out_features=768, bias=True)\n",
       "          )\n",
       "          (sa_layer_norm): LayerNorm((768,), eps=1e-12, elementwise_affine=True)\n",
       "          (ffn): FFN(\n",
       "            (dropout): Dropout(p=0.2, inplace=False)\n",
       "            (lin1): Linear(in_features=768, out_features=3072, bias=True)\n",
       "            (lin2): Linear(in_features=3072, out_features=768, bias=True)\n",
       "            (activation): GELUActivation()\n",
       "          )\n",
       "          (output_layer_norm): LayerNorm((768,), eps=1e-12, elementwise_affine=True)\n",
       "        )\n",
       "        (5): TransformerBlock(\n",
       "          (attention): MultiHeadSelfAttention(\n",
       "            (dropout): Dropout(p=0.2, inplace=False)\n",
       "            (q_lin): Linear(in_features=768, out_features=768, bias=True)\n",
       "            (k_lin): Linear(in_features=768, out_features=768, bias=True)\n",
       "            (v_lin): Linear(in_features=768, out_features=768, bias=True)\n",
       "            (out_lin): Linear(in_features=768, out_features=768, bias=True)\n",
       "          )\n",
       "          (sa_layer_norm): LayerNorm((768,), eps=1e-12, elementwise_affine=True)\n",
       "          (ffn): FFN(\n",
       "            (dropout): Dropout(p=0.2, inplace=False)\n",
       "            (lin1): Linear(in_features=768, out_features=3072, bias=True)\n",
       "            (lin2): Linear(in_features=3072, out_features=768, bias=True)\n",
       "            (activation): GELUActivation()\n",
       "          )\n",
       "          (output_layer_norm): LayerNorm((768,), eps=1e-12, elementwise_affine=True)\n",
       "        )\n",
       "      )\n",
       "    )\n",
       "  )\n",
       "  (dropout): Dropout(p=0.2, inplace=False)\n",
       "  (linear1): Linear(in_features=768, out_features=64, bias=True)\n",
       "  (ReLu): ReLU()\n",
       "  (linear2): Linear(in_features=64, out_features=5, bias=True)\n",
       ")"
      ]
     },
     "execution_count": 21,
     "metadata": {},
     "output_type": "execute_result"
    }
   ],
   "source": [
    "# Salve apenas os parâmetros do modelo, mas não o modelo em si, e recupere-o\n",
    "torch.save(model_pt.state_dict(), 'PyModel.sd')\n",
    "model_reloaded = DistilBertClassification()\n",
    "model_reloaded.load_state_dict(torch.load('PyModel.sd'))\n",
    "model_reloaded.eval()"
   ]
  },
  {
   "cell_type": "code",
   "execution_count": 22,
   "id": "0573e55c-d8c9-4071-88be-a5bcad55eb57",
   "metadata": {},
   "outputs": [
    {
     "data": {
      "text/plain": [
       "DistilBertClassification(\n",
       "  (dbert): DistilBertModel(\n",
       "    (embeddings): Embeddings(\n",
       "      (word_embeddings): Embedding(30522, 768, padding_idx=0)\n",
       "      (position_embeddings): Embedding(512, 768)\n",
       "      (LayerNorm): LayerNorm((768,), eps=1e-12, elementwise_affine=True)\n",
       "      (dropout): Dropout(p=0.2, inplace=False)\n",
       "    )\n",
       "    (transformer): Transformer(\n",
       "      (layer): ModuleList(\n",
       "        (0): TransformerBlock(\n",
       "          (attention): MultiHeadSelfAttention(\n",
       "            (dropout): Dropout(p=0.2, inplace=False)\n",
       "            (q_lin): Linear(in_features=768, out_features=768, bias=True)\n",
       "            (k_lin): Linear(in_features=768, out_features=768, bias=True)\n",
       "            (v_lin): Linear(in_features=768, out_features=768, bias=True)\n",
       "            (out_lin): Linear(in_features=768, out_features=768, bias=True)\n",
       "          )\n",
       "          (sa_layer_norm): LayerNorm((768,), eps=1e-12, elementwise_affine=True)\n",
       "          (ffn): FFN(\n",
       "            (dropout): Dropout(p=0.2, inplace=False)\n",
       "            (lin1): Linear(in_features=768, out_features=3072, bias=True)\n",
       "            (lin2): Linear(in_features=3072, out_features=768, bias=True)\n",
       "            (activation): GELUActivation()\n",
       "          )\n",
       "          (output_layer_norm): LayerNorm((768,), eps=1e-12, elementwise_affine=True)\n",
       "        )\n",
       "        (1): TransformerBlock(\n",
       "          (attention): MultiHeadSelfAttention(\n",
       "            (dropout): Dropout(p=0.2, inplace=False)\n",
       "            (q_lin): Linear(in_features=768, out_features=768, bias=True)\n",
       "            (k_lin): Linear(in_features=768, out_features=768, bias=True)\n",
       "            (v_lin): Linear(in_features=768, out_features=768, bias=True)\n",
       "            (out_lin): Linear(in_features=768, out_features=768, bias=True)\n",
       "          )\n",
       "          (sa_layer_norm): LayerNorm((768,), eps=1e-12, elementwise_affine=True)\n",
       "          (ffn): FFN(\n",
       "            (dropout): Dropout(p=0.2, inplace=False)\n",
       "            (lin1): Linear(in_features=768, out_features=3072, bias=True)\n",
       "            (lin2): Linear(in_features=3072, out_features=768, bias=True)\n",
       "            (activation): GELUActivation()\n",
       "          )\n",
       "          (output_layer_norm): LayerNorm((768,), eps=1e-12, elementwise_affine=True)\n",
       "        )\n",
       "        (2): TransformerBlock(\n",
       "          (attention): MultiHeadSelfAttention(\n",
       "            (dropout): Dropout(p=0.2, inplace=False)\n",
       "            (q_lin): Linear(in_features=768, out_features=768, bias=True)\n",
       "            (k_lin): Linear(in_features=768, out_features=768, bias=True)\n",
       "            (v_lin): Linear(in_features=768, out_features=768, bias=True)\n",
       "            (out_lin): Linear(in_features=768, out_features=768, bias=True)\n",
       "          )\n",
       "          (sa_layer_norm): LayerNorm((768,), eps=1e-12, elementwise_affine=True)\n",
       "          (ffn): FFN(\n",
       "            (dropout): Dropout(p=0.2, inplace=False)\n",
       "            (lin1): Linear(in_features=768, out_features=3072, bias=True)\n",
       "            (lin2): Linear(in_features=3072, out_features=768, bias=True)\n",
       "            (activation): GELUActivation()\n",
       "          )\n",
       "          (output_layer_norm): LayerNorm((768,), eps=1e-12, elementwise_affine=True)\n",
       "        )\n",
       "        (3): TransformerBlock(\n",
       "          (attention): MultiHeadSelfAttention(\n",
       "            (dropout): Dropout(p=0.2, inplace=False)\n",
       "            (q_lin): Linear(in_features=768, out_features=768, bias=True)\n",
       "            (k_lin): Linear(in_features=768, out_features=768, bias=True)\n",
       "            (v_lin): Linear(in_features=768, out_features=768, bias=True)\n",
       "            (out_lin): Linear(in_features=768, out_features=768, bias=True)\n",
       "          )\n",
       "          (sa_layer_norm): LayerNorm((768,), eps=1e-12, elementwise_affine=True)\n",
       "          (ffn): FFN(\n",
       "            (dropout): Dropout(p=0.2, inplace=False)\n",
       "            (lin1): Linear(in_features=768, out_features=3072, bias=True)\n",
       "            (lin2): Linear(in_features=3072, out_features=768, bias=True)\n",
       "            (activation): GELUActivation()\n",
       "          )\n",
       "          (output_layer_norm): LayerNorm((768,), eps=1e-12, elementwise_affine=True)\n",
       "        )\n",
       "        (4): TransformerBlock(\n",
       "          (attention): MultiHeadSelfAttention(\n",
       "            (dropout): Dropout(p=0.2, inplace=False)\n",
       "            (q_lin): Linear(in_features=768, out_features=768, bias=True)\n",
       "            (k_lin): Linear(in_features=768, out_features=768, bias=True)\n",
       "            (v_lin): Linear(in_features=768, out_features=768, bias=True)\n",
       "            (out_lin): Linear(in_features=768, out_features=768, bias=True)\n",
       "          )\n",
       "          (sa_layer_norm): LayerNorm((768,), eps=1e-12, elementwise_affine=True)\n",
       "          (ffn): FFN(\n",
       "            (dropout): Dropout(p=0.2, inplace=False)\n",
       "            (lin1): Linear(in_features=768, out_features=3072, bias=True)\n",
       "            (lin2): Linear(in_features=3072, out_features=768, bias=True)\n",
       "            (activation): GELUActivation()\n",
       "          )\n",
       "          (output_layer_norm): LayerNorm((768,), eps=1e-12, elementwise_affine=True)\n",
       "        )\n",
       "        (5): TransformerBlock(\n",
       "          (attention): MultiHeadSelfAttention(\n",
       "            (dropout): Dropout(p=0.2, inplace=False)\n",
       "            (q_lin): Linear(in_features=768, out_features=768, bias=True)\n",
       "            (k_lin): Linear(in_features=768, out_features=768, bias=True)\n",
       "            (v_lin): Linear(in_features=768, out_features=768, bias=True)\n",
       "            (out_lin): Linear(in_features=768, out_features=768, bias=True)\n",
       "          )\n",
       "          (sa_layer_norm): LayerNorm((768,), eps=1e-12, elementwise_affine=True)\n",
       "          (ffn): FFN(\n",
       "            (dropout): Dropout(p=0.2, inplace=False)\n",
       "            (lin1): Linear(in_features=768, out_features=3072, bias=True)\n",
       "            (lin2): Linear(in_features=3072, out_features=768, bias=True)\n",
       "            (activation): GELUActivation()\n",
       "          )\n",
       "          (output_layer_norm): LayerNorm((768,), eps=1e-12, elementwise_affine=True)\n",
       "        )\n",
       "      )\n",
       "    )\n",
       "  )\n",
       "  (dropout): Dropout(p=0.2, inplace=False)\n",
       "  (linear1): Linear(in_features=768, out_features=64, bias=True)\n",
       "  (ReLu): ReLU()\n",
       "  (linear2): Linear(in_features=64, out_features=5, bias=True)\n",
       ")"
      ]
     },
     "execution_count": 22,
     "metadata": {},
     "output_type": "execute_result"
    }
   ],
   "source": [
    "# Salve o modelo todo e recupere-o\n",
    "torch.save(model_pt, 'PyModelComplete.pt')\n",
    "model_reloaded2 = torch.load('PyModelComplete.pt')\n",
    "model_reloaded2.eval()"
   ]
  },
  {
   "cell_type": "markdown",
   "id": "510a6224-0317-4745-b9fe-7d76c3e35c0c",
   "metadata": {},
   "source": [
    "# O que você viu nessa aula?\n",
    "\n",
    "Nessa aula, apresentamos o BERT, um LLM que pode ser usado para várias tarefas em NLP. Dentre elas, apresentamos um caso para classificação de texto. "
   ]
  },
  {
   "cell_type": "code",
   "execution_count": null,
   "id": "46276c19-6002-4322-8e68-822516bbaba3",
   "metadata": {},
   "outputs": [],
   "source": []
  }
 ],
 "metadata": {
  "kernelspec": {
   "display_name": "Python 3 (ipykernel)",
   "language": "python",
   "name": "python3"
  },
  "language_info": {
   "codemirror_mode": {
    "name": "ipython",
    "version": 3
   },
   "file_extension": ".py",
   "mimetype": "text/x-python",
   "name": "python",
   "nbconvert_exporter": "python",
   "pygments_lexer": "ipython3",
   "version": "3.10.9"
  }
 },
 "nbformat": 4,
 "nbformat_minor": 5
}
