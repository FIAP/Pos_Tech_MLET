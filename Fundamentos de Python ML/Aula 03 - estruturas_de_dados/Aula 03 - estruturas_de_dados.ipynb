{
 "cells": [
  {
   "cell_type": "markdown",
   "metadata": {},
   "source": [
    "Métodos Essenciais das Listas\n",
    "\n",
    "Python oferece uma variedade de métodos para manipulação de listas, facilitando operações comuns:"
   ]
  },
  {
   "cell_type": "markdown",
   "metadata": {},
   "source": [
    "append(elemento): Adiciona um novo elemento ao final da lista."
   ]
  },
  {
   "cell_type": "code",
   "execution_count": 1,
   "metadata": {},
   "outputs": [
    {
     "name": "stdout",
     "output_type": "stream",
     "text": [
      "[1, 2, 3, 4]\n"
     ]
    }
   ],
   "source": [
    "numeros = [1, 2, 3]\n",
    "numeros.append(4)\n",
    "print(numeros)  # Saída: [1, 2, 3, 4]"
   ]
  },
  {
   "cell_type": "markdown",
   "metadata": {},
   "source": [
    "insert(indice, elemento): Insere um elemento em uma posição específica."
   ]
  },
  {
   "cell_type": "code",
   "execution_count": null,
   "metadata": {},
   "outputs": [],
   "source": [
    "frutas = [\"maçã\", \"laranja\"]\n",
    "frutas.insert(1, \"banana\")\n",
    "print(frutas)  # Saída: ['maçã', 'banana', 'laranja']\n"
   ]
  },
  {
   "cell_type": "markdown",
   "metadata": {},
   "source": [
    "remove(elemento): Remove a primeira ocorrência de um elemento na lista."
   ]
  },
  {
   "cell_type": "code",
   "execution_count": 2,
   "metadata": {},
   "outputs": [
    {
     "name": "stdout",
     "output_type": "stream",
     "text": [
      "['maçã', 'laranja', 'banana']\n"
     ]
    }
   ],
   "source": [
    "frutas = [\"maçã\", \"banana\", \"laranja\", \"banana\"]\n",
    "frutas.remove(\"banana\")\n",
    "print(frutas)  # Saída: ['maçã', 'laranja', 'banana']\n"
   ]
  },
  {
   "cell_type": "markdown",
   "metadata": {},
   "source": [
    "pop([indice]): Remove e retorna o elemento na posição especificada (ou o último elemento se nenhum índice for fornecido)."
   ]
  },
  {
   "cell_type": "code",
   "execution_count": 3,
   "metadata": {},
   "outputs": [
    {
     "name": "stdout",
     "output_type": "stream",
     "text": [
      "c\n",
      "['a', 'b', 'd']\n"
     ]
    }
   ],
   "source": [
    "itens = [\"a\", \"b\", \"c\", \"d\"]\n",
    "removido = itens.pop(2)\n",
    "print(removido)  # Saída: c\n",
    "print(itens)     # Saída: ['a', 'b', 'd']\n"
   ]
  },
  {
   "cell_type": "markdown",
   "metadata": {},
   "source": [
    "sort(): Ordena a lista in-place. Pode receber parâmetros como reverse=True para ordenação decrescente."
   ]
  },
  {
   "cell_type": "code",
   "execution_count": 4,
   "metadata": {},
   "outputs": [
    {
     "name": "stdout",
     "output_type": "stream",
     "text": [
      "[1, 2, 3, 4]\n"
     ]
    }
   ],
   "source": [
    "numeros = [3, 1, 4, 2]\n",
    "numeros.sort()\n",
    "print(numeros)  # Saída: [1, 2, 3, 4]\n"
   ]
  },
  {
   "cell_type": "markdown",
   "metadata": {},
   "source": [
    "reverse(): Inverte a ordem dos elementos na lista."
   ]
  },
  {
   "cell_type": "code",
   "execution_count": 5,
   "metadata": {},
   "outputs": [
    {
     "name": "stdout",
     "output_type": "stream",
     "text": [
      "['c', 'b', 'a']\n"
     ]
    }
   ],
   "source": [
    "letras = [\"a\", \"b\", \"c\"]\n",
    "letras.reverse()\n",
    "print(letras)  # Saída: ['c', 'b', 'a']\n"
   ]
  },
  {
   "cell_type": "markdown",
   "metadata": {},
   "source": [
    "Exemplos Aprofundados de Iteração, Filtragem e Compreensão de Listas\n",
    "A iteração e a filtragem são operações essenciais para trabalhar com listas. Através dos laços de repetição, você pode acessar cada elemento e aplicar transformações ou condições. Um recurso poderoso do Python é a compreensão de listas (list comprehension), que permite criar novas listas de forma concisa e legível.\n",
    "\n",
    "Exemplo de Iteração:"
   ]
  },
  {
   "cell_type": "code",
   "execution_count": 7,
   "metadata": {},
   "outputs": [
    {
     "name": "stdout",
     "output_type": "stream",
     "text": [
      "Olá, Pedro!\n",
      "Olá, Lucas!\n",
      "Olá, Henrique!\n"
     ]
    }
   ],
   "source": [
    "# Iterando sobre uma lista para imprimir cada elemento\n",
    "nomes = [\"Pedro\", \"Lucas\",\"Henrique\"]\n",
    "for nome in nomes:\n",
    "    print(f\"Olá, {nome}!\")"
   ]
  },
  {
   "cell_type": "markdown",
   "metadata": {},
   "source": [
    "Exemplo de Filtragem:"
   ]
  },
  {
   "cell_type": "code",
   "execution_count": 8,
   "metadata": {},
   "outputs": [
    {
     "name": "stdout",
     "output_type": "stream",
     "text": [
      "Números pares: [2, 4, 6, 8, 10]\n"
     ]
    }
   ],
   "source": [
    "# Filtrando números pares em uma lista\n",
    "numeros = [1, 2, 3, 4, 5, 6, 7, 8, 9, 10]\n",
    "pares = []\n",
    "for numero in numeros:\n",
    "    if numero % 2 == 0:\n",
    "        pares.append(numero)\n",
    "print(\"Números pares:\", pares)"
   ]
  },
  {
   "cell_type": "markdown",
   "metadata": {},
   "source": [
    "Exemplo com Compreensão de Listas:"
   ]
  },
  {
   "cell_type": "code",
   "execution_count": 9,
   "metadata": {},
   "outputs": [
    {
     "name": "stdout",
     "output_type": "stream",
     "text": [
      "Quadrados dos números pares: [4, 16, 36, 64, 100]\n"
     ]
    }
   ],
   "source": [
    "# Criando uma nova lista com os quadrados dos números pares\n",
    "quadrados_pares = [numero**2 for numero in numeros if numero % 2 == 0]\n",
    "print(\"Quadrados dos números pares:\", quadrados_pares)"
   ]
  },
  {
   "cell_type": "markdown",
   "metadata": {},
   "source": [
    "Criação de Tuplas:\n",
    "\n",
    "Você pode criar uma tupla simplesmente listando seus elementos entre parênteses."
   ]
  },
  {
   "cell_type": "code",
   "execution_count": 12,
   "metadata": {},
   "outputs": [
    {
     "name": "stdout",
     "output_type": "stream",
     "text": [
      "Tupla de cores: ('vermelho', 'verde', 'azul')\n"
     ]
    }
   ],
   "source": [
    "# Criação de uma tupla de cores\n",
    "cores = (\"vermelho\", \"verde\", \"azul\")\n",
    "print(\"Tupla de cores:\", cores)"
   ]
  },
  {
   "cell_type": "markdown",
   "metadata": {},
   "source": [
    "Acesso por Índice:\n",
    "\n",
    "Como as listas, as tuplas são indexadas, permitindo acessar elementos individuais com base na posição."
   ]
  },
  {
   "cell_type": "code",
   "execution_count": 13,
   "metadata": {},
   "outputs": [
    {
     "name": "stdout",
     "output_type": "stream",
     "text": [
      "Primeira cor: vermelho\n",
      "Última cor: azul\n"
     ]
    }
   ],
   "source": [
    "# Acessando elementos da tupla\n",
    "print(\"Primeira cor:\", cores[0])    # Saída: vermelho\n",
    "print(\"Última cor:\", cores[-1])     # Saída: azul\n"
   ]
  },
  {
   "cell_type": "markdown",
   "metadata": {},
   "source": [
    "Iteração sobre Tuplas:\n",
    "\n",
    "Você pode iterar facilmente sobre os elementos de uma tupla utilizando um laço de repetição."
   ]
  },
  {
   "cell_type": "code",
   "execution_count": 14,
   "metadata": {},
   "outputs": [
    {
     "name": "stdout",
     "output_type": "stream",
     "text": [
      "A cor atual é: vermelho\n",
      "A cor atual é: verde\n",
      "A cor atual é: azul\n"
     ]
    }
   ],
   "source": [
    "# Iterando sobre a tupla de cores\n",
    "for cor in cores:\n",
    "    print(f\"A cor atual é: {cor}\")"
   ]
  },
  {
   "cell_type": "markdown",
   "metadata": {},
   "source": [
    "Dicionários\n",
    "\n",
    "Criação e Acesso:\n"
   ]
  },
  {
   "cell_type": "code",
   "execution_count": 19,
   "metadata": {},
   "outputs": [
    {
     "name": "stdout",
     "output_type": "stream",
     "text": [
      "Dicionário: {'nome': 'Ana', 'idade': 28, 'cidade': 'Curitiba'}\n",
      "Nome: Ana\n"
     ]
    }
   ],
   "source": [
    "# Criação de um dicionário com informações de uma pessoa\n",
    "pessoa = {\"nome\": \"Ana\", \"idade\": 28, \"cidade\": \"Curitiba\"}\n",
    "print(\"Dicionário:\", pessoa)\n",
    "\n",
    "# Acessando o valor associado à chave \"nome\"\n",
    "print(\"Nome:\", pessoa[\"nome\"])\n"
   ]
  },
  {
   "cell_type": "markdown",
   "metadata": {},
   "source": [
    "Atualização e Adição:"
   ]
  },
  {
   "cell_type": "code",
   "execution_count": 20,
   "metadata": {},
   "outputs": [
    {
     "name": "stdout",
     "output_type": "stream",
     "text": [
      "Dicionário atualizado: {'nome': 'Ana', 'idade': 29, 'cidade': 'Curitiba', 'profissão': 'Engenheira'}\n"
     ]
    }
   ],
   "source": [
    "# Atualizando um valor existente\n",
    "pessoa[\"idade\"] = 29\n",
    "# Adicionando uma nova chave-valor\n",
    "pessoa[\"profissão\"] = \"Engenheira\"\n",
    "print(\"Dicionário atualizado:\", pessoa)\n"
   ]
  },
  {
   "cell_type": "markdown",
   "metadata": {},
   "source": [
    "Iteração:"
   ]
  },
  {
   "cell_type": "code",
   "execution_count": 21,
   "metadata": {},
   "outputs": [
    {
     "name": "stdout",
     "output_type": "stream",
     "text": [
      "Chave: nome\n",
      "Chave: idade\n",
      "Chave: cidade\n",
      "Chave: profissão\n",
      "Valor: Ana\n",
      "Valor: 29\n",
      "Valor: Curitiba\n",
      "Valor: Engenheira\n",
      "nome: Ana\n",
      "idade: 29\n",
      "cidade: Curitiba\n",
      "profissão: Engenheira\n"
     ]
    }
   ],
   "source": [
    "# Iterando sobre as chaves\n",
    "for chave in pessoa.keys():\n",
    "    print(\"Chave:\", chave)\n",
    "\n",
    "# Iterando sobre os valores\n",
    "for valor in pessoa.values():\n",
    "    print(\"Valor:\", valor)\n",
    "\n",
    "# Iterando sobre ambos, chaves e valores\n",
    "for chave, valor in pessoa.items():\n",
    "    print(f\"{chave}: {valor}\")"
   ]
  },
  {
   "cell_type": "markdown",
   "metadata": {},
   "source": [
    "SETS\n",
    "\n",
    "Criação e Propriedades Básicas"
   ]
  },
  {
   "cell_type": "code",
   "execution_count": 22,
   "metadata": {},
   "outputs": [
    {
     "name": "stdout",
     "output_type": "stream",
     "text": [
      "Set de números: {1, 2, 3}\n"
     ]
    }
   ],
   "source": [
    "# Criação de um set com números, onde elementos duplicados são automaticamente removidos\n",
    "numeros = {1, 2, 3, 3, 2, 1}\n",
    "print(\"Set de números:\", numeros)  # Saída: {1, 2, 3}\n"
   ]
  },
  {
   "cell_type": "markdown",
   "metadata": {},
   "source": [
    "Adição e Remoção:"
   ]
  },
  {
   "cell_type": "code",
   "execution_count": 23,
   "metadata": {},
   "outputs": [
    {
     "name": "stdout",
     "output_type": "stream",
     "text": [
      "Após adicionar 4: {1, 2, 3, 4}\n",
      "Após remover 2: {1, 3, 4}\n"
     ]
    }
   ],
   "source": [
    "# Adicionando um novo elemento ao set\n",
    "numeros.add(4)\n",
    "print(\"Após adicionar 4:\", numeros)\n",
    "\n",
    "# Removendo um elemento (se não existir, não gera erro com discard)\n",
    "numeros.discard(2)\n",
    "print(\"Após remover 2:\", numeros)\n"
   ]
  },
  {
   "cell_type": "markdown",
   "metadata": {},
   "source": [
    "Operações de Conjunto:"
   ]
  },
  {
   "cell_type": "code",
   "execution_count": 24,
   "metadata": {},
   "outputs": [
    {
     "name": "stdout",
     "output_type": "stream",
     "text": [
      "União: {1, 2, 3, 4, 5}\n",
      "Interseção: {3}\n",
      "Diferença: {1, 2}\n"
     ]
    }
   ],
   "source": [
    "conjunto1 = {1, 2, 3}\n",
    "conjunto2 = {3, 4, 5}\n",
    "\n",
    "# União: elementos presentes em qualquer um dos sets\n",
    "uniao = conjunto1.union(conjunto2)\n",
    "print(\"União:\", uniao)\n",
    "\n",
    "# Interseção: elementos presentes em ambos os sets\n",
    "interseccao = conjunto1.intersection(conjunto2)\n",
    "print(\"Interseção:\", interseccao)\n",
    "\n",
    "# Diferença: elementos que estão em conjunto1 mas não em conjunto2\n",
    "diferenca = conjunto1.difference(conjunto2)\n",
    "print(\"Diferença:\", diferenca)\n"
   ]
  },
  {
   "cell_type": "markdown",
   "metadata": {},
   "source": [
    "Exemplo Integrado\n",
    "\n",
    "Imagine que você tenha uma lista de transações com possíveis duplicidades e queira agrupar os dados de clientes únicos, extraindo informações relevantes:"
   ]
  },
  {
   "cell_type": "code",
   "execution_count": 25,
   "metadata": {},
   "outputs": [
    {
     "name": "stdout",
     "output_type": "stream",
     "text": [
      "Clientes únicos: {'Carlos', 'Bruno', 'Ana'}\n",
      "Gastos por cliente: {'Ana': 500, 'Bruno': 150, 'Carlos': 400}\n"
     ]
    }
   ],
   "source": [
    "# Lista de transações com dados repetidos de clientes\n",
    "transacoes = [\n",
    "    {\"cliente\": \"Ana\", \"valor\": 200},\n",
    "    {\"cliente\": \"Bruno\", \"valor\": 150},\n",
    "    {\"cliente\": \"Ana\", \"valor\": 300},\n",
    "    {\"cliente\": \"Carlos\", \"valor\": 400},\n",
    "]\n",
    "\n",
    "# Utilizando um set para coletar nomes únicos dos clientes\n",
    "clientes_unicos = {transacao[\"cliente\"] for transacao in transacoes}\n",
    "print(\"Clientes únicos:\", clientes_unicos)\n",
    "\n",
    "# Criando um dicionário para agrupar o total gasto por cada cliente\n",
    "gastos_por_cliente = {}\n",
    "for transacao in transacoes:\n",
    "    cliente = transacao[\"cliente\"]\n",
    "    valor = transacao[\"valor\"]\n",
    "    gastos_por_cliente[cliente] = gastos_por_cliente.get(cliente, 0) + valor\n",
    "\n",
    "print(\"Gastos por cliente:\", gastos_por_cliente)\n"
   ]
  }
 ],
 "metadata": {
  "kernelspec": {
   "display_name": "Python 3",
   "language": "python",
   "name": "python3"
  },
  "language_info": {
   "codemirror_mode": {
    "name": "ipython",
    "version": 3
   },
   "file_extension": ".py",
   "mimetype": "text/x-python",
   "name": "python",
   "nbconvert_exporter": "python",
   "pygments_lexer": "ipython3",
   "version": "3.13.2"
  }
 },
 "nbformat": 4,
 "nbformat_minor": 2
}
