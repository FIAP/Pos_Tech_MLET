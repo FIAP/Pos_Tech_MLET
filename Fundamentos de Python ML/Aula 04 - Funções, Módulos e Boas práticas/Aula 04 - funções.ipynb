{
 "cells": [
  {
   "cell_type": "markdown",
   "metadata": {},
   "source": [
    "Exemplo Simples de Função (Sem Docstring)\n",
    "\n",
    "Um exemplo básico de função, sem a documentação formal, pode ser visto abaixo:"
   ]
  },
  {
   "cell_type": "code",
   "execution_count": 1,
   "metadata": {},
   "outputs": [
    {
     "name": "stdout",
     "output_type": "stream",
     "text": [
      "Resultado da soma: 7\n"
     ]
    }
   ],
   "source": [
    "def somar(a, b):\n",
    "    return a + b\n",
    "\n",
    "# Uso da função\n",
    "resultado = somar(3, 4)\n",
    "print(\"Resultado da soma:\", resultado)\n"
   ]
  },
  {
   "cell_type": "markdown",
   "metadata": {},
   "source": [
    "Exemplo de função com docstring:"
   ]
  },
  {
   "cell_type": "code",
   "execution_count": 2,
   "metadata": {},
   "outputs": [
    {
     "name": "stdout",
     "output_type": "stream",
     "text": [
      "Média: 30.0\n"
     ]
    }
   ],
   "source": [
    "def calcular_media(numeros):\n",
    "    \"\"\"\n",
    "    Calcula a média de uma lista de números.\n",
    "\n",
    "    Parâmetros:\n",
    "        numeros (list): Lista contendo números (int ou float).\n",
    "\n",
    "    Retorna:\n",
    "        float: A média dos valores na lista.\n",
    "    \"\"\"\n",
    "    if not numeros:\n",
    "        return 0\n",
    "    return sum(numeros) / len(numeros)\n",
    "\n",
    "# Uso da função\n",
    "valores = [10, 20, 30, 40, 50]\n",
    "print(\"Média:\", calcular_media(valores))\n"
   ]
  },
  {
   "cell_type": "markdown",
   "metadata": {},
   "source": []
  }
 ],
 "metadata": {
  "kernelspec": {
   "display_name": "Python 3",
   "language": "python",
   "name": "python3"
  },
  "language_info": {
   "codemirror_mode": {
    "name": "ipython",
    "version": 3
   },
   "file_extension": ".py",
   "mimetype": "text/x-python",
   "name": "python",
   "nbconvert_exporter": "python",
   "pygments_lexer": "ipython3",
   "version": "3.13.2"
  }
 },
 "nbformat": 4,
 "nbformat_minor": 2
}
