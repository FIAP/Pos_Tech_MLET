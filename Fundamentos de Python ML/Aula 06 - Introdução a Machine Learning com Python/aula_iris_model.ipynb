{
 "cells": [
  {
   "cell_type": "markdown",
   "metadata": {},
   "source": [
    "Passo a Passo: Construindo um Modelo de Classificação com o Dataset Iris\n"
   ]
  },
  {
   "cell_type": "markdown",
   "metadata": {},
   "source": [
    "\n",
    "\n",
    "1. Importação de Bibliotecas e Carregamento dos Dados\n",
    "Primeiro, vamos importar as bibliotecas necessárias e carregar o dataset Iris utilizando o scikit-learn. Além disso, converteremos os dados para um DataFrame do Pandas para facilitar a análise exploratória."
   ]
  },
  {
   "cell_type": "code",
   "execution_count": 3,
   "metadata": {},
   "outputs": [
    {
     "name": "stdout",
     "output_type": "stream",
     "text": [
      "Collecting scikit-learn\n",
      "  Downloading scikit_learn-1.6.1-cp313-cp313-win_amd64.whl.metadata (15 kB)\n",
      "Requirement already satisfied: numpy>=1.19.5 in c:\\users\\ioann\\appdata\\local\\programs\\python\\python313\\lib\\site-packages (from scikit-learn) (2.2.2)\n",
      "Collecting scipy>=1.6.0 (from scikit-learn)\n",
      "  Downloading scipy-1.15.1-cp313-cp313-win_amd64.whl.metadata (60 kB)\n",
      "Collecting joblib>=1.2.0 (from scikit-learn)\n",
      "  Downloading joblib-1.4.2-py3-none-any.whl.metadata (5.4 kB)\n",
      "Collecting threadpoolctl>=3.1.0 (from scikit-learn)\n",
      "  Downloading threadpoolctl-3.5.0-py3-none-any.whl.metadata (13 kB)\n",
      "Downloading scikit_learn-1.6.1-cp313-cp313-win_amd64.whl (11.1 MB)\n",
      "   ---------------------------------------- 0.0/11.1 MB ? eta -:--:--\n",
      "   ---------------- ----------------------- 4.5/11.1 MB 22.3 MB/s eta 0:00:01\n",
      "   ----------------------------- ---------- 8.1/11.1 MB 20.4 MB/s eta 0:00:01\n",
      "   ---------------------------------------- 11.1/11.1 MB 18.7 MB/s eta 0:00:00\n",
      "Downloading joblib-1.4.2-py3-none-any.whl (301 kB)\n",
      "Downloading scipy-1.15.1-cp313-cp313-win_amd64.whl (43.6 MB)\n",
      "   ---------------------------------------- 0.0/43.6 MB ? eta -:--:--\n",
      "   --- ------------------------------------ 3.4/43.6 MB 16.8 MB/s eta 0:00:03\n",
      "   ----- ---------------------------------- 5.5/43.6 MB 13.7 MB/s eta 0:00:03\n",
      "   ------- -------------------------------- 7.9/43.6 MB 12.8 MB/s eta 0:00:03\n",
      "   --------- ------------------------------ 10.5/43.6 MB 12.7 MB/s eta 0:00:03\n",
      "   ----------- ---------------------------- 12.8/43.6 MB 12.5 MB/s eta 0:00:03\n",
      "   ------------ --------------------------- 14.2/43.6 MB 11.6 MB/s eta 0:00:03\n",
      "   -------------- ------------------------- 16.3/43.6 MB 11.4 MB/s eta 0:00:03\n",
      "   ---------------- ----------------------- 18.4/43.6 MB 11.2 MB/s eta 0:00:03\n",
      "   ------------------ --------------------- 20.2/43.6 MB 11.1 MB/s eta 0:00:03\n",
      "   -------------------- ------------------- 22.5/43.6 MB 11.1 MB/s eta 0:00:02\n",
      "   ----------------------- ---------------- 25.2/43.6 MB 11.2 MB/s eta 0:00:02\n",
      "   ------------------------ --------------- 26.7/43.6 MB 10.9 MB/s eta 0:00:02\n",
      "   ------------------------- -------------- 28.3/43.6 MB 10.7 MB/s eta 0:00:02\n",
      "   --------------------------- ------------ 29.6/43.6 MB 10.4 MB/s eta 0:00:02\n",
      "   ----------------------------- ---------- 32.2/43.6 MB 10.6 MB/s eta 0:00:02\n",
      "   -------------------------------- ------- 35.4/43.6 MB 10.8 MB/s eta 0:00:01\n",
      "   ----------------------------------- ---- 38.3/43.6 MB 11.1 MB/s eta 0:00:01\n",
      "   -------------------------------------- - 41.9/43.6 MB 11.4 MB/s eta 0:00:01\n",
      "   ---------------------------------------- 43.6/43.6 MB 11.3 MB/s eta 0:00:00\n",
      "Downloading threadpoolctl-3.5.0-py3-none-any.whl (18 kB)\n",
      "Installing collected packages: threadpoolctl, scipy, joblib, scikit-learn\n",
      "Successfully installed joblib-1.4.2 scikit-learn-1.6.1 scipy-1.15.1 threadpoolctl-3.5.0\n",
      "Note: you may need to restart the kernel to use updated packages.\n"
     ]
    },
    {
     "name": "stderr",
     "output_type": "stream",
     "text": [
      "\n",
      "[notice] A new release of pip is available: 24.3.1 -> 25.0\n",
      "[notice] To update, run: python.exe -m pip install --upgrade pip\n"
     ]
    }
   ],
   "source": [
    "%pip install scikit-learn"
   ]
  },
  {
   "cell_type": "code",
   "execution_count": 4,
   "metadata": {},
   "outputs": [
    {
     "name": "stdout",
     "output_type": "stream",
     "text": [
      "   sepal length (cm)  sepal width (cm)  petal length (cm)  petal width (cm)  \\\n",
      "0                5.1               3.5                1.4               0.2   \n",
      "1                4.9               3.0                1.4               0.2   \n",
      "2                4.7               3.2                1.3               0.2   \n",
      "3                4.6               3.1                1.5               0.2   \n",
      "4                5.0               3.6                1.4               0.2   \n",
      "\n",
      "   target species  \n",
      "0       0  setosa  \n",
      "1       0  setosa  \n",
      "2       0  setosa  \n",
      "3       0  setosa  \n",
      "4       0  setosa  \n"
     ]
    }
   ],
   "source": [
    "import numpy as np\n",
    "import pandas as pd\n",
    "import matplotlib.pyplot as plt\n",
    "import seaborn as sns\n",
    "\n",
    "from sklearn.datasets import load_iris\n",
    "from sklearn.model_selection import train_test_split\n",
    "from sklearn.preprocessing import StandardScaler\n",
    "from sklearn.linear_model import LogisticRegression\n",
    "from sklearn.metrics import accuracy_score, confusion_matrix, classification_report\n",
    "\n",
    "# Carregando o dataset Iris\n",
    "iris = load_iris()\n",
    "# Convertendo para DataFrame\n",
    "df = pd.DataFrame(data=iris.data, columns=iris.feature_names)\n",
    "df['target'] = iris.target\n",
    "df['species'] = df['target'].apply(lambda x: iris.target_names[x])\n",
    "\n",
    "# Exibindo as primeiras linhas do DataFrame\n",
    "print(df.head())\n"
   ]
  },
  {
   "cell_type": "markdown",
   "metadata": {},
   "source": [
    "2. Análise Exploratória dos Dados (EDA)\n",
    "\n",
    "Realize uma análise exploratória para entender a distribuição dos dados e identificar padrões. Aqui, vamos visualizar estatísticas descritivas e criar alguns gráficos."
   ]
  },
  {
   "cell_type": "code",
   "execution_count": null,
   "metadata": {},
   "outputs": [],
   "source": [
    "# Estatísticas descritivas\n",
    "print(df.describe())\n",
    "\n",
    "# Contagem de cada espécie\n",
    "sns.countplot(data=df, x='species')\n",
    "plt.title(\"Distribuição das Espécies\")\n",
    "plt.show()\n",
    "\n",
    "# Pairplot para visualizar as relações entre as features e as espécies\n",
    "sns.pairplot(df, hue='species')\n",
    "plt.suptitle(\"Pairplot do Dataset Iris\", y=1.02)\n",
    "plt.show()\n"
   ]
  }
 ],
 "metadata": {
  "kernelspec": {
   "display_name": "Python 3",
   "language": "python",
   "name": "python3"
  },
  "language_info": {
   "codemirror_mode": {
    "name": "ipython",
    "version": 3
   },
   "file_extension": ".py",
   "mimetype": "text/x-python",
   "name": "python",
   "nbconvert_exporter": "python",
   "pygments_lexer": "ipython3",
   "version": "3.13.2"
  }
 },
 "nbformat": 4,
 "nbformat_minor": 2
}
